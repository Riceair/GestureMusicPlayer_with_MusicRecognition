{
 "cells": [
  {
   "cell_type": "code",
   "execution_count": 1,
   "id": "baking-fitness",
   "metadata": {},
   "outputs": [],
   "source": [
    "import numpy as np\n",
    "import random\n",
    "import cv2\n",
    "import os\n",
    "\n",
    "from tensorflow import keras\n",
    "from keras.layers import *\n",
    "from keras.models import *\n",
    "from keras.optimizers import *\n",
    "\n",
    "from keras.utils import np_utils\n",
    "from sklearn.model_selection import train_test_split, StratifiedKFold\n",
    "from sklearn.metrics import confusion_matrix, roc_auc_score\n",
    "import tensorflow as tf"
   ]
  },
  {
   "cell_type": "markdown",
   "id": "social-tract",
   "metadata": {},
   "source": [
    "### 讀取頻譜圖路徑"
   ]
  },
  {
   "cell_type": "code",
   "execution_count": 2,
   "id": "russian-cliff",
   "metadata": {},
   "outputs": [
    {
     "name": "stdout",
     "output_type": "stream",
     "text": [
      "['Blue', 'Classical', 'Country', 'Disco', 'EDM', 'Hiphop', 'Jazz', 'Metal', 'Pop', 'Reggae'] ['Blue', 'Classical', 'Country', 'Disco', 'EDM', 'Hiphop', 'Jazz', 'Metal', 'Pop', 'Reggae']\n"
     ]
    }
   ],
   "source": [
    "mfcc_path = \"ImageData/augmentation/mfcc\" #original augmentation\n",
    "spect_path = \"ImageData/augmentation/spectrogram\" #original augmentation\n",
    "model_save_dir = \"Model/ms_mfcc_model\"\n",
    "model_name = \"MS_and_MFCC_AUG\" #AUG\n",
    "HIS_SHOW = False #是否show出訓練的history loss\n",
    "epochs = 20\n",
    "fold_num = 10\n",
    "batch_size = 4\n",
    "mfcc_folder_names = os.listdir(mfcc_path)\n",
    "spect_folder_names = os.listdir(spect_path)\n",
    "print(mfcc_folder_names, spect_folder_names)"
   ]
  },
  {
   "cell_type": "code",
   "execution_count": 3,
   "id": "hydraulic-given",
   "metadata": {},
   "outputs": [
    {
     "name": "stdout",
     "output_type": "stream",
     "text": [
      "class count:  10\n",
      "class file count:  [20, 20, 20, 20, 20, 20, 20, 20, 20, 20]\n"
     ]
    }
   ],
   "source": [
    "folders=[] #儲存各類別資料夾中的檔案名稱\n",
    "for folder in spect_folder_names:\n",
    "    file_names=[]\n",
    "    for file_name in os.listdir(spect_path+\"/\"+folder):\n",
    "        file_names.append([spect_path+\"/\"+folder+\"/\"+file_name, mfcc_path+\"/\"+folder+\"/\"+file_name]) #加入mel 、mfcc路徑\n",
    "    folders.append(file_names)\n",
    "\n",
    "class_count_list = [len(files) for files in folders] #紀錄每個類別各有多少檔案(後面會用到)\n",
    "print(\"class count: \", len(folders))\n",
    "print(\"class file count: \", class_count_list)"
   ]
  },
  {
   "cell_type": "code",
   "execution_count": 4,
   "id": "addressed-danger",
   "metadata": {},
   "outputs": [
    {
     "name": "stdout",
     "output_type": "stream",
     "text": [
      "200\n",
      "['ImageData/spectrogram/Blue/Blue000.png', 'ImageData/mfcc/Blue/Blue000.png']\n"
     ]
    }
   ],
   "source": [
    "Data_names = []\n",
    "for folder in folders:\n",
    "    for names in folder:\n",
    "        Data_names.append(names)\n",
    "print(len(Data_names))\n",
    "print(Data_names[0])"
   ]
  },
  {
   "cell_type": "markdown",
   "id": "through-shuttle",
   "metadata": {},
   "source": [
    "### 製作Label"
   ]
  },
  {
   "cell_type": "code",
   "execution_count": 5,
   "id": "finite-balance",
   "metadata": {},
   "outputs": [],
   "source": [
    "Label = []\n",
    "for l, class_count in enumerate(class_count_list):\n",
    "    for _ in range(class_count):\n",
    "        Label.append(np.ones(1)*l)\n",
    "Label = np.array(Label)"
   ]
  },
  {
   "cell_type": "markdown",
   "id": "synthetic-eating",
   "metadata": {},
   "source": [
    "### Data Generator定義"
   ]
  },
  {
   "cell_type": "code",
   "execution_count": 6,
   "id": "chief-cooking",
   "metadata": {},
   "outputs": [],
   "source": [
    "class DataGenerator:\n",
    "    def __init__(self, data, label, batch_size=16):\n",
    "        self.data = data\n",
    "        self.label = label\n",
    "        self.batch_size = batch_size\n",
    "        self.steps = len(data)//self.batch_size\n",
    "        if len(self.data) % self.batch_size != 0:\n",
    "            self.steps += 1\n",
    "    def __len__(self):\n",
    "        return self.steps\n",
    "    def __iter__(self):\n",
    "        while True:\n",
    "            #idxs = list(range(len(self.data)))\n",
    "            #np.random.shuffle(idxs)\n",
    "            X1, X2, Y = [], [], []\n",
    "            for i in range(len(self.data)):\n",
    "                name = self.data[i]\n",
    "                x1 = cv2.imread(name[0]) #從路徑讀入spectogram和mfcc圖片\n",
    "                x2 = cv2.imread(name[1])\n",
    "                x1 = cv2.resize(x1, (224, 224))\n",
    "                x2 = cv2.resize(x2, (224, 224))\n",
    "                y = self.label[i]\n",
    "                X1.append(x1)\n",
    "                X2.append(x2)\n",
    "                Y.append(y)\n",
    "                if len(X1) == self.batch_size or i == len(self.data)-1:\n",
    "                    X1 = np.array(X1)\n",
    "                    X2 = np.array(X2)\n",
    "                    Y = np.array(Y)\n",
    "                    yield [X1, X2], Y\n",
    "                    X1, X2, Y = [], [], []"
   ]
  },
  {
   "cell_type": "markdown",
   "id": "alert-startup",
   "metadata": {},
   "source": [
    "### 模型定義函數"
   ]
  },
  {
   "cell_type": "code",
   "execution_count": 7,
   "id": "indian-imaging",
   "metadata": {},
   "outputs": [],
   "source": [
    "def CONV(inputs):\n",
    "    x = Conv2D(64, (7,3), activation='relu', padding = 'same')(inputs)\n",
    "    x = Dropout(0.03)(x)\n",
    "    x = MaxPooling2D(pool_size=(2, 2), strides=(2, 2))(x)\n",
    "    x = Conv2D(128, (3,3), activation='relu', padding = 'same')(x)\n",
    "    x = Dropout(0.03)(x)\n",
    "    x = MaxPooling2D(pool_size=(2, 2), strides=(2, 2))(x)\n",
    "    x = Conv2D(256, (3,3), activation='relu', padding = 'same')(x)\n",
    "    x = Dropout(0.03)(x)\n",
    "    x = MaxPooling2D(pool_size=(2, 2), strides=(2, 2))(x)\n",
    "    x = Conv2D(512, (3,3), activation='relu', padding = 'same')(x)\n",
    "    x = Dropout(0.03)(x)\n",
    "    x = MaxPooling2D(pool_size=(2, 2), strides=(2, 2))(x)\n",
    "    x = Flatten()(x)\n",
    "    return x"
   ]
  },
  {
   "cell_type": "code",
   "execution_count": 8,
   "id": "competent-margin",
   "metadata": {},
   "outputs": [],
   "source": [
    "def create_new_model():\n",
    "    input_shape = (224, 224, 3)\n",
    "    output_dim = len(folders)\n",
    "\n",
    "    spect_inputs = Input(shape=input_shape)\n",
    "    mfcc_inputs = Input(shape=input_shape)\n",
    "\n",
    "    spect_outputs = CONV(spect_inputs)\n",
    "    mfcc_outputs = CONV(mfcc_inputs)\n",
    "    x = Concatenate()([spect_outputs, mfcc_outputs])\n",
    "    \n",
    "    x = Dense(256, activation='relu')(x)\n",
    "    x = Dense(128, activation='relu')(x)\n",
    "    outputs = Dense(output_dim, activation='softmax')(x)\n",
    "\n",
    "    model=Model([spect_inputs, mfcc_inputs],outputs)\n",
    "    return model"
   ]
  },
  {
   "cell_type": "code",
   "execution_count": 9,
   "id": "japanese-appendix",
   "metadata": {},
   "outputs": [],
   "source": [
    "import matplotlib.pyplot as plt\n",
    "def show_train_history(train_history, train, validation):\n",
    "    plt.plot(train_history.history[train])\n",
    "    plt.plot(train_history.history[validation])\n",
    "    plt.title('Train History')\n",
    "    plt.ylabel(train)\n",
    "    plt.xlabel('Epoch')\n",
    "    plt.legend(['train', 'validation'], loc='upper left')\n",
    "    plt.show()"
   ]
  },
  {
   "cell_type": "markdown",
   "id": "floppy-waterproof",
   "metadata": {},
   "source": [
    "### 資料切割(Train and Test)"
   ]
  },
  {
   "cell_type": "code",
   "execution_count": 10,
   "id": "australian-california",
   "metadata": {},
   "outputs": [],
   "source": [
    "seed =  random.randint(0, 1000**2)\n",
    "X_train_names, X_test_names, y_train, y_test = train_test_split(Data_names, Label, test_size=0.3,\n",
    "                                                    random_state=seed, stratify = Label)\n",
    "y_test_onehot = np_utils.to_categorical(y_test)"
   ]
  },
  {
   "cell_type": "markdown",
   "id": "occupied-agriculture",
   "metadata": {},
   "source": [
    "### Stratified K-fold"
   ]
  },
  {
   "cell_type": "code",
   "execution_count": 11,
   "id": "unusual-formula",
   "metadata": {},
   "outputs": [
    {
     "name": "stdout",
     "output_type": "stream",
     "text": [
      "Epoch 1/20\n",
      "32/32 [==============================] - 10s 202ms/step - loss: 51.6192 - accuracy: 0.1164 - val_loss: 1.6882 - val_accuracy: 0.4286\n",
      "Epoch 2/20\n",
      "32/32 [==============================] - 4s 138ms/step - loss: 2.1712 - accuracy: 0.2119 - val_loss: 1.6295 - val_accuracy: 0.3571\n",
      "Epoch 3/20\n",
      "32/32 [==============================] - 4s 138ms/step - loss: 1.7395 - accuracy: 0.4191 - val_loss: 1.4303 - val_accuracy: 0.5000\n",
      "Epoch 4/20\n",
      "32/32 [==============================] - 4s 137ms/step - loss: 1.4812 - accuracy: 0.4891 - val_loss: 1.5196 - val_accuracy: 0.4286\n",
      "Epoch 5/20\n",
      "32/32 [==============================] - 4s 137ms/step - loss: 1.1208 - accuracy: 0.6362 - val_loss: 1.3885 - val_accuracy: 0.4286\n",
      "Epoch 6/20\n",
      "32/32 [==============================] - 4s 138ms/step - loss: 0.9854 - accuracy: 0.6879 - val_loss: 1.5708 - val_accuracy: 0.4286\n",
      "Epoch 7/20\n",
      "32/32 [==============================] - 4s 138ms/step - loss: 0.8121 - accuracy: 0.7674 - val_loss: 1.5961 - val_accuracy: 0.4286\n",
      "Epoch 8/20\n",
      "32/32 [==============================] - 4s 138ms/step - loss: 0.7326 - accuracy: 0.7066 - val_loss: 1.7995 - val_accuracy: 0.4286\n",
      "Epoch 9/20\n",
      "32/32 [==============================] - 4s 138ms/step - loss: 0.6945 - accuracy: 0.7327 - val_loss: 1.4668 - val_accuracy: 0.4286\n",
      "Epoch 10/20\n",
      "32/32 [==============================] - 4s 138ms/step - loss: 0.4936 - accuracy: 0.8575 - val_loss: 1.9607 - val_accuracy: 0.5000\n",
      "Epoch 11/20\n",
      "32/32 [==============================] - 4s 139ms/step - loss: 0.7247 - accuracy: 0.7638 - val_loss: 1.6550 - val_accuracy: 0.5000\n",
      "Epoch 12/20\n",
      "32/32 [==============================] - 4s 139ms/step - loss: 0.5884 - accuracy: 0.7978 - val_loss: 1.9352 - val_accuracy: 0.5714\n",
      "Epoch 13/20\n",
      "32/32 [==============================] - 4s 138ms/step - loss: 0.3841 - accuracy: 0.8366 - val_loss: 1.6447 - val_accuracy: 0.5714\n",
      "Epoch 14/20\n",
      "32/32 [==============================] - 4s 137ms/step - loss: 0.1549 - accuracy: 0.9792 - val_loss: 1.5680 - val_accuracy: 0.7143\n",
      "Epoch 15/20\n",
      "32/32 [==============================] - 4s 138ms/step - loss: 0.1452 - accuracy: 0.9642 - val_loss: 2.3093 - val_accuracy: 0.5714\n",
      "Epoch 16/20\n",
      "32/32 [==============================] - 4s 137ms/step - loss: 0.1434 - accuracy: 0.9697 - val_loss: 2.3017 - val_accuracy: 0.4286\n",
      "Epoch 17/20\n",
      "32/32 [==============================] - 4s 138ms/step - loss: 0.0864 - accuracy: 0.9915 - val_loss: 3.4290 - val_accuracy: 0.5714\n",
      "Epoch 18/20\n",
      "32/32 [==============================] - 4s 137ms/step - loss: 0.2146 - accuracy: 0.9754 - val_loss: 2.1809 - val_accuracy: 0.5714\n",
      "Epoch 19/20\n",
      "32/32 [==============================] - 4s 137ms/step - loss: 0.0995 - accuracy: 0.9766 - val_loss: 2.0027 - val_accuracy: 0.5714\n",
      "Epoch 20/20\n",
      "32/32 [==============================] - 4s 137ms/step - loss: 0.0311 - accuracy: 1.0000 - val_loss: 1.8818 - val_accuracy: 0.5714\n"
     ]
    },
    {
     "data": {
      "image/png": "[encoded data removed]",
      "text/plain": [
       "<Figure size 432x288 with 1 Axes>"
      ]
     },
     "metadata": {
      "needs_background": "light"
     },
     "output_type": "display_data"
    },
    {
     "name": "stdout",
     "output_type": "stream",
     "text": [
      "4/4 [==============================] - 0s 31ms/step - loss: 1.5680 - accuracy: 0.7143\n",
      "1 Fold: Accuracy of testing data = 56.67%\n",
      "\n",
      "Epoch 1/20\n",
      "32/32 [==============================] - 6s 148ms/step - loss: 53.2986 - accuracy: 0.1711 - val_loss: 2.1503 - val_accuracy: 0.2143\n",
      "Epoch 2/20\n",
      "32/32 [==============================] - 4s 139ms/step - loss: 2.1024 - accuracy: 0.2333 - val_loss: 1.7559 - val_accuracy: 0.4286\n",
      "Epoch 3/20\n",
      "32/32 [==============================] - 4s 138ms/step - loss: 1.7099 - accuracy: 0.3703 - val_loss: 1.6675 - val_accuracy: 0.4286\n",
      "Epoch 4/20\n",
      "32/32 [==============================] - 4s 137ms/step - loss: 1.5177 - accuracy: 0.4711 - val_loss: 1.5085 - val_accuracy: 0.6429\n",
      "Epoch 5/20\n",
      "32/32 [==============================] - 4s 138ms/step - loss: 1.3300 - accuracy: 0.5474 - val_loss: 1.3620 - val_accuracy: 0.6429\n",
      "Epoch 6/20\n",
      "32/32 [==============================] - 4s 138ms/step - loss: 1.1117 - accuracy: 0.6420 - val_loss: 1.3914 - val_accuracy: 0.6429\n",
      "Epoch 7/20\n",
      "32/32 [==============================] - 4s 137ms/step - loss: 0.9046 - accuracy: 0.6942 - val_loss: 1.5361 - val_accuracy: 0.6429\n",
      "Epoch 8/20\n",
      "32/32 [==============================] - 4s 137ms/step - loss: 0.7996 - accuracy: 0.7327 - val_loss: 1.7729 - val_accuracy: 0.5000\n",
      "Epoch 9/20\n",
      "32/32 [==============================] - 4s 137ms/step - loss: 0.7832 - accuracy: 0.7080 - val_loss: 1.7735 - val_accuracy: 0.7143\n",
      "Epoch 10/20\n",
      "32/32 [==============================] - 4s 137ms/step - loss: 0.6196 - accuracy: 0.8066 - val_loss: 1.5923 - val_accuracy: 0.6429\n",
      "Epoch 11/20\n",
      "32/32 [==============================] - 4s 137ms/step - loss: 0.4298 - accuracy: 0.7950 - val_loss: 1.7683 - val_accuracy: 0.5714\n",
      "Epoch 12/20\n",
      "32/32 [==============================] - 4s 138ms/step - loss: 0.4250 - accuracy: 0.8504 - val_loss: 1.7303 - val_accuracy: 0.6429\n",
      "Epoch 13/20\n",
      "32/32 [==============================] - 4s 137ms/step - loss: 0.3480 - accuracy: 0.9169 - val_loss: 1.7630 - val_accuracy: 0.5000\n",
      "Epoch 14/20\n",
      "32/32 [==============================] - 4s 137ms/step - loss: 0.3784 - accuracy: 0.8899 - val_loss: 2.5765 - val_accuracy: 0.3571\n",
      "Epoch 15/20\n",
      "32/32 [==============================] - 4s 137ms/step - loss: 0.9167 - accuracy: 0.7540 - val_loss: 1.9574 - val_accuracy: 0.5714\n",
      "Epoch 16/20\n",
      "32/32 [==============================] - 4s 138ms/step - loss: 0.3015 - accuracy: 0.9244 - val_loss: 2.7238 - val_accuracy: 0.6429\n",
      "Epoch 17/20\n",
      "32/32 [==============================] - 4s 137ms/step - loss: 0.4327 - accuracy: 0.8744 - val_loss: 2.0337 - val_accuracy: 0.6429\n",
      "Epoch 18/20\n",
      "32/32 [==============================] - 4s 137ms/step - loss: 0.3019 - accuracy: 0.8865 - val_loss: 2.1379 - val_accuracy: 0.6429\n",
      "Epoch 19/20\n",
      "32/32 [==============================] - 4s 137ms/step - loss: 0.1990 - accuracy: 0.9300 - val_loss: 2.7573 - val_accuracy: 0.5000\n",
      "Epoch 20/20\n",
      "32/32 [==============================] - 4s 137ms/step - loss: 0.1897 - accuracy: 0.9383 - val_loss: 2.1428 - val_accuracy: 0.5714\n"
     ]
    },
    {
     "data": {
      "image/png": "[encoded data removed]",
      "text/plain": [
       "<Figure size 432x288 with 1 Axes>"
      ]
     },
     "metadata": {
      "needs_background": "light"
     },
     "output_type": "display_data"
    },
    {
     "name": "stdout",
     "output_type": "stream",
     "text": [
      "4/4 [==============================] - 0s 31ms/step - loss: 1.7735 - accuracy: 0.7143\n",
      "2 Fold: Accuracy of testing data = 65.00%\n",
      "\n",
      "Epoch 1/20\n",
      "32/32 [==============================] - 6s 154ms/step - loss: 54.9384 - accuracy: 0.1496 - val_loss: 2.1364 - val_accuracy: 0.2143\n",
      "Epoch 2/20\n",
      "32/32 [==============================] - 4s 138ms/step - loss: 1.9744 - accuracy: 0.2401 - val_loss: 2.2493 - val_accuracy: 0.2143\n",
      "Epoch 3/20\n",
      "32/32 [==============================] - 4s 137ms/step - loss: 1.8340 - accuracy: 0.3048 - val_loss: 2.4370 - val_accuracy: 0.2857\n",
      "Epoch 4/20\n",
      "32/32 [==============================] - 4s 139ms/step - loss: 1.6920 - accuracy: 0.4089 - val_loss: 2.4891 - val_accuracy: 0.2143\n",
      "Epoch 5/20\n",
      "32/32 [==============================] - 4s 139ms/step - loss: 1.5383 - accuracy: 0.4238 - val_loss: 2.6539 - val_accuracy: 0.3571\n",
      "Epoch 6/20\n",
      "32/32 [==============================] - 4s 138ms/step - loss: 1.3317 - accuracy: 0.5884 - val_loss: 2.8502 - val_accuracy: 0.2143\n",
      "Epoch 7/20\n",
      "32/32 [==============================] - 4s 137ms/step - loss: 1.2740 - accuracy: 0.5773 - val_loss: 2.4803 - val_accuracy: 0.3571\n",
      "Epoch 8/20\n",
      "32/32 [==============================] - 4s 138ms/step - loss: 1.0735 - accuracy: 0.6306 - val_loss: 2.8264 - val_accuracy: 0.3571\n",
      "Epoch 9/20\n",
      "32/32 [==============================] - 4s 137ms/step - loss: 0.9400 - accuracy: 0.6910 - val_loss: 2.5526 - val_accuracy: 0.5714\n",
      "Epoch 10/20\n",
      "32/32 [==============================] - 4s 138ms/step - loss: 0.6806 - accuracy: 0.7311 - val_loss: 2.9969 - val_accuracy: 0.5714\n",
      "Epoch 11/20\n",
      "32/32 [==============================] - 4s 137ms/step - loss: 0.7451 - accuracy: 0.7741 - val_loss: 2.4238 - val_accuracy: 0.4286\n",
      "Epoch 12/20\n",
      "32/32 [==============================] - 4s 137ms/step - loss: 0.3814 - accuracy: 0.8759 - val_loss: 2.8432 - val_accuracy: 0.5000\n",
      "Epoch 13/20\n",
      "32/32 [==============================] - 4s 138ms/step - loss: 0.4269 - accuracy: 0.8132 - val_loss: 3.2318 - val_accuracy: 0.4286\n",
      "Epoch 14/20\n",
      "32/32 [==============================] - 4s 137ms/step - loss: 0.4134 - accuracy: 0.8154 - val_loss: 2.9407 - val_accuracy: 0.5000\n",
      "Epoch 15/20\n",
      "32/32 [==============================] - 4s 137ms/step - loss: 0.4571 - accuracy: 0.8059 - val_loss: 3.6128 - val_accuracy: 0.3571\n",
      "Epoch 16/20\n",
      "32/32 [==============================] - 4s 138ms/step - loss: 0.3607 - accuracy: 0.8465 - val_loss: 2.9677 - val_accuracy: 0.2857\n",
      "Epoch 17/20\n",
      "32/32 [==============================] - 4s 139ms/step - loss: 0.1294 - accuracy: 0.9617 - val_loss: 3.6225 - val_accuracy: 0.4286\n",
      "Epoch 18/20\n",
      "32/32 [==============================] - 4s 139ms/step - loss: 0.4091 - accuracy: 0.8704 - val_loss: 3.4986 - val_accuracy: 0.4286\n",
      "Epoch 19/20\n",
      "32/32 [==============================] - 4s 140ms/step - loss: 0.0933 - accuracy: 0.9747 - val_loss: 3.4239 - val_accuracy: 0.4286\n",
      "Epoch 20/20\n",
      "32/32 [==============================] - 4s 140ms/step - loss: 0.0949 - accuracy: 0.9800 - val_loss: 3.2018 - val_accuracy: 0.3571\n"
     ]
    },
    {
     "data": {
      "image/png": "[encoded data removed]",
      "text/plain": [
       "<Figure size 432x288 with 1 Axes>"
      ]
     },
     "metadata": {
      "needs_background": "light"
     },
     "output_type": "display_data"
    },
    {
     "name": "stdout",
     "output_type": "stream",
     "text": [
      "4/4 [==============================] - 0s 27ms/step - loss: 2.5526 - accuracy: 0.5714\n",
      "3 Fold: Accuracy of testing data = 50.00%\n",
      "\n",
      "Epoch 1/20\n",
      "32/32 [==============================] - 6s 152ms/step - loss: 44.0844 - accuracy: 0.0661 - val_loss: 2.2160 - val_accuracy: 0.1429\n",
      "Epoch 2/20\n",
      "32/32 [==============================] - 4s 138ms/step - loss: 2.2496 - accuracy: 0.1868 - val_loss: 1.8645 - val_accuracy: 0.1429\n",
      "Epoch 3/20\n",
      "32/32 [==============================] - 4s 137ms/step - loss: 1.8434 - accuracy: 0.2948 - val_loss: 1.6265 - val_accuracy: 0.5000\n",
      "Epoch 4/20\n",
      "32/32 [==============================] - 4s 137ms/step - loss: 1.6937 - accuracy: 0.4079 - val_loss: 1.5204 - val_accuracy: 0.5000\n",
      "Epoch 5/20\n",
      "32/32 [==============================] - 4s 138ms/step - loss: 1.4857 - accuracy: 0.5081 - val_loss: 1.3812 - val_accuracy: 0.6429\n",
      "Epoch 6/20\n",
      "32/32 [==============================] - 4s 138ms/step - loss: 1.3516 - accuracy: 0.5264 - val_loss: 1.1522 - val_accuracy: 0.5714\n",
      "Epoch 7/20\n",
      "32/32 [==============================] - 4s 137ms/step - loss: 1.1466 - accuracy: 0.5811 - val_loss: 1.1355 - val_accuracy: 0.5714\n",
      "Epoch 8/20\n",
      "32/32 [==============================] - 4s 138ms/step - loss: 1.1142 - accuracy: 0.6529 - val_loss: 1.0632 - val_accuracy: 0.5714\n",
      "Epoch 9/20\n",
      "32/32 [==============================] - 4s 138ms/step - loss: 1.0502 - accuracy: 0.6556 - val_loss: 1.2144 - val_accuracy: 0.5000\n",
      "Epoch 10/20\n",
      "32/32 [==============================] - 4s 138ms/step - loss: 0.9524 - accuracy: 0.6535 - val_loss: 1.0714 - val_accuracy: 0.6429\n",
      "Epoch 11/20\n",
      "32/32 [==============================] - 4s 137ms/step - loss: 0.7020 - accuracy: 0.7177 - val_loss: 1.5183 - val_accuracy: 0.5714\n",
      "Epoch 12/20\n",
      "32/32 [==============================] - 4s 136ms/step - loss: 1.0731 - accuracy: 0.6692 - val_loss: 1.2089 - val_accuracy: 0.5714\n",
      "Epoch 13/20\n",
      "32/32 [==============================] - 4s 136ms/step - loss: 0.7501 - accuracy: 0.7917 - val_loss: 0.9111 - val_accuracy: 0.6429\n",
      "Epoch 14/20\n",
      "32/32 [==============================] - 4s 136ms/step - loss: 0.5208 - accuracy: 0.8339 - val_loss: 1.0502 - val_accuracy: 0.6429\n",
      "Epoch 15/20\n",
      "32/32 [==============================] - 4s 137ms/step - loss: 0.3954 - accuracy: 0.8576 - val_loss: 1.2765 - val_accuracy: 0.6429\n",
      "Epoch 16/20\n",
      "32/32 [==============================] - 4s 136ms/step - loss: 0.4770 - accuracy: 0.8773 - val_loss: 1.0423 - val_accuracy: 0.5000\n",
      "Epoch 17/20\n",
      "32/32 [==============================] - 4s 136ms/step - loss: 0.3072 - accuracy: 0.8905 - val_loss: 1.4268 - val_accuracy: 0.5714\n",
      "Epoch 18/20\n",
      "32/32 [==============================] - 4s 137ms/step - loss: 0.5179 - accuracy: 0.8154 - val_loss: 1.3184 - val_accuracy: 0.5000\n",
      "Epoch 19/20\n",
      "32/32 [==============================] - 4s 138ms/step - loss: 0.3066 - accuracy: 0.8859 - val_loss: 1.1578 - val_accuracy: 0.5714\n",
      "Epoch 20/20\n",
      "32/32 [==============================] - 4s 137ms/step - loss: 0.1845 - accuracy: 0.9016 - val_loss: 1.7689 - val_accuracy: 0.5714\n"
     ]
    },
    {
     "data": {
      "image/png": "[encoded data removed]",
      "text/plain": [
       "<Figure size 432x288 with 1 Axes>"
      ]
     },
     "metadata": {
      "needs_background": "light"
     },
     "output_type": "display_data"
    },
    {
     "name": "stdout",
     "output_type": "stream",
     "text": [
      "4/4 [==============================] - 0s 31ms/step - loss: 1.3812 - accuracy: 0.6429\n",
      "4 Fold: Accuracy of testing data = 56.67%\n",
      "\n",
      "Epoch 1/20\n",
      "32/32 [==============================] - 6s 146ms/step - loss: 43.5671 - accuracy: 0.1823 - val_loss: 2.1896 - val_accuracy: 0.1429\n",
      "Epoch 2/20\n",
      "32/32 [==============================] - 4s 138ms/step - loss: 2.0493 - accuracy: 0.2539 - val_loss: 2.0859 - val_accuracy: 0.2857\n",
      "Epoch 3/20\n",
      "32/32 [==============================] - 5s 143ms/step - loss: 1.7314 - accuracy: 0.4124 - val_loss: 1.8210 - val_accuracy: 0.2857\n",
      "Epoch 4/20\n",
      "32/32 [==============================] - 4s 137ms/step - loss: 1.5060 - accuracy: 0.4290 - val_loss: 1.5515 - val_accuracy: 0.5714\n",
      "Epoch 5/20\n",
      "32/32 [==============================] - 4s 137ms/step - loss: 1.2417 - accuracy: 0.5422 - val_loss: 1.4042 - val_accuracy: 0.4286\n",
      "Epoch 6/20\n",
      "32/32 [==============================] - 4s 137ms/step - loss: 1.0298 - accuracy: 0.6523 - val_loss: 1.4625 - val_accuracy: 0.5714\n",
      "Epoch 7/20\n",
      "32/32 [==============================] - 4s 137ms/step - loss: 0.9304 - accuracy: 0.6383 - val_loss: 1.4307 - val_accuracy: 0.5714\n",
      "Epoch 8/20\n",
      "32/32 [==============================] - 4s 136ms/step - loss: 0.8208 - accuracy: 0.6435 - val_loss: 1.5755 - val_accuracy: 0.4286\n",
      "Epoch 9/20\n",
      "32/32 [==============================] - 4s 137ms/step - loss: 0.8266 - accuracy: 0.6933 - val_loss: 1.6472 - val_accuracy: 0.3571\n",
      "Epoch 10/20\n",
      "32/32 [==============================] - 4s 137ms/step - loss: 0.6854 - accuracy: 0.7503 - val_loss: 2.2769 - val_accuracy: 0.2857\n",
      "Epoch 11/20\n",
      "32/32 [==============================] - 4s 137ms/step - loss: 0.6096 - accuracy: 0.7752 - val_loss: 1.7450 - val_accuracy: 0.5000\n",
      "Epoch 12/20\n",
      "32/32 [==============================] - 4s 136ms/step - loss: 0.3535 - accuracy: 0.8351 - val_loss: 1.9524 - val_accuracy: 0.5000\n",
      "Epoch 13/20\n",
      "32/32 [==============================] - 4s 137ms/step - loss: 0.4372 - accuracy: 0.7559 - val_loss: 1.8327 - val_accuracy: 0.3571\n",
      "Epoch 14/20\n",
      "32/32 [==============================] - 4s 137ms/step - loss: 0.1791 - accuracy: 0.9523 - val_loss: 2.4474 - val_accuracy: 0.5000\n",
      "Epoch 15/20\n",
      "32/32 [==============================] - 4s 137ms/step - loss: 0.2648 - accuracy: 0.8984 - val_loss: 3.1210 - val_accuracy: 0.2857\n",
      "Epoch 16/20\n",
      "32/32 [==============================] - 4s 137ms/step - loss: 0.2527 - accuracy: 0.8958 - val_loss: 2.2222 - val_accuracy: 0.5714\n",
      "Epoch 17/20\n",
      "32/32 [==============================] - 4s 137ms/step - loss: 0.2497 - accuracy: 0.8906 - val_loss: 2.5509 - val_accuracy: 0.3571\n",
      "Epoch 18/20\n",
      "32/32 [==============================] - 4s 137ms/step - loss: 0.1615 - accuracy: 0.9100 - val_loss: 2.6439 - val_accuracy: 0.3571\n",
      "Epoch 19/20\n",
      "32/32 [==============================] - 4s 137ms/step - loss: 0.1338 - accuracy: 0.9751 - val_loss: 2.2561 - val_accuracy: 0.4286\n",
      "Epoch 20/20\n",
      "32/32 [==============================] - 4s 137ms/step - loss: 0.1035 - accuracy: 0.9653 - val_loss: 3.3331 - val_accuracy: 0.2857\n"
     ]
    },
    {
     "data": {
      "image/png": "[encoded data removed]",
      "text/plain": [
       "<Figure size 432x288 with 1 Axes>"
      ]
     },
     "metadata": {
      "needs_background": "light"
     },
     "output_type": "display_data"
    },
    {
     "name": "stdout",
     "output_type": "stream",
     "text": [
      "4/4 [==============================] - 0s 27ms/step - loss: 1.5515 - accuracy: 0.5714\n",
      "5 Fold: Accuracy of testing data = 50.00%\n",
      "\n",
      "Epoch 1/20\n",
      "32/32 [==============================] - 6s 146ms/step - loss: 78.7201 - accuracy: 0.1011 - val_loss: 2.3093 - val_accuracy: 0.2143\n"
     ]
    },
    {
     "ename": "KeyboardInterrupt",
     "evalue": "",
     "output_type": "error",
     "traceback": [
      "\u001b[1;31m---------------------------------------------------------------------------\u001b[0m",
      "\u001b[1;31mKeyboardInterrupt\u001b[0m                         Traceback (most recent call last)",
      "\u001b[1;32m<ipython-input-11-f6193179eaa5>\u001b[0m in \u001b[0;36m<module>\u001b[1;34m\u001b[0m\n\u001b[0;32m     33\u001b[0m     \u001b[0mcallbacks_list\u001b[0m \u001b[1;33m=\u001b[0m \u001b[1;33m[\u001b[0m\u001b[0mcheckpoint\u001b[0m\u001b[1;33m]\u001b[0m\u001b[1;33m\u001b[0m\u001b[1;33m\u001b[0m\u001b[0m\n\u001b[0;32m     34\u001b[0m \u001b[1;33m\u001b[0m\u001b[0m\n\u001b[1;32m---> 35\u001b[1;33m     history = model.fit(\n\u001b[0m\u001b[0;32m     36\u001b[0m                     \u001b[0mtrain_D\u001b[0m\u001b[1;33m.\u001b[0m\u001b[0m__iter__\u001b[0m\u001b[1;33m(\u001b[0m\u001b[1;33m)\u001b[0m\u001b[1;33m,\u001b[0m\u001b[1;33m\u001b[0m\u001b[1;33m\u001b[0m\u001b[0m\n\u001b[0;32m     37\u001b[0m                     \u001b[0msteps_per_epoch\u001b[0m \u001b[1;33m=\u001b[0m \u001b[0mtrain_D\u001b[0m\u001b[1;33m.\u001b[0m\u001b[0m__len__\u001b[0m\u001b[1;33m(\u001b[0m\u001b[1;33m)\u001b[0m\u001b[1;33m,\u001b[0m\u001b[1;33m\u001b[0m\u001b[1;33m\u001b[0m\u001b[0m\n",
      "\u001b[1;32mc:\\users\\user\\appdata\\local\\programs\\python\\python38\\lib\\site-packages\\tensorflow\\python\\keras\\engine\\training.py\u001b[0m in \u001b[0;36mfit\u001b[1;34m(self, x, y, batch_size, epochs, verbose, callbacks, validation_split, validation_data, shuffle, class_weight, sample_weight, initial_epoch, steps_per_epoch, validation_steps, validation_batch_size, validation_freq, max_queue_size, workers, use_multiprocessing)\u001b[0m\n\u001b[0;32m   1143\u001b[0m           \u001b[0mepoch_logs\u001b[0m\u001b[1;33m.\u001b[0m\u001b[0mupdate\u001b[0m\u001b[1;33m(\u001b[0m\u001b[0mval_logs\u001b[0m\u001b[1;33m)\u001b[0m\u001b[1;33m\u001b[0m\u001b[1;33m\u001b[0m\u001b[0m\n\u001b[0;32m   1144\u001b[0m \u001b[1;33m\u001b[0m\u001b[0m\n\u001b[1;32m-> 1145\u001b[1;33m         \u001b[0mcallbacks\u001b[0m\u001b[1;33m.\u001b[0m\u001b[0mon_epoch_end\u001b[0m\u001b[1;33m(\u001b[0m\u001b[0mepoch\u001b[0m\u001b[1;33m,\u001b[0m \u001b[0mepoch_logs\u001b[0m\u001b[1;33m)\u001b[0m\u001b[1;33m\u001b[0m\u001b[1;33m\u001b[0m\u001b[0m\n\u001b[0m\u001b[0;32m   1146\u001b[0m         \u001b[0mtraining_logs\u001b[0m \u001b[1;33m=\u001b[0m \u001b[0mepoch_logs\u001b[0m\u001b[1;33m\u001b[0m\u001b[1;33m\u001b[0m\u001b[0m\n\u001b[0;32m   1147\u001b[0m         \u001b[1;32mif\u001b[0m \u001b[0mself\u001b[0m\u001b[1;33m.\u001b[0m\u001b[0mstop_training\u001b[0m\u001b[1;33m:\u001b[0m\u001b[1;33m\u001b[0m\u001b[1;33m\u001b[0m\u001b[0m\n",
      "\u001b[1;32mc:\\users\\user\\appdata\\local\\programs\\python\\python38\\lib\\site-packages\\tensorflow\\python\\keras\\callbacks.py\u001b[0m in \u001b[0;36mon_epoch_end\u001b[1;34m(self, epoch, logs)\u001b[0m\n\u001b[0;32m    426\u001b[0m     \u001b[1;32mfor\u001b[0m \u001b[0mcallback\u001b[0m \u001b[1;32min\u001b[0m \u001b[0mself\u001b[0m\u001b[1;33m.\u001b[0m\u001b[0mcallbacks\u001b[0m\u001b[1;33m:\u001b[0m\u001b[1;33m\u001b[0m\u001b[1;33m\u001b[0m\u001b[0m\n\u001b[0;32m    427\u001b[0m       \u001b[1;32mif\u001b[0m \u001b[0mgetattr\u001b[0m\u001b[1;33m(\u001b[0m\u001b[0mcallback\u001b[0m\u001b[1;33m,\u001b[0m \u001b[1;34m'_supports_tf_logs'\u001b[0m\u001b[1;33m,\u001b[0m \u001b[1;32mFalse\u001b[0m\u001b[1;33m)\u001b[0m\u001b[1;33m:\u001b[0m\u001b[1;33m\u001b[0m\u001b[1;33m\u001b[0m\u001b[0m\n\u001b[1;32m--> 428\u001b[1;33m         \u001b[0mcallback\u001b[0m\u001b[1;33m.\u001b[0m\u001b[0mon_epoch_end\u001b[0m\u001b[1;33m(\u001b[0m\u001b[0mepoch\u001b[0m\u001b[1;33m,\u001b[0m \u001b[0mlogs\u001b[0m\u001b[1;33m)\u001b[0m\u001b[1;33m\u001b[0m\u001b[1;33m\u001b[0m\u001b[0m\n\u001b[0m\u001b[0;32m    429\u001b[0m       \u001b[1;32melse\u001b[0m\u001b[1;33m:\u001b[0m\u001b[1;33m\u001b[0m\u001b[1;33m\u001b[0m\u001b[0m\n\u001b[0;32m    430\u001b[0m         \u001b[1;32mif\u001b[0m \u001b[0mnumpy_logs\u001b[0m \u001b[1;32mis\u001b[0m \u001b[1;32mNone\u001b[0m\u001b[1;33m:\u001b[0m  \u001b[1;31m# Only convert once.\u001b[0m\u001b[1;33m\u001b[0m\u001b[1;33m\u001b[0m\u001b[0m\n",
      "\u001b[1;32mc:\\users\\user\\appdata\\local\\programs\\python\\python38\\lib\\site-packages\\tensorflow\\python\\keras\\callbacks.py\u001b[0m in \u001b[0;36mon_epoch_end\u001b[1;34m(self, epoch, logs)\u001b[0m\n\u001b[0;32m   1342\u001b[0m     \u001b[1;31m# pylint: disable=protected-access\u001b[0m\u001b[1;33m\u001b[0m\u001b[1;33m\u001b[0m\u001b[1;33m\u001b[0m\u001b[0m\n\u001b[0;32m   1343\u001b[0m     \u001b[1;32mif\u001b[0m \u001b[0mself\u001b[0m\u001b[1;33m.\u001b[0m\u001b[0msave_freq\u001b[0m \u001b[1;33m==\u001b[0m \u001b[1;34m'epoch'\u001b[0m\u001b[1;33m:\u001b[0m\u001b[1;33m\u001b[0m\u001b[1;33m\u001b[0m\u001b[0m\n\u001b[1;32m-> 1344\u001b[1;33m       \u001b[0mself\u001b[0m\u001b[1;33m.\u001b[0m\u001b[0m_save_model\u001b[0m\u001b[1;33m(\u001b[0m\u001b[0mepoch\u001b[0m\u001b[1;33m=\u001b[0m\u001b[0mepoch\u001b[0m\u001b[1;33m,\u001b[0m \u001b[0mlogs\u001b[0m\u001b[1;33m=\u001b[0m\u001b[0mlogs\u001b[0m\u001b[1;33m)\u001b[0m\u001b[1;33m\u001b[0m\u001b[1;33m\u001b[0m\u001b[0m\n\u001b[0m\u001b[0;32m   1345\u001b[0m \u001b[1;33m\u001b[0m\u001b[0m\n\u001b[0;32m   1346\u001b[0m   \u001b[1;32mdef\u001b[0m \u001b[0m_should_save_on_batch\u001b[0m\u001b[1;33m(\u001b[0m\u001b[0mself\u001b[0m\u001b[1;33m,\u001b[0m \u001b[0mbatch\u001b[0m\u001b[1;33m)\u001b[0m\u001b[1;33m:\u001b[0m\u001b[1;33m\u001b[0m\u001b[1;33m\u001b[0m\u001b[0m\n",
      "\u001b[1;32mc:\\users\\user\\appdata\\local\\programs\\python\\python38\\lib\\site-packages\\tensorflow\\python\\keras\\callbacks.py\u001b[0m in \u001b[0;36m_save_model\u001b[1;34m(self, epoch, logs)\u001b[0m\n\u001b[0;32m   1394\u001b[0m                     filepath, overwrite=True, options=self._options)\n\u001b[0;32m   1395\u001b[0m               \u001b[1;32melse\u001b[0m\u001b[1;33m:\u001b[0m\u001b[1;33m\u001b[0m\u001b[1;33m\u001b[0m\u001b[0m\n\u001b[1;32m-> 1396\u001b[1;33m                 \u001b[0mself\u001b[0m\u001b[1;33m.\u001b[0m\u001b[0mmodel\u001b[0m\u001b[1;33m.\u001b[0m\u001b[0msave\u001b[0m\u001b[1;33m(\u001b[0m\u001b[0mfilepath\u001b[0m\u001b[1;33m,\u001b[0m \u001b[0moverwrite\u001b[0m\u001b[1;33m=\u001b[0m\u001b[1;32mTrue\u001b[0m\u001b[1;33m,\u001b[0m \u001b[0moptions\u001b[0m\u001b[1;33m=\u001b[0m\u001b[0mself\u001b[0m\u001b[1;33m.\u001b[0m\u001b[0m_options\u001b[0m\u001b[1;33m)\u001b[0m\u001b[1;33m\u001b[0m\u001b[1;33m\u001b[0m\u001b[0m\n\u001b[0m\u001b[0;32m   1397\u001b[0m             \u001b[1;32melse\u001b[0m\u001b[1;33m:\u001b[0m\u001b[1;33m\u001b[0m\u001b[1;33m\u001b[0m\u001b[0m\n\u001b[0;32m   1398\u001b[0m               \u001b[1;32mif\u001b[0m \u001b[0mself\u001b[0m\u001b[1;33m.\u001b[0m\u001b[0mverbose\u001b[0m \u001b[1;33m>\u001b[0m \u001b[1;36m0\u001b[0m\u001b[1;33m:\u001b[0m\u001b[1;33m\u001b[0m\u001b[1;33m\u001b[0m\u001b[0m\n",
      "\u001b[1;32mc:\\users\\user\\appdata\\local\\programs\\python\\python38\\lib\\site-packages\\tensorflow\\python\\keras\\engine\\training.py\u001b[0m in \u001b[0;36msave\u001b[1;34m(self, filepath, overwrite, include_optimizer, save_format, signatures, options, save_traces)\u001b[0m\n\u001b[0;32m   1999\u001b[0m     \"\"\"\n\u001b[0;32m   2000\u001b[0m     \u001b[1;31m# pylint: enable=line-too-long\u001b[0m\u001b[1;33m\u001b[0m\u001b[1;33m\u001b[0m\u001b[1;33m\u001b[0m\u001b[0m\n\u001b[1;32m-> 2001\u001b[1;33m     save.save_model(self, filepath, overwrite, include_optimizer, save_format,\n\u001b[0m\u001b[0;32m   2002\u001b[0m                     signatures, options, save_traces)\n\u001b[0;32m   2003\u001b[0m \u001b[1;33m\u001b[0m\u001b[0m\n",
      "\u001b[1;32mc:\\users\\user\\appdata\\local\\programs\\python\\python38\\lib\\site-packages\\tensorflow\\python\\keras\\saving\\save.py\u001b[0m in \u001b[0;36msave_model\u001b[1;34m(model, filepath, overwrite, include_optimizer, save_format, signatures, options, save_traces)\u001b[0m\n\u001b[0;32m    151\u001b[0m           \u001b[1;34m'to the Tensorflow SavedModel format (by setting save_format=\"tf\") '\u001b[0m\u001b[1;33m\u001b[0m\u001b[1;33m\u001b[0m\u001b[0m\n\u001b[0;32m    152\u001b[0m           'or using `save_weights`.')\n\u001b[1;32m--> 153\u001b[1;33m     hdf5_format.save_model_to_hdf5(\n\u001b[0m\u001b[0;32m    154\u001b[0m         model, filepath, overwrite, include_optimizer)\n\u001b[0;32m    155\u001b[0m   \u001b[1;32melse\u001b[0m\u001b[1;33m:\u001b[0m\u001b[1;33m\u001b[0m\u001b[1;33m\u001b[0m\u001b[0m\n",
      "\u001b[1;32mc:\\users\\user\\appdata\\local\\programs\\python\\python38\\lib\\site-packages\\tensorflow\\python\\keras\\saving\\hdf5_format.py\u001b[0m in \u001b[0;36msave_model_to_hdf5\u001b[1;34m(model, filepath, overwrite, include_optimizer)\u001b[0m\n\u001b[0;32m    129\u001b[0m     if (include_optimizer and model.optimizer and\n\u001b[0;32m    130\u001b[0m         not isinstance(model.optimizer, optimizer_v1.TFOptimizer)):\n\u001b[1;32m--> 131\u001b[1;33m       \u001b[0msave_optimizer_weights_to_hdf5_group\u001b[0m\u001b[1;33m(\u001b[0m\u001b[0mf\u001b[0m\u001b[1;33m,\u001b[0m \u001b[0mmodel\u001b[0m\u001b[1;33m.\u001b[0m\u001b[0moptimizer\u001b[0m\u001b[1;33m)\u001b[0m\u001b[1;33m\u001b[0m\u001b[1;33m\u001b[0m\u001b[0m\n\u001b[0m\u001b[0;32m    132\u001b[0m \u001b[1;33m\u001b[0m\u001b[0m\n\u001b[0;32m    133\u001b[0m     \u001b[0mf\u001b[0m\u001b[1;33m.\u001b[0m\u001b[0mflush\u001b[0m\u001b[1;33m(\u001b[0m\u001b[1;33m)\u001b[0m\u001b[1;33m\u001b[0m\u001b[1;33m\u001b[0m\u001b[0m\n",
      "\u001b[1;32mc:\\users\\user\\appdata\\local\\programs\\python\\python38\\lib\\site-packages\\tensorflow\\python\\keras\\saving\\hdf5_format.py\u001b[0m in \u001b[0;36msave_optimizer_weights_to_hdf5_group\u001b[1;34m(hdf5_group, optimizer)\u001b[0m\n\u001b[0;32m    599\u001b[0m         \u001b[0mparam_dset\u001b[0m\u001b[1;33m[\u001b[0m\u001b[1;33m(\u001b[0m\u001b[1;33m)\u001b[0m\u001b[1;33m]\u001b[0m \u001b[1;33m=\u001b[0m \u001b[0mval\u001b[0m\u001b[1;33m\u001b[0m\u001b[1;33m\u001b[0m\u001b[0m\n\u001b[0;32m    600\u001b[0m       \u001b[1;32melse\u001b[0m\u001b[1;33m:\u001b[0m\u001b[1;33m\u001b[0m\u001b[1;33m\u001b[0m\u001b[0m\n\u001b[1;32m--> 601\u001b[1;33m         \u001b[0mparam_dset\u001b[0m\u001b[1;33m[\u001b[0m\u001b[1;33m:\u001b[0m\u001b[1;33m]\u001b[0m \u001b[1;33m=\u001b[0m \u001b[0mval\u001b[0m\u001b[1;33m\u001b[0m\u001b[1;33m\u001b[0m\u001b[0m\n\u001b[0m\u001b[0;32m    602\u001b[0m \u001b[1;33m\u001b[0m\u001b[0m\n\u001b[0;32m    603\u001b[0m \u001b[1;33m\u001b[0m\u001b[0m\n",
      "\u001b[1;32mh5py\\_objects.pyx\u001b[0m in \u001b[0;36mh5py._objects.with_phil.wrapper\u001b[1;34m()\u001b[0m\n",
      "\u001b[1;32mh5py\\_objects.pyx\u001b[0m in \u001b[0;36mh5py._objects.with_phil.wrapper\u001b[1;34m()\u001b[0m\n",
      "\u001b[1;32mc:\\users\\user\\appdata\\local\\programs\\python\\python38\\lib\\site-packages\\h5py\\_hl\\dataset.py\u001b[0m in \u001b[0;36m__setitem__\u001b[1;34m(self, args, val)\u001b[0m\n\u001b[0;32m    706\u001b[0m         \u001b[0mmspace\u001b[0m \u001b[1;33m=\u001b[0m \u001b[0mh5s\u001b[0m\u001b[1;33m.\u001b[0m\u001b[0mcreate_simple\u001b[0m\u001b[1;33m(\u001b[0m\u001b[0mmshape_pad\u001b[0m\u001b[1;33m,\u001b[0m \u001b[1;33m(\u001b[0m\u001b[0mh5s\u001b[0m\u001b[1;33m.\u001b[0m\u001b[0mUNLIMITED\u001b[0m\u001b[1;33m,\u001b[0m\u001b[1;33m)\u001b[0m\u001b[1;33m*\u001b[0m\u001b[0mlen\u001b[0m\u001b[1;33m(\u001b[0m\u001b[0mmshape_pad\u001b[0m\u001b[1;33m)\u001b[0m\u001b[1;33m)\u001b[0m\u001b[1;33m\u001b[0m\u001b[1;33m\u001b[0m\u001b[0m\n\u001b[0;32m    707\u001b[0m         \u001b[1;32mfor\u001b[0m \u001b[0mfspace\u001b[0m \u001b[1;32min\u001b[0m \u001b[0mselection\u001b[0m\u001b[1;33m.\u001b[0m\u001b[0mbroadcast\u001b[0m\u001b[1;33m(\u001b[0m\u001b[0mmshape\u001b[0m\u001b[1;33m)\u001b[0m\u001b[1;33m:\u001b[0m\u001b[1;33m\u001b[0m\u001b[1;33m\u001b[0m\u001b[0m\n\u001b[1;32m--> 708\u001b[1;33m             \u001b[0mself\u001b[0m\u001b[1;33m.\u001b[0m\u001b[0mid\u001b[0m\u001b[1;33m.\u001b[0m\u001b[0mwrite\u001b[0m\u001b[1;33m(\u001b[0m\u001b[0mmspace\u001b[0m\u001b[1;33m,\u001b[0m \u001b[0mfspace\u001b[0m\u001b[1;33m,\u001b[0m \u001b[0mval\u001b[0m\u001b[1;33m,\u001b[0m \u001b[0mmtype\u001b[0m\u001b[1;33m,\u001b[0m \u001b[0mdxpl\u001b[0m\u001b[1;33m=\u001b[0m\u001b[0mself\u001b[0m\u001b[1;33m.\u001b[0m\u001b[0m_dxpl\u001b[0m\u001b[1;33m)\u001b[0m\u001b[1;33m\u001b[0m\u001b[1;33m\u001b[0m\u001b[0m\n\u001b[0m\u001b[0;32m    709\u001b[0m \u001b[1;33m\u001b[0m\u001b[0m\n\u001b[0;32m    710\u001b[0m     \u001b[1;32mdef\u001b[0m \u001b[0mread_direct\u001b[0m\u001b[1;33m(\u001b[0m\u001b[0mself\u001b[0m\u001b[1;33m,\u001b[0m \u001b[0mdest\u001b[0m\u001b[1;33m,\u001b[0m \u001b[0msource_sel\u001b[0m\u001b[1;33m=\u001b[0m\u001b[1;32mNone\u001b[0m\u001b[1;33m,\u001b[0m \u001b[0mdest_sel\u001b[0m\u001b[1;33m=\u001b[0m\u001b[1;32mNone\u001b[0m\u001b[1;33m)\u001b[0m\u001b[1;33m:\u001b[0m\u001b[1;33m\u001b[0m\u001b[1;33m\u001b[0m\u001b[0m\n",
      "\u001b[1;31mKeyboardInterrupt\u001b[0m: "
     ]
    }
   ],
   "source": [
    "VALIDATION_ACCURACY = []\n",
    "VALIDATION_LOSS = []\n",
    "TEST_ACCURACY=[]\n",
    "\n",
    "skf = StratifiedKFold(n_splits=fold_num)\n",
    "fold_var = 1\n",
    "\n",
    "for train_index, valid_index in skf.split(X_train_names, y_train):\n",
    "    \n",
    "    #準備該次的train data(路徑)\n",
    "    X_train_name_fold = []\n",
    "    for idx in train_index:\n",
    "        X_train_name_fold.append(X_train_names[idx])\n",
    "    y_train_fold = y_train[train_index]\n",
    "    y_train_fold_onehot = np_utils.to_categorical(y_train_fold)\n",
    "\n",
    "    X_val_name_fold = []\n",
    "    for idx in valid_index:\n",
    "        X_val_name_fold.append(X_train_names[idx])\n",
    "    y_val_fold = y_train[valid_index]\n",
    "    y_val_fold_onehot = np_utils.to_categorical(y_val_fold)\n",
    "    \n",
    "    train_D = DataGenerator(X_train_name_fold, y_train_fold_onehot, batch_size)\n",
    "    valid_D = DataGenerator(X_val_name_fold, y_val_fold_onehot, batch_size)\n",
    "    \n",
    "    model = create_new_model()\n",
    "    opt = Adam(lr=0.0001)\n",
    "    model.compile(loss=\"categorical_crossentropy\", optimizer=opt, metrics=['accuracy'])\n",
    "    # CREATE CALLBACKS\n",
    "    checkpoint = tf.keras.callbacks.ModelCheckpoint(model_save_dir+\"/\"+model_name+\"_fold\"+str(fold_var)+\".h5\",\n",
    "                                    monitor='val_accuracy', \n",
    "                                    save_best_only=True)\n",
    "    callbacks_list = [checkpoint]\n",
    "    \n",
    "    history = model.fit(\n",
    "                    train_D.__iter__(),\n",
    "                    steps_per_epoch = train_D.__len__(),\n",
    "                    validation_data=valid_D.__iter__(),\n",
    "                    validation_steps=valid_D.__len__(),\n",
    "                    epochs=epochs,\n",
    "                    callbacks=callbacks_list,\n",
    "                    verbose=1) # 訓練紀錄顯示\n",
    "    if HIS_SHOW:\n",
    "        show_train_history(history, 'loss', 'val_loss')\n",
    "    \n",
    "    model.load_weights(model_save_dir+\"/\"+model_name+\"_fold\"+str(fold_var)+\".h5\")\n",
    "    results = model.evaluate(valid_D.__iter__(), steps=valid_D.__len__(), verbose=1)\n",
    "    results = dict(zip(model.metrics_names,results))\n",
    "    \n",
    "    VALIDATION_ACCURACY.append(results['accuracy'])\n",
    "    VALIDATION_LOSS.append(results['loss'])\n",
    "    \n",
    "    test_D = DataGenerator(X_test_names, y_test_onehot, batch_size)\n",
    "    scores = model.evaluate(test_D.__iter__(), steps=test_D.__len__(), verbose=0)\n",
    "    print(str(fold_var)+\" Fold: \"+\"Accuracy of testing data = {:2.2f}%\".format(scores[1]*100.0))\n",
    "    print()\n",
    "    TEST_ACCURACY.append(scores[1]*100.0)\n",
    "    \n",
    "    tf.keras.backend.clear_session()\n",
    "    fold_var+=1\n",
    "    #break"
   ]
  },
  {
   "cell_type": "code",
   "execution_count": null,
   "id": "interested-bubble",
   "metadata": {},
   "outputs": [],
   "source": [
    "print(\"validation accuracy: \",VALIDATION_ACCURACY)\n",
    "print(\"validation loss: \", VALIDATION_LOSS)\n",
    "print(\"test accuracy: \",TEST_ACCURACY)"
   ]
  },
  {
   "cell_type": "code",
   "execution_count": null,
   "id": "auburn-account",
   "metadata": {},
   "outputs": [],
   "source": [
    "print(\"average validation accuracy: \",sum(VALIDATION_ACCURACY)/len(VALIDATION_ACCURACY))\n",
    "print(\"average test accuracy: \",sum(TEST_ACCURACY)/len(TEST_ACCURACY))"
   ]
  }
 ],
 "metadata": {
  "kernelspec": {
   "display_name": "Python 3",
   "language": "python",
   "name": "python3"
  },
  "language_info": {
   "codemirror_mode": {
    "name": "ipython",
    "version": 3
   },
   "file_extension": ".py",
   "mimetype": "text/x-python",
   "name": "python",
   "nbconvert_exporter": "python",
   "pygments_lexer": "ipython3",
   "version": "3.8.2"
  }
 },
 "nbformat": 4,
 "nbformat_minor": 5
}
