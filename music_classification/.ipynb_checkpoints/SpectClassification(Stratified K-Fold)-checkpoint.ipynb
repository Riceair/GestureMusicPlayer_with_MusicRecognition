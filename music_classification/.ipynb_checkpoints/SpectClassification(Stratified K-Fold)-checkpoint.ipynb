{
 "cells": [
  {
   "cell_type": "code",
   "execution_count": 1,
   "id": "fuzzy-vegetation",
   "metadata": {},
   "outputs": [],
   "source": [
    "import numpy as np\n",
    "import random\n",
    "import cv2\n",
    "import os\n",
    "\n",
    "from tensorflow import keras\n",
    "from keras.layers import *\n",
    "from keras.models import *\n",
    "from keras.optimizers import *\n",
    "\n",
    "from keras.utils import np_utils\n",
    "from sklearn.model_selection import train_test_split, StratifiedKFold\n",
    "from sklearn.metrics import confusion_matrix, roc_auc_score\n",
    "import tensorflow as tf"
   ]
  },
  {
   "cell_type": "markdown",
   "id": "raised-trade",
   "metadata": {},
   "source": [
    "### 讀取頻譜圖路徑"
   ]
  },
  {
   "cell_type": "code",
   "execution_count": 2,
   "id": "operational-jackson",
   "metadata": {},
   "outputs": [],
   "source": [
    "INPUT_SELECT = 0 #決定模型的輸入 0: log mel scale spectrogram, 1: mfcc\n",
    "CNN_SELECT = 1 #決定CNN的類型 0: VGG16, 1: 自訂義CNN\n",
    "IMG_SOURCE=0 #0: original, 2: augementation, 4: frame len 40ms\n",
    "HIS_SHOW = False #是否show出訓練的history loss\n",
    "epochs = 20\n",
    "batch_size = 8\n",
    "fold_num = 5\n",
    "MODEL_DIR = (\"Model/ms_model\", \"Model/mfcc_model\")\n",
    "MODEL_NAME = (\"MS\", \"MFCC\", \"MS_AUG\", \"MFCC_AUG\", \"MS_40\", \"MFCC_40\")\n",
    "IMG_PATH = (\"ImageData/original/spectrogram\", \"ImageData/original/mfcc\",\n",
    "                        \"ImageData/augmentation/spectrogram\", \"ImageData/augmentation/mfcc\",\n",
    "                        \"ImageData/frameLen_40ms/spectrogram\",\"ImageData/frameLen_40ms/mfcc\")"
   ]
  },
  {
   "cell_type": "code",
   "execution_count": 3,
   "id": "pharmaceutical-blade",
   "metadata": {},
   "outputs": [
    {
     "name": "stdout",
     "output_type": "stream",
     "text": [
      "ImageData/original/spectrogram ['Blue', 'Classical', 'Country', 'Disco', 'EDM', 'Hiphop', 'Jazz', 'Metal', 'Pop', 'Reggae']\n"
     ]
    }
   ],
   "source": [
    "root_path = IMG_PATH[INPUT_SELECT+IMG_SOURCE]\n",
    "model_save_dir = MODEL_DIR[INPUT_SELECT]\n",
    "model_name = MODEL_NAME[INPUT_SELECT+IMG_SOURCE]\n",
    "folder_names = os.listdir(root_path)\n",
    "print(root_path, folder_names)"
   ]
  },
  {
   "cell_type": "code",
   "execution_count": 4,
   "id": "covered-slide",
   "metadata": {},
   "outputs": [
    {
     "name": "stdout",
     "output_type": "stream",
     "text": [
      "class count:  10\n",
      "class file count:  [20, 20, 20, 20, 20, 20, 20, 20, 20, 20]\n"
     ]
    }
   ],
   "source": [
    "folders=[] #儲存各類別資料夾中的檔案名稱\n",
    "for folder in folder_names:\n",
    "    file_names=[]\n",
    "    for file_name in os.listdir(root_path+\"/\"+folder):\n",
    "        file_names.append(root_path+\"/\"+folder+\"/\"+file_name)\n",
    "    folders.append(file_names)\n",
    "\n",
    "class_count_list = [len(files) for files in folders] #紀錄每個類別各有多少檔案(後面會用到)\n",
    "print(\"class count: \", len(folders))\n",
    "print(\"class file count: \", class_count_list)"
   ]
  },
  {
   "cell_type": "markdown",
   "id": "innocent-affairs",
   "metadata": {},
   "source": [
    "### 讀取頻譜圖"
   ]
  },
  {
   "cell_type": "code",
   "execution_count": 5,
   "id": "tracked-reducing",
   "metadata": {},
   "outputs": [],
   "source": [
    "Data = []\n",
    "for folder in folders:\n",
    "    for name in folder:\n",
    "        spect = cv2.imread(name) #shape=(220, 449, 3)\n",
    "        spect = cv2.resize(spect, (224, 224))\n",
    "#         spect = cv2.cvtColor(spect, cv2.COLOR_BGR2GRAY) #轉灰階\n",
    "#         spect = spect.T #轉置\n",
    "        Data.append(spect)\n",
    "Data = np.array(Data)"
   ]
  },
  {
   "cell_type": "code",
   "execution_count": 6,
   "id": "antique-index",
   "metadata": {},
   "outputs": [
    {
     "data": {
      "text/plain": [
       "(200, 224, 224, 3)"
      ]
     },
     "execution_count": 6,
     "metadata": {},
     "output_type": "execute_result"
    }
   ],
   "source": [
    "Data.shape"
   ]
  },
  {
   "cell_type": "markdown",
   "id": "adjacent-advocate",
   "metadata": {},
   "source": [
    "### 製作Label"
   ]
  },
  {
   "cell_type": "code",
   "execution_count": 7,
   "id": "comprehensive-picture",
   "metadata": {},
   "outputs": [],
   "source": [
    "Label = []\n",
    "for l, class_count in enumerate(class_count_list):\n",
    "    for _ in range(class_count):\n",
    "        Label.append(np.ones(1)*l)\n",
    "Label = np.array(Label)"
   ]
  },
  {
   "cell_type": "markdown",
   "id": "latter-astrology",
   "metadata": {},
   "source": [
    "### CNN層定義"
   ]
  },
  {
   "cell_type": "code",
   "execution_count": 8,
   "id": "everyday-ethics",
   "metadata": {},
   "outputs": [],
   "source": [
    "def VGG16(inputs):\n",
    "    x = Conv2D(64, (3,3), activation='relu', padding = 'same')(inputs)\n",
    "    x = Dropout(0.03)(x)\n",
    "    x = Conv2D(64, (3,3), activation='relu', padding = 'same')(x)\n",
    "    x = Dropout(0.03)(x)\n",
    "    x = MaxPooling2D(pool_size=(2, 2), strides=(2, 2))(x)\n",
    "    x = Conv2D(128, (3,3), activation='relu', padding = 'same')(x)\n",
    "    x = Dropout(0.03)(x)\n",
    "    x = Conv2D(128, (3,3), activation='relu', padding = 'same')(x)\n",
    "    x = Dropout(0.03)(x)\n",
    "    x = MaxPooling2D(pool_size=(2, 2), strides=(2, 2))(x)\n",
    "    x = Conv2D(256, (3,3), activation='relu', padding = 'same')(x)\n",
    "    x = Dropout(0.03)(x)\n",
    "    x = Conv2D(256, (3,3), activation='relu', padding = 'same')(x)\n",
    "    x = Dropout(0.03)(x)\n",
    "    x = Conv2D(256, (3,3), activation='relu', padding = 'same')(x)\n",
    "    x = Dropout(0.03)(x)\n",
    "    x = MaxPooling2D(pool_size=(2, 2), strides=(2, 2))(x)\n",
    "    x = Conv2D(512, (3,3), activation='relu', padding = 'same')(x)\n",
    "    x = Dropout(0.03)(x)\n",
    "    x = Conv2D(512, (3,3), activation='relu', padding = 'same')(x)\n",
    "    x = Dropout(0.03)(x)\n",
    "    x = Conv2D(512, (3,3), activation='relu', padding = 'same')(x)\n",
    "    x = Dropout(0.03)(x)\n",
    "    x = MaxPooling2D(pool_size=(2, 2), strides=(2, 2))(x)\n",
    "    x = Conv2D(512, (3,3), activation='relu', padding = 'same')(x)\n",
    "    x = Dropout(0.03)(x)\n",
    "    x = Conv2D(512, (3,3), activation='relu', padding = 'same')(x)\n",
    "    x = Dropout(0.03)(x)\n",
    "    x = Conv2D(512, (3,3), activation='relu', padding = 'same')(x)\n",
    "    x = Dropout(0.03)(x)\n",
    "    x = MaxPooling2D(pool_size=(2, 2), strides=(2, 2))(x)\n",
    "    x = Flatten()(x)\n",
    "    x = Dense(512, activation='relu')(x)\n",
    "    x = Dense(512, activation='relu')(x)\n",
    "    return x"
   ]
  },
  {
   "cell_type": "code",
   "execution_count": 9,
   "id": "multiple-highland",
   "metadata": {},
   "outputs": [],
   "source": [
    "def CONV(inputs):\n",
    "    x = Conv2D(64, (7,3), activation='relu', padding = 'same')(inputs)\n",
    "    x = MaxPooling2D(pool_size=(2, 2), strides=(2, 2))(x)\n",
    "    x = Conv2D(128, (3,3), activation='relu', padding = 'same')(x)\n",
    "    x = MaxPooling2D(pool_size=(2, 2), strides=(2, 2))(x)\n",
    "    x = Conv2D(256, (3,3), activation='relu', padding = 'same')(x)\n",
    "    x = MaxPooling2D(pool_size=(2, 2), strides=(2, 2))(x)\n",
    "    x = Conv2D(512, (3,3), activation='relu', padding = 'same')(x)\n",
    "    x = MaxPooling2D(pool_size=(2, 2), strides=(2, 2))(x)\n",
    "    x = Flatten()(x)\n",
    "    x = Dense(512, activation='relu')(x)\n",
    "    x = Dense(256, activation='relu')(x)\n",
    "    return x"
   ]
  },
  {
   "cell_type": "code",
   "execution_count": 10,
   "id": "lucky-object",
   "metadata": {},
   "outputs": [],
   "source": [
    "def create_new_model(data, cnn_selection):\n",
    "    input_shape = data.shape\n",
    "    output_dim = len(folders)\n",
    "\n",
    "    inputs = Input(shape=input_shape)\n",
    "    \n",
    "    if cnn_selection == 0:\n",
    "        x = VGG16(inputs)\n",
    "    else:\n",
    "        x = CONV(inputs)\n",
    "    outputs = Dense(output_dim, activation='softmax')(x)\n",
    "\n",
    "    model=Model(inputs,outputs)\n",
    "    return model"
   ]
  },
  {
   "cell_type": "code",
   "execution_count": 11,
   "id": "embedded-plenty",
   "metadata": {},
   "outputs": [],
   "source": [
    "import matplotlib.pyplot as plt\n",
    "def show_train_history(train_history, train, validation):\n",
    "    plt.plot(train_history.history[train])\n",
    "    plt.plot(train_history.history[validation])\n",
    "    plt.title('Train History')\n",
    "    plt.ylabel(train)\n",
    "    plt.xlabel('Epoch')\n",
    "    plt.legend(['train', 'validation'], loc='upper left')\n",
    "    plt.show()"
   ]
  },
  {
   "cell_type": "markdown",
   "id": "major-illness",
   "metadata": {},
   "source": [
    "### 資料切割(Train and Test)"
   ]
  },
  {
   "cell_type": "code",
   "execution_count": 12,
   "id": "convenient-diabetes",
   "metadata": {},
   "outputs": [],
   "source": [
    "seed =  random.randint(0, 1000**2)\n",
    "X_train, X_test, y_train, y_test = train_test_split(Data, Label, test_size=0.3,\n",
    "                                                    random_state=seed, stratify = Label)\n",
    "y_test_onehot = np_utils.to_categorical(y_test)"
   ]
  },
  {
   "cell_type": "markdown",
   "id": "extra-conflict",
   "metadata": {},
   "source": [
    "### Stratified K-fold"
   ]
  },
  {
   "cell_type": "code",
   "execution_count": 13,
   "id": "scheduled-filing",
   "metadata": {},
   "outputs": [
    {
     "name": "stdout",
     "output_type": "stream",
     "text": [
      "Epoch 1/20\n",
      "14/14 [==============================] - 4s 66ms/step - loss: 27.6522 - accuracy: 0.1250 - val_loss: 3.7846 - val_accuracy: 0.2143\n",
      "Epoch 2/20\n",
      "14/14 [==============================] - 0s 33ms/step - loss: 2.6179 - accuracy: 0.1875 - val_loss: 2.0833 - val_accuracy: 0.2143\n",
      "Epoch 3/20\n",
      "14/14 [==============================] - 0s 32ms/step - loss: 1.9663 - accuracy: 0.3750 - val_loss: 1.9601 - val_accuracy: 0.2143\n",
      "Epoch 4/20\n",
      "14/14 [==============================] - 0s 32ms/step - loss: 1.6258 - accuracy: 0.4375 - val_loss: 1.7322 - val_accuracy: 0.3571\n",
      "Epoch 5/20\n",
      "14/14 [==============================] - 0s 32ms/step - loss: 1.2676 - accuracy: 0.5625 - val_loss: 1.9799 - val_accuracy: 0.3571\n",
      "Epoch 6/20\n",
      "14/14 [==============================] - 0s 32ms/step - loss: 1.1216 - accuracy: 0.6429 - val_loss: 1.3335 - val_accuracy: 0.5714\n",
      "Epoch 7/20\n",
      "14/14 [==============================] - 0s 32ms/step - loss: 0.6710 - accuracy: 0.8125 - val_loss: 1.6772 - val_accuracy: 0.4286\n",
      "Epoch 8/20\n",
      "14/14 [==============================] - 0s 32ms/step - loss: 0.5741 - accuracy: 0.8571 - val_loss: 1.2809 - val_accuracy: 0.6429\n",
      "Epoch 9/20\n",
      "14/14 [==============================] - 0s 32ms/step - loss: 0.4307 - accuracy: 0.8929 - val_loss: 1.7048 - val_accuracy: 0.4286\n",
      "Epoch 10/20\n",
      "14/14 [==============================] - 0s 32ms/step - loss: 0.2876 - accuracy: 0.9286 - val_loss: 1.1627 - val_accuracy: 0.7143\n",
      "Epoch 11/20\n",
      "14/14 [==============================] - 0s 32ms/step - loss: 0.1386 - accuracy: 0.9643 - val_loss: 1.6979 - val_accuracy: 0.4286\n",
      "Epoch 12/20\n",
      "14/14 [==============================] - 0s 32ms/step - loss: 0.1082 - accuracy: 0.9554 - val_loss: 1.4382 - val_accuracy: 0.5000\n",
      "Epoch 13/20\n",
      "14/14 [==============================] - 0s 32ms/step - loss: 0.1064 - accuracy: 0.9821 - val_loss: 1.4781 - val_accuracy: 0.6786\n",
      "Epoch 14/20\n",
      "14/14 [==============================] - 0s 32ms/step - loss: 0.0643 - accuracy: 0.9821 - val_loss: 1.8467 - val_accuracy: 0.5714\n",
      "Epoch 15/20\n",
      "14/14 [==============================] - 0s 32ms/step - loss: 0.0684 - accuracy: 0.9821 - val_loss: 1.6017 - val_accuracy: 0.5714\n",
      "Epoch 16/20\n",
      "14/14 [==============================] - 0s 32ms/step - loss: 0.0496 - accuracy: 0.9911 - val_loss: 1.4780 - val_accuracy: 0.6071\n",
      "Epoch 17/20\n",
      "14/14 [==============================] - 0s 32ms/step - loss: 0.0675 - accuracy: 0.9911 - val_loss: 1.7282 - val_accuracy: 0.6429\n",
      "Epoch 18/20\n",
      "14/14 [==============================] - 0s 32ms/step - loss: 0.0429 - accuracy: 0.9821 - val_loss: 1.4853 - val_accuracy: 0.6071\n",
      "Epoch 19/20\n",
      "14/14 [==============================] - 0s 33ms/step - loss: 0.0531 - accuracy: 0.9821 - val_loss: 1.4665 - val_accuracy: 0.5714\n",
      "Epoch 20/20\n",
      "14/14 [==============================] - 0s 33ms/step - loss: 0.0395 - accuracy: 0.9821 - val_loss: 1.5292 - val_accuracy: 0.6071\n",
      "1 Fold: Accuracy of testing data = 56.67%\n",
      "\n",
      "Epoch 1/20\n",
      "14/14 [==============================] - 1s 40ms/step - loss: 40.2644 - accuracy: 0.0893 - val_loss: 5.2109 - val_accuracy: 0.2143\n",
      "Epoch 2/20\n",
      "14/14 [==============================] - 0s 33ms/step - loss: 3.0899 - accuracy: 0.1607 - val_loss: 2.0196 - val_accuracy: 0.2143\n",
      "Epoch 3/20\n",
      "14/14 [==============================] - 0s 32ms/step - loss: 2.1385 - accuracy: 0.1786 - val_loss: 2.0394 - val_accuracy: 0.3214\n",
      "Epoch 4/20\n",
      "14/14 [==============================] - 0s 32ms/step - loss: 1.8701 - accuracy: 0.3839 - val_loss: 1.9502 - val_accuracy: 0.5357\n",
      "Epoch 5/20\n",
      "14/14 [==============================] - 0s 32ms/step - loss: 1.4598 - accuracy: 0.5893 - val_loss: 1.9450 - val_accuracy: 0.4286\n",
      "Epoch 6/20\n",
      "14/14 [==============================] - 0s 32ms/step - loss: 1.3223 - accuracy: 0.6250 - val_loss: 1.6974 - val_accuracy: 0.5357\n",
      "Epoch 7/20\n",
      "14/14 [==============================] - 0s 32ms/step - loss: 1.0617 - accuracy: 0.6518 - val_loss: 2.0519 - val_accuracy: 0.3929\n",
      "Epoch 8/20\n",
      "14/14 [==============================] - 0s 33ms/step - loss: 0.7622 - accuracy: 0.7500 - val_loss: 2.0310 - val_accuracy: 0.3929\n",
      "Epoch 9/20\n",
      "14/14 [==============================] - 0s 33ms/step - loss: 0.6497 - accuracy: 0.7589 - val_loss: 1.9327 - val_accuracy: 0.5714\n",
      "Epoch 10/20\n",
      "14/14 [==============================] - 0s 32ms/step - loss: 0.5362 - accuracy: 0.8482 - val_loss: 2.0133 - val_accuracy: 0.3929\n",
      "Epoch 11/20\n",
      "14/14 [==============================] - 0s 33ms/step - loss: 0.3879 - accuracy: 0.8839 - val_loss: 1.7497 - val_accuracy: 0.5714\n",
      "Epoch 12/20\n",
      "14/14 [==============================] - 0s 32ms/step - loss: 0.1799 - accuracy: 0.9821 - val_loss: 1.9577 - val_accuracy: 0.4286\n",
      "Epoch 13/20\n",
      "14/14 [==============================] - 0s 32ms/step - loss: 0.2459 - accuracy: 0.9018 - val_loss: 1.9372 - val_accuracy: 0.5000\n",
      "Epoch 14/20\n",
      "14/14 [==============================] - 0s 32ms/step - loss: 0.2579 - accuracy: 0.9196 - val_loss: 1.8021 - val_accuracy: 0.4286\n",
      "Epoch 15/20\n",
      "14/14 [==============================] - 0s 33ms/step - loss: 0.1180 - accuracy: 0.9911 - val_loss: 2.2725 - val_accuracy: 0.3929\n",
      "Epoch 16/20\n",
      "14/14 [==============================] - 0s 32ms/step - loss: 0.1037 - accuracy: 0.9821 - val_loss: 2.0940 - val_accuracy: 0.4643\n",
      "Epoch 17/20\n",
      "14/14 [==============================] - 0s 32ms/step - loss: 0.1535 - accuracy: 0.9643 - val_loss: 1.8578 - val_accuracy: 0.5714\n",
      "Epoch 18/20\n",
      "14/14 [==============================] - 0s 33ms/step - loss: 0.0697 - accuracy: 0.9911 - val_loss: 1.7560 - val_accuracy: 0.5714\n",
      "Epoch 19/20\n",
      "14/14 [==============================] - 0s 32ms/step - loss: 0.0779 - accuracy: 0.9911 - val_loss: 1.8332 - val_accuracy: 0.5714\n",
      "Epoch 20/20\n",
      "14/14 [==============================] - 0s 33ms/step - loss: 0.0522 - accuracy: 0.9911 - val_loss: 1.8736 - val_accuracy: 0.5357\n",
      "2 Fold: Accuracy of testing data = 50.00%\n",
      "\n",
      "Epoch 1/20\n",
      "14/14 [==============================] - 1s 40ms/step - loss: 36.0353 - accuracy: 0.0982 - val_loss: 6.6220 - val_accuracy: 0.1786\n",
      "Epoch 2/20\n",
      "14/14 [==============================] - 0s 34ms/step - loss: 3.3196 - accuracy: 0.2143 - val_loss: 2.1731 - val_accuracy: 0.3214\n",
      "Epoch 3/20\n",
      "14/14 [==============================] - 0s 32ms/step - loss: 1.9699 - accuracy: 0.2946 - val_loss: 1.9567 - val_accuracy: 0.3571\n",
      "Epoch 4/20\n",
      "14/14 [==============================] - 0s 32ms/step - loss: 1.5979 - accuracy: 0.4821 - val_loss: 1.9302 - val_accuracy: 0.3929\n",
      "Epoch 5/20\n",
      "14/14 [==============================] - 0s 33ms/step - loss: 1.3484 - accuracy: 0.5446 - val_loss: 1.5706 - val_accuracy: 0.5000\n",
      "Epoch 6/20\n",
      "14/14 [==============================] - 0s 32ms/step - loss: 0.9765 - accuracy: 0.7321 - val_loss: 1.5918 - val_accuracy: 0.4286\n",
      "Epoch 7/20\n",
      "14/14 [==============================] - 0s 32ms/step - loss: 0.7707 - accuracy: 0.7946 - val_loss: 1.3582 - val_accuracy: 0.5357\n",
      "Epoch 8/20\n",
      "14/14 [==============================] - 0s 32ms/step - loss: 0.5328 - accuracy: 0.8304 - val_loss: 1.4593 - val_accuracy: 0.4643\n",
      "Epoch 9/20\n",
      "14/14 [==============================] - 0s 33ms/step - loss: 0.3674 - accuracy: 0.9196 - val_loss: 1.4427 - val_accuracy: 0.5357\n",
      "Epoch 10/20\n",
      "14/14 [==============================] - 0s 32ms/step - loss: 0.2315 - accuracy: 0.9554 - val_loss: 1.4105 - val_accuracy: 0.5714\n",
      "Epoch 11/20\n",
      "14/14 [==============================] - 0s 33ms/step - loss: 0.2070 - accuracy: 0.9732 - val_loss: 1.3676 - val_accuracy: 0.5357\n",
      "Epoch 12/20\n",
      "14/14 [==============================] - 0s 33ms/step - loss: 0.0702 - accuracy: 1.0000 - val_loss: 1.3475 - val_accuracy: 0.5357\n",
      "Epoch 13/20\n",
      "14/14 [==============================] - 0s 33ms/step - loss: 0.0323 - accuracy: 1.0000 - val_loss: 1.4686 - val_accuracy: 0.5357\n",
      "Epoch 14/20\n",
      "14/14 [==============================] - 0s 33ms/step - loss: 0.0160 - accuracy: 1.0000 - val_loss: 1.2614 - val_accuracy: 0.5000\n",
      "Epoch 15/20\n",
      "14/14 [==============================] - 0s 33ms/step - loss: 0.0096 - accuracy: 1.0000 - val_loss: 1.3478 - val_accuracy: 0.6071\n",
      "Epoch 16/20\n",
      "14/14 [==============================] - 0s 32ms/step - loss: 0.0068 - accuracy: 1.0000 - val_loss: 1.3490 - val_accuracy: 0.5357\n",
      "Epoch 17/20\n",
      "14/14 [==============================] - 0s 33ms/step - loss: 0.0055 - accuracy: 1.0000 - val_loss: 1.3399 - val_accuracy: 0.5714\n",
      "Epoch 18/20\n"
     ]
    },
    {
     "name": "stdout",
     "output_type": "stream",
     "text": [
      "14/14 [==============================] - 0s 32ms/step - loss: 0.0045 - accuracy: 1.0000 - val_loss: 1.3761 - val_accuracy: 0.5357\n",
      "Epoch 19/20\n",
      "14/14 [==============================] - 0s 33ms/step - loss: 0.0038 - accuracy: 1.0000 - val_loss: 1.3846 - val_accuracy: 0.5357\n",
      "Epoch 20/20\n",
      "14/14 [==============================] - 0s 33ms/step - loss: 0.0033 - accuracy: 1.0000 - val_loss: 1.3868 - val_accuracy: 0.5714\n",
      "3 Fold: Accuracy of testing data = 66.67%\n",
      "\n",
      "Epoch 1/20\n",
      "14/14 [==============================] - 1s 40ms/step - loss: 58.2586 - accuracy: 0.1161 - val_loss: 6.5322 - val_accuracy: 0.1071\n",
      "Epoch 2/20\n",
      "14/14 [==============================] - 0s 32ms/step - loss: 2.9030 - accuracy: 0.1518 - val_loss: 2.2501 - val_accuracy: 0.1429\n",
      "Epoch 3/20\n",
      "14/14 [==============================] - 0s 33ms/step - loss: 2.0113 - accuracy: 0.2679 - val_loss: 2.1033 - val_accuracy: 0.3571\n",
      "Epoch 4/20\n",
      "14/14 [==============================] - 0s 32ms/step - loss: 1.7576 - accuracy: 0.4286 - val_loss: 2.0786 - val_accuracy: 0.1786\n",
      "Epoch 5/20\n",
      "14/14 [==============================] - 0s 32ms/step - loss: 1.5494 - accuracy: 0.4375 - val_loss: 1.9339 - val_accuracy: 0.3929\n",
      "Epoch 6/20\n",
      "14/14 [==============================] - 0s 34ms/step - loss: 1.3433 - accuracy: 0.5357 - val_loss: 2.1067 - val_accuracy: 0.4286\n",
      "Epoch 7/20\n",
      "14/14 [==============================] - 0s 33ms/step - loss: 1.2135 - accuracy: 0.6161 - val_loss: 1.6389 - val_accuracy: 0.6071\n",
      "Epoch 8/20\n",
      "14/14 [==============================] - 0s 33ms/step - loss: 0.8670 - accuracy: 0.6964 - val_loss: 1.7858 - val_accuracy: 0.3929\n",
      "Epoch 9/20\n",
      "14/14 [==============================] - 0s 33ms/step - loss: 0.8311 - accuracy: 0.7500 - val_loss: 1.7564 - val_accuracy: 0.5714\n",
      "Epoch 10/20\n",
      "14/14 [==============================] - 0s 33ms/step - loss: 0.6053 - accuracy: 0.8393 - val_loss: 1.5968 - val_accuracy: 0.5000\n",
      "Epoch 11/20\n",
      "14/14 [==============================] - 0s 33ms/step - loss: 0.4708 - accuracy: 0.8482 - val_loss: 1.4613 - val_accuracy: 0.5714\n",
      "Epoch 12/20\n",
      "14/14 [==============================] - 0s 33ms/step - loss: 0.2697 - accuracy: 0.9286 - val_loss: 1.5703 - val_accuracy: 0.4286\n",
      "Epoch 13/20\n",
      "14/14 [==============================] - 0s 33ms/step - loss: 0.2041 - accuracy: 0.9643 - val_loss: 1.3985 - val_accuracy: 0.6071\n",
      "Epoch 14/20\n",
      "14/14 [==============================] - 0s 33ms/step - loss: 0.1511 - accuracy: 0.9732 - val_loss: 1.5787 - val_accuracy: 0.5357\n",
      "Epoch 15/20\n",
      "14/14 [==============================] - 0s 33ms/step - loss: 0.0772 - accuracy: 0.9911 - val_loss: 1.5196 - val_accuracy: 0.5000\n",
      "Epoch 16/20\n",
      "14/14 [==============================] - 0s 32ms/step - loss: 0.0351 - accuracy: 1.0000 - val_loss: 1.5044 - val_accuracy: 0.6429\n",
      "Epoch 17/20\n",
      "14/14 [==============================] - 0s 33ms/step - loss: 0.0204 - accuracy: 1.0000 - val_loss: 1.6035 - val_accuracy: 0.6071\n",
      "Epoch 18/20\n",
      "14/14 [==============================] - 0s 33ms/step - loss: 0.0126 - accuracy: 1.0000 - val_loss: 1.5130 - val_accuracy: 0.6429\n",
      "Epoch 19/20\n",
      "14/14 [==============================] - 0s 34ms/step - loss: 0.0090 - accuracy: 1.0000 - val_loss: 1.5260 - val_accuracy: 0.6429\n",
      "Epoch 20/20\n",
      "14/14 [==============================] - 0s 32ms/step - loss: 0.0070 - accuracy: 1.0000 - val_loss: 1.6194 - val_accuracy: 0.6429\n",
      "4 Fold: Accuracy of testing data = 70.00%\n",
      "\n",
      "Epoch 1/20\n",
      "14/14 [==============================] - 1s 41ms/step - loss: 33.1734 - accuracy: 0.1071 - val_loss: 4.1455 - val_accuracy: 0.1071\n",
      "Epoch 2/20\n",
      "14/14 [==============================] - 0s 33ms/step - loss: 2.7499 - accuracy: 0.2321 - val_loss: 2.2215 - val_accuracy: 0.2500\n",
      "Epoch 3/20\n",
      "14/14 [==============================] - 0s 33ms/step - loss: 2.0295 - accuracy: 0.2411 - val_loss: 1.9597 - val_accuracy: 0.3929\n",
      "Epoch 4/20\n",
      "14/14 [==============================] - 0s 34ms/step - loss: 1.6383 - accuracy: 0.4375 - val_loss: 1.8645 - val_accuracy: 0.3929\n",
      "Epoch 5/20\n",
      "14/14 [==============================] - 0s 32ms/step - loss: 1.4388 - accuracy: 0.5268 - val_loss: 1.8862 - val_accuracy: 0.3214\n",
      "Epoch 6/20\n",
      "14/14 [==============================] - 0s 33ms/step - loss: 1.0101 - accuracy: 0.7500 - val_loss: 1.4690 - val_accuracy: 0.4286\n",
      "Epoch 7/20\n",
      "14/14 [==============================] - 0s 32ms/step - loss: 0.6781 - accuracy: 0.7768 - val_loss: 1.5777 - val_accuracy: 0.4643\n",
      "Epoch 8/20\n",
      "14/14 [==============================] - 0s 32ms/step - loss: 0.5030 - accuracy: 0.8482 - val_loss: 1.5599 - val_accuracy: 0.4286\n",
      "Epoch 9/20\n",
      "14/14 [==============================] - 0s 32ms/step - loss: 0.3437 - accuracy: 0.8929 - val_loss: 1.2303 - val_accuracy: 0.5357\n",
      "Epoch 10/20\n",
      "14/14 [==============================] - 0s 33ms/step - loss: 0.2106 - accuracy: 0.9554 - val_loss: 1.5417 - val_accuracy: 0.5714\n",
      "Epoch 11/20\n",
      "14/14 [==============================] - 0s 33ms/step - loss: 0.1815 - accuracy: 0.9554 - val_loss: 1.6299 - val_accuracy: 0.5357\n",
      "Epoch 12/20\n",
      "14/14 [==============================] - 0s 32ms/step - loss: 0.1765 - accuracy: 0.9464 - val_loss: 1.3856 - val_accuracy: 0.5357\n",
      "Epoch 13/20\n",
      "14/14 [==============================] - 0s 32ms/step - loss: 0.0957 - accuracy: 0.9732 - val_loss: 1.4880 - val_accuracy: 0.6429\n",
      "Epoch 14/20\n",
      "14/14 [==============================] - 0s 33ms/step - loss: 0.1195 - accuracy: 0.9643 - val_loss: 1.2531 - val_accuracy: 0.6786\n",
      "Epoch 15/20\n",
      "14/14 [==============================] - 0s 33ms/step - loss: 0.1264 - accuracy: 0.9732 - val_loss: 1.1279 - val_accuracy: 0.6071\n",
      "Epoch 16/20\n",
      "14/14 [==============================] - 0s 32ms/step - loss: 0.0658 - accuracy: 0.9821 - val_loss: 1.2314 - val_accuracy: 0.6071\n",
      "Epoch 17/20\n",
      "14/14 [==============================] - 0s 33ms/step - loss: 0.0623 - accuracy: 0.9911 - val_loss: 1.4553 - val_accuracy: 0.5714\n",
      "Epoch 18/20\n",
      "14/14 [==============================] - 0s 32ms/step - loss: 0.0523 - accuracy: 0.9821 - val_loss: 1.2739 - val_accuracy: 0.5714\n",
      "Epoch 19/20\n",
      "14/14 [==============================] - 0s 33ms/step - loss: 0.0362 - accuracy: 0.9911 - val_loss: 1.1913 - val_accuracy: 0.5714\n",
      "Epoch 20/20\n",
      "14/14 [==============================] - 0s 33ms/step - loss: 0.0562 - accuracy: 0.9911 - val_loss: 1.1063 - val_accuracy: 0.6429\n",
      "5 Fold: Accuracy of testing data = 58.33%\n",
      "\n"
     ]
    }
   ],
   "source": [
    "VALIDATION_ACCURACY = []\n",
    "VALIDATION_LOSS = []\n",
    "TEST_ACCURACY=[]\n",
    "\n",
    "skf = StratifiedKFold(n_splits=fold_num)\n",
    "fold_var = 1\n",
    "\n",
    "for train_index, valid_index in skf.split(X_train, y_train):\n",
    "    X_train_fold = X_train[train_index]\n",
    "    y_train_fold = y_train[train_index]\n",
    "    y_train_fold_onehot = np_utils.to_categorical(y_train_fold)\n",
    "    \n",
    "    X_val_fold = X_train[valid_index]\n",
    "    y_val_fold = y_train[valid_index]\n",
    "    y_val_fold_onehot = np_utils.to_categorical(y_val_fold)\n",
    "    \n",
    "    model = create_new_model(X_train_fold[0], CNN_SELECT)\n",
    "    opt = adam_v2.Adam(learning_rate=0.0001)\n",
    "    model.compile(loss=\"categorical_crossentropy\", optimizer=opt, metrics=['accuracy'])\n",
    "    # CREATE CALLBACKS\n",
    "    checkpoint = tf.keras.callbacks.ModelCheckpoint(model_save_dir+\"/\"+model_name+\"_fold\"+str(fold_var)+\".h5\",\n",
    "                                    monitor='val_accuracy', \n",
    "                                    save_best_only=True)\n",
    "    callbacks_list = [checkpoint]\n",
    "    \n",
    "    history = model.fit(x=X_train_fold, y=y_train_fold_onehot,\n",
    "                    validation_data=(X_val_fold, y_val_fold_onehot),\n",
    "                    epochs=epochs, batch_size=batch_size,\n",
    "                    callbacks=callbacks_list,\n",
    "                    verbose=1) # 訓練紀錄顯示\n",
    "    \n",
    "    model.load_weights(model_save_dir+\"/\"+model_name+\"_fold\"+str(fold_var)+\".h5\")\n",
    "    if HIS_SHOW:\n",
    "        show_train_history(history, 'loss', 'val_loss')\n",
    "    \n",
    "    results = model.evaluate(X_val_fold, y_val_fold_onehot, batch_size=8, verbose=0)\n",
    "    results = dict(zip(model.metrics_names,results))\n",
    "    \n",
    "    VALIDATION_ACCURACY.append(results['accuracy'])\n",
    "    VALIDATION_LOSS.append(results['loss'])\n",
    "    \n",
    "    \n",
    "    scores = model.evaluate(X_test, y_test_onehot, batch_size=8, verbose=0)\n",
    "    print(str(fold_var)+\" Fold: \"+\"Accuracy of testing data = {:2.2f}%\".format(scores[1]*100.0))\n",
    "    print()\n",
    "    TEST_ACCURACY.append(scores[1]*100.0)\n",
    "    \n",
    "    tf.keras.backend.clear_session()\n",
    "    fold_var+=1"
   ]
  },
  {
   "cell_type": "code",
   "execution_count": 14,
   "id": "completed-macintosh",
   "metadata": {},
   "outputs": [
    {
     "name": "stdout",
     "output_type": "stream",
     "text": [
      "validation accuracy:  [0.7142857313156128, 0.5714285969734192, 0.6071428656578064, 0.6428571343421936, 0.6785714030265808]\n",
      "validation loss:  [1.1626501083374023, 1.9327161312103271, 1.3477848768234253, 1.5044485330581665, 1.2531265020370483]\n",
      "test accuracy:  [56.66666626930237, 50.0, 66.66666865348816, 69.9999988079071, 58.33333134651184]\n"
     ]
    }
   ],
   "source": [
    "print(\"validation accuracy: \",VALIDATION_ACCURACY)\n",
    "print(\"validation loss: \", VALIDATION_LOSS)\n",
    "print(\"test accuracy: \",TEST_ACCURACY)"
   ]
  },
  {
   "cell_type": "code",
   "execution_count": 15,
   "id": "monetary-measure",
   "metadata": {},
   "outputs": [
    {
     "name": "stdout",
     "output_type": "stream",
     "text": [
      "average validation accuracy:  0.6428571462631225\n",
      "average test accuracy:  60.333333015441895\n"
     ]
    }
   ],
   "source": [
    "print(\"average validation accuracy: \",sum(VALIDATION_ACCURACY)/len(VALIDATION_ACCURACY))\n",
    "print(\"average test accuracy: \",sum(TEST_ACCURACY)/len(TEST_ACCURACY))"
   ]
  },
  {
   "cell_type": "code",
   "execution_count": null,
   "id": "indonesian-traffic",
   "metadata": {},
   "outputs": [],
   "source": []
  }
 ],
 "metadata": {
  "kernelspec": {
   "display_name": "Python 3 (ipykernel)",
   "language": "python",
   "name": "python3"
  },
  "language_info": {
   "codemirror_mode": {
    "name": "ipython",
    "version": 3
   },
   "file_extension": ".py",
   "mimetype": "text/x-python",
   "name": "python",
   "nbconvert_exporter": "python",
   "pygments_lexer": "ipython3",
   "version": "3.9.6"
  }
 },
 "nbformat": 4,
 "nbformat_minor": 5
}
