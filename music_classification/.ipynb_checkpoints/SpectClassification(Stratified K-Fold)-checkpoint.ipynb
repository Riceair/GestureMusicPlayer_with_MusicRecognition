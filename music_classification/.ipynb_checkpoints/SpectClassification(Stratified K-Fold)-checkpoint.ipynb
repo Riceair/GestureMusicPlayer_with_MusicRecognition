{
 "cells": [
  {
   "cell_type": "code",
   "execution_count": 1,
   "id": "fuzzy-vegetation",
   "metadata": {},
   "outputs": [],
   "source": [
    "import numpy as np\n",
    "import random\n",
    "import cv2\n",
    "import os\n",
    "\n",
    "from tensorflow import keras\n",
    "from keras.layers import *\n",
    "from keras.models import *\n",
    "from keras.optimizers import *\n",
    "\n",
    "from keras.utils import np_utils\n",
    "from sklearn.model_selection import train_test_split, StratifiedKFold\n",
    "from sklearn.metrics import confusion_matrix, roc_auc_score\n",
    "import tensorflow as tf"
   ]
  },
  {
   "cell_type": "markdown",
   "id": "raised-trade",
   "metadata": {},
   "source": [
    "### 讀取頻譜圖路徑"
   ]
  },
  {
   "cell_type": "code",
   "execution_count": 2,
   "id": "operational-jackson",
   "metadata": {},
   "outputs": [],
   "source": [
    "INPUT_SELECT = 0 #決定模型的輸入 0: log mel scale spectrogram, 1: mfcc\n",
    "CNN_SELECT = 1 #決定CNN的類型 0: VGG16, 1: 自訂義CNN\n",
    "IMG_SOURCE=0 #0: original, 2: augementation, 4: frame len 40ms\n",
    "HIS_SHOW = False #是否show出訓練的history loss\n",
    "epochs = 20\n",
    "batch_size = 8\n",
    "fold_num = 5\n",
    "MODEL_DIR = (\"Model/ms_model\", \"Model/mfcc_model\")\n",
    "MODEL_NAME = (\"MS\", \"MFCC\", \"MS_AUG\", \"MFCC_AUG\", \"MS_40\", \"MFCC_40\")\n",
    "IMG_PATH = (\"ImageData/original/spectrogram\", \"ImageData/original/mfcc\",\n",
    "                        \"ImageData/augmentation/spectrogram\", \"ImageData/augmentation/mfcc\",\n",
    "                        \"ImageData/frameLen_40ms/spectrogram\",\"ImageData/frameLen_40ms/mfcc\")"
   ]
  },
  {
   "cell_type": "code",
   "execution_count": 3,
   "id": "pharmaceutical-blade",
   "metadata": {},
   "outputs": [
    {
     "name": "stdout",
     "output_type": "stream",
     "text": [
      "ImageData/original/spectrogram ['Blue', 'Classical', 'Country', 'Disco', 'EDM', 'Hiphop', 'Jazz', 'Metal', 'Pop', 'Reggae']\n"
     ]
    }
   ],
   "source": [
    "root_path = IMG_PATH[INPUT_SELECT+IMG_SOURCE]\n",
    "model_save_dir = MODEL_DIR[INPUT_SELECT]\n",
    "model_name = MODEL_NAME[INPUT_SELECT+IMG_SOURCE]\n",
    "folder_names = os.listdir(root_path)\n",
    "print(root_path, folder_names)"
   ]
  },
  {
   "cell_type": "code",
   "execution_count": 4,
   "id": "covered-slide",
   "metadata": {},
   "outputs": [
    {
     "name": "stdout",
     "output_type": "stream",
     "text": [
      "class count:  10\n",
      "class file count:  [20, 20, 20, 20, 20, 20, 20, 20, 20, 20]\n"
     ]
    }
   ],
   "source": [
    "folders=[] #儲存各類別資料夾中的檔案名稱\n",
    "for folder in folder_names:\n",
    "    file_names=[]\n",
    "    for file_name in os.listdir(root_path+\"/\"+folder):\n",
    "        file_names.append(root_path+\"/\"+folder+\"/\"+file_name)\n",
    "    folders.append(file_names)\n",
    "\n",
    "class_count_list = [len(files) for files in folders] #紀錄每個類別各有多少檔案(後面會用到)\n",
    "print(\"class count: \", len(folders))\n",
    "print(\"class file count: \", class_count_list)"
   ]
  },
  {
   "cell_type": "markdown",
   "id": "innocent-affairs",
   "metadata": {},
   "source": [
    "### 讀取頻譜圖"
   ]
  },
  {
   "cell_type": "code",
   "execution_count": 5,
   "id": "tracked-reducing",
   "metadata": {},
   "outputs": [],
   "source": [
    "Data = []\n",
    "for folder in folders:\n",
    "    for name in folder:\n",
    "        spect = cv2.imread(name) #shape=(220, 449, 3)\n",
    "        spect = cv2.resize(spect, (224, 224))\n",
    "#         spect = cv2.cvtColor(spect, cv2.COLOR_BGR2GRAY) #轉灰階\n",
    "#         spect = spect.T #轉置\n",
    "        Data.append(spect)\n",
    "Data = np.array(Data)"
   ]
  },
  {
   "cell_type": "code",
   "execution_count": 6,
   "id": "antique-index",
   "metadata": {},
   "outputs": [
    {
     "data": {
      "text/plain": [
       "(200, 224, 224, 3)"
      ]
     },
     "execution_count": 6,
     "metadata": {},
     "output_type": "execute_result"
    }
   ],
   "source": [
    "Data.shape"
   ]
  },
  {
   "cell_type": "markdown",
   "id": "adjacent-advocate",
   "metadata": {},
   "source": [
    "### 製作Label"
   ]
  },
  {
   "cell_type": "code",
   "execution_count": 7,
   "id": "comprehensive-picture",
   "metadata": {},
   "outputs": [],
   "source": [
    "Label = []\n",
    "for l, class_count in enumerate(class_count_list):\n",
    "    for _ in range(class_count):\n",
    "        Label.append(np.ones(1)*l)\n",
    "Label = np.array(Label)"
   ]
  },
  {
   "cell_type": "markdown",
   "id": "latter-astrology",
   "metadata": {},
   "source": [
    "### CNN層定義"
   ]
  },
  {
   "cell_type": "code",
   "execution_count": 8,
   "id": "everyday-ethics",
   "metadata": {},
   "outputs": [],
   "source": [
    "def VGG16(inputs):\n",
    "    x = Conv2D(64, (3,3), activation='relu', padding = 'same')(inputs)\n",
    "    x = Dropout(0.03)(x)\n",
    "    x = Conv2D(64, (3,3), activation='relu', padding = 'same')(x)\n",
    "    x = Dropout(0.03)(x)\n",
    "    x = MaxPooling2D(pool_size=(2, 2), strides=(2, 2))(x)\n",
    "    x = Conv2D(128, (3,3), activation='relu', padding = 'same')(x)\n",
    "    x = Dropout(0.03)(x)\n",
    "    x = Conv2D(128, (3,3), activation='relu', padding = 'same')(x)\n",
    "    x = Dropout(0.03)(x)\n",
    "    x = MaxPooling2D(pool_size=(2, 2), strides=(2, 2))(x)\n",
    "    x = Conv2D(256, (3,3), activation='relu', padding = 'same')(x)\n",
    "    x = Dropout(0.03)(x)\n",
    "    x = Conv2D(256, (3,3), activation='relu', padding = 'same')(x)\n",
    "    x = Dropout(0.03)(x)\n",
    "    x = Conv2D(256, (3,3), activation='relu', padding = 'same')(x)\n",
    "    x = Dropout(0.03)(x)\n",
    "    x = MaxPooling2D(pool_size=(2, 2), strides=(2, 2))(x)\n",
    "    x = Conv2D(512, (3,3), activation='relu', padding = 'same')(x)\n",
    "    x = Dropout(0.03)(x)\n",
    "    x = Conv2D(512, (3,3), activation='relu', padding = 'same')(x)\n",
    "    x = Dropout(0.03)(x)\n",
    "    x = Conv2D(512, (3,3), activation='relu', padding = 'same')(x)\n",
    "    x = Dropout(0.03)(x)\n",
    "    x = MaxPooling2D(pool_size=(2, 2), strides=(2, 2))(x)\n",
    "    x = Conv2D(512, (3,3), activation='relu', padding = 'same')(x)\n",
    "    x = Dropout(0.03)(x)\n",
    "    x = Conv2D(512, (3,3), activation='relu', padding = 'same')(x)\n",
    "    x = Dropout(0.03)(x)\n",
    "    x = Conv2D(512, (3,3), activation='relu', padding = 'same')(x)\n",
    "    x = Dropout(0.03)(x)\n",
    "    x = MaxPooling2D(pool_size=(2, 2), strides=(2, 2))(x)\n",
    "    x = Flatten()(x)\n",
    "    x = Dense(512, activation='relu')(x)\n",
    "    x = Dense(512, activation='relu')(x)\n",
    "    return x"
   ]
  },
  {
   "cell_type": "code",
   "execution_count": 9,
   "id": "multiple-highland",
   "metadata": {},
   "outputs": [],
   "source": [
    "def CONV(inputs):\n",
    "    x = Conv2D(64, (7,3), activation='relu', padding = 'same')(inputs)\n",
    "    x = MaxPooling2D(pool_size=(2, 2), strides=(2, 2))(x)\n",
    "    x = Conv2D(128, (3,3), activation='relu', padding = 'same')(x)\n",
    "    x = MaxPooling2D(pool_size=(2, 2), strides=(2, 2))(x)\n",
    "    x = Conv2D(256, (3,3), activation='relu', padding = 'same')(x)\n",
    "    x = MaxPooling2D(pool_size=(2, 2), strides=(2, 2))(x)\n",
    "    x = Conv2D(512, (3,3), activation='relu', padding = 'same')(x)\n",
    "    x = MaxPooling2D(pool_size=(2, 2), strides=(2, 2))(x)\n",
    "    x = Flatten()(x)\n",
    "    x = Dense(512, activation='relu')(x)\n",
    "    x = Dense(256, activation='relu')(x)\n",
    "    return x"
   ]
  },
  {
   "cell_type": "code",
   "execution_count": 10,
   "id": "lucky-object",
   "metadata": {},
   "outputs": [],
   "source": [
    "def create_new_model(data, cnn_selection):\n",
    "    input_shape = data.shape\n",
    "    output_dim = len(folders)\n",
    "\n",
    "    inputs = Input(shape=input_shape)\n",
    "    \n",
    "    if cnn_selection == 0:\n",
    "        x = VGG16(inputs)\n",
    "    else:\n",
    "        x = CONV(inputs)\n",
    "    outputs = Dense(output_dim, activation='softmax')(x)\n",
    "\n",
    "    model=Model(inputs,outputs)\n",
    "    return model"
   ]
  },
  {
   "cell_type": "code",
   "execution_count": 11,
   "id": "embedded-plenty",
   "metadata": {},
   "outputs": [],
   "source": [
    "import matplotlib.pyplot as plt\n",
    "def show_train_history(train_history, train, validation):\n",
    "    plt.plot(train_history.history[train])\n",
    "    plt.plot(train_history.history[validation])\n",
    "    plt.title('Train History')\n",
    "    plt.ylabel(train)\n",
    "    plt.xlabel('Epoch')\n",
    "    plt.legend(['train', 'validation'], loc='upper left')\n",
    "    plt.show()"
   ]
  },
  {
   "cell_type": "markdown",
   "id": "major-illness",
   "metadata": {},
   "source": [
    "### 資料切割(Train and Test)"
   ]
  },
  {
   "cell_type": "code",
   "execution_count": 12,
   "id": "convenient-diabetes",
   "metadata": {},
   "outputs": [],
   "source": [
    "seed =  random.randint(0, 1000**2)\n",
    "X_train, X_test, y_train, y_test = train_test_split(Data, Label, test_size=0.3,\n",
    "                                                    random_state=seed, stratify = Label)\n",
    "y_test_onehot = np_utils.to_categorical(y_test)"
   ]
  },
  {
   "cell_type": "markdown",
   "id": "extra-conflict",
   "metadata": {},
   "source": [
    "### Stratified K-fold"
   ]
  },
  {
   "cell_type": "code",
   "execution_count": 13,
   "id": "scheduled-filing",
   "metadata": {},
   "outputs": [
    {
     "name": "stdout",
     "output_type": "stream",
     "text": [
      "Epoch 1/20\n",
      "14/14 [==============================] - 5s 67ms/step - loss: 28.9915 - accuracy: 0.1518 - val_loss: 3.8986 - val_accuracy: 0.1786\n",
      "Epoch 2/20\n",
      "14/14 [==============================] - 0s 33ms/step - loss: 2.9729 - accuracy: 0.1607 - val_loss: 2.3505 - val_accuracy: 0.1429\n",
      "Epoch 3/20\n",
      "14/14 [==============================] - 0s 32ms/step - loss: 1.8161 - accuracy: 0.3393 - val_loss: 2.1081 - val_accuracy: 0.2500\n",
      "Epoch 4/20\n",
      "14/14 [==============================] - 0s 32ms/step - loss: 1.4740 - accuracy: 0.5357 - val_loss: 2.1454 - val_accuracy: 0.4286\n",
      "Epoch 5/20\n",
      "14/14 [==============================] - 0s 32ms/step - loss: 1.1513 - accuracy: 0.6161 - val_loss: 2.0886 - val_accuracy: 0.4286\n",
      "Epoch 6/20\n",
      "14/14 [==============================] - 0s 32ms/step - loss: 0.8454 - accuracy: 0.7411 - val_loss: 2.0193 - val_accuracy: 0.5000\n",
      "Epoch 7/20\n",
      "14/14 [==============================] - 0s 32ms/step - loss: 0.5028 - accuracy: 0.8839 - val_loss: 2.1658 - val_accuracy: 0.4643\n",
      "Epoch 8/20\n",
      "14/14 [==============================] - ETA: 0s - loss: 0.3316 - accuracy: 0.93 - 0s 32ms/step - loss: 0.3329 - accuracy: 0.9286 - val_loss: 1.9448 - val_accuracy: 0.6071\n",
      "Epoch 9/20\n",
      "14/14 [==============================] - 0s 33ms/step - loss: 0.2054 - accuracy: 0.9554 - val_loss: 2.1284 - val_accuracy: 0.5000\n",
      "Epoch 10/20\n",
      "14/14 [==============================] - 0s 32ms/step - loss: 0.1294 - accuracy: 0.9911 - val_loss: 1.9590 - val_accuracy: 0.5000\n",
      "Epoch 11/20\n",
      "14/14 [==============================] - 0s 32ms/step - loss: 0.0993 - accuracy: 0.9821 - val_loss: 2.3814 - val_accuracy: 0.4643\n",
      "Epoch 12/20\n",
      "14/14 [==============================] - 0s 32ms/step - loss: 0.0738 - accuracy: 1.0000 - val_loss: 2.2807 - val_accuracy: 0.4643\n",
      "Epoch 13/20\n",
      "14/14 [==============================] - 0s 32ms/step - loss: 0.0211 - accuracy: 1.0000 - val_loss: 1.9882 - val_accuracy: 0.6429\n",
      "Epoch 14/20\n",
      "14/14 [==============================] - 0s 33ms/step - loss: 0.0110 - accuracy: 1.0000 - val_loss: 1.9912 - val_accuracy: 0.5357\n",
      "Epoch 15/20\n",
      "14/14 [==============================] - 0s 32ms/step - loss: 0.0060 - accuracy: 1.0000 - val_loss: 2.0056 - val_accuracy: 0.6071\n",
      "Epoch 16/20\n",
      "14/14 [==============================] - 0s 32ms/step - loss: 0.0039 - accuracy: 1.0000 - val_loss: 2.0643 - val_accuracy: 0.6429\n",
      "Epoch 17/20\n",
      "14/14 [==============================] - 0s 32ms/step - loss: 0.0027 - accuracy: 1.0000 - val_loss: 2.0742 - val_accuracy: 0.6071\n",
      "Epoch 18/20\n",
      "14/14 [==============================] - 0s 32ms/step - loss: 0.0023 - accuracy: 1.0000 - val_loss: 2.0898 - val_accuracy: 0.6071\n",
      "Epoch 19/20\n",
      "14/14 [==============================] - 0s 33ms/step - loss: 0.0019 - accuracy: 1.0000 - val_loss: 2.1312 - val_accuracy: 0.6429\n",
      "Epoch 20/20\n",
      "14/14 [==============================] - 0s 33ms/step - loss: 0.0016 - accuracy: 1.0000 - val_loss: 2.1491 - val_accuracy: 0.6071\n",
      "1 Fold: Accuracy of testing data = 60.00%\n",
      "\n",
      "Epoch 1/20\n",
      "14/14 [==============================] - 1s 40ms/step - loss: 32.9827 - accuracy: 0.0982 - val_loss: 4.1710 - val_accuracy: 0.1786\n",
      "Epoch 2/20\n",
      "14/14 [==============================] - 0s 33ms/step - loss: 2.5777 - accuracy: 0.1518 - val_loss: 2.1959 - val_accuracy: 0.2143\n",
      "Epoch 3/20\n",
      "14/14 [==============================] - 0s 32ms/step - loss: 1.8850 - accuracy: 0.3839 - val_loss: 2.0351 - val_accuracy: 0.3214\n",
      "Epoch 4/20\n",
      "14/14 [==============================] - 0s 32ms/step - loss: 1.6928 - accuracy: 0.3929 - val_loss: 2.3044 - val_accuracy: 0.2143\n",
      "Epoch 5/20\n",
      "14/14 [==============================] - 0s 32ms/step - loss: 1.5868 - accuracy: 0.4286 - val_loss: 2.0172 - val_accuracy: 0.3214\n",
      "Epoch 6/20\n",
      "14/14 [==============================] - 0s 32ms/step - loss: 1.1588 - accuracy: 0.6696 - val_loss: 1.9765 - val_accuracy: 0.4286\n",
      "Epoch 7/20\n",
      "14/14 [==============================] - 0s 32ms/step - loss: 0.8335 - accuracy: 0.7679 - val_loss: 1.6828 - val_accuracy: 0.5714\n",
      "Epoch 8/20\n",
      "14/14 [==============================] - 0s 33ms/step - loss: 0.5317 - accuracy: 0.8482 - val_loss: 1.8423 - val_accuracy: 0.5714\n",
      "Epoch 9/20\n",
      "14/14 [==============================] - 0s 32ms/step - loss: 0.2997 - accuracy: 0.9196 - val_loss: 1.7799 - val_accuracy: 0.5000\n",
      "Epoch 10/20\n",
      "14/14 [==============================] - ETA: 0s - loss: 0.2003 - accuracy: 0.97 - 0s 32ms/step - loss: 0.1877 - accuracy: 0.9732 - val_loss: 1.8685 - val_accuracy: 0.5714\n",
      "Epoch 11/20\n",
      "14/14 [==============================] - 0s 33ms/step - loss: 0.0774 - accuracy: 1.0000 - val_loss: 1.8295 - val_accuracy: 0.6071\n",
      "Epoch 12/20\n",
      "14/14 [==============================] - ETA: 0s - loss: 0.0266 - accuracy: 1.00 - 0s 33ms/step - loss: 0.0265 - accuracy: 1.0000 - val_loss: 1.8264 - val_accuracy: 0.5357\n",
      "Epoch 13/20\n",
      "14/14 [==============================] - 0s 32ms/step - loss: 0.0150 - accuracy: 1.0000 - val_loss: 1.7808 - val_accuracy: 0.6071\n",
      "Epoch 14/20\n",
      "14/14 [==============================] - 0s 32ms/step - loss: 0.0094 - accuracy: 1.0000 - val_loss: 2.3359 - val_accuracy: 0.6071\n",
      "Epoch 15/20\n",
      "14/14 [==============================] - 0s 32ms/step - loss: 0.0058 - accuracy: 1.0000 - val_loss: 2.0246 - val_accuracy: 0.6429\n",
      "Epoch 16/20\n",
      "14/14 [==============================] - 0s 32ms/step - loss: 0.0037 - accuracy: 1.0000 - val_loss: 1.9969 - val_accuracy: 0.6429\n",
      "Epoch 17/20\n",
      "14/14 [==============================] - 0s 32ms/step - loss: 0.0028 - accuracy: 1.0000 - val_loss: 2.0526 - val_accuracy: 0.6429\n",
      "Epoch 18/20\n",
      "14/14 [==============================] - 0s 32ms/step - loss: 0.0022 - accuracy: 1.0000 - val_loss: 2.1149 - val_accuracy: 0.6429\n",
      "Epoch 19/20\n",
      "14/14 [==============================] - 0s 32ms/step - loss: 0.0016 - accuracy: 1.0000 - val_loss: 2.1599 - val_accuracy: 0.6071\n",
      "Epoch 20/20\n",
      "14/14 [==============================] - ETA: 0s - loss: 0.0013 - accuracy: 1.00 - 0s 32ms/step - loss: 0.0013 - accuracy: 1.0000 - val_loss: 2.1601 - val_accuracy: 0.6429\n",
      "2 Fold: Accuracy of testing data = 60.00%\n",
      "\n",
      "Epoch 1/20\n",
      "14/14 [==============================] - 1s 39ms/step - loss: 31.1903 - accuracy: 0.0804 - val_loss: 5.5912 - val_accuracy: 0.1786\n",
      "Epoch 2/20\n",
      "14/14 [==============================] - 0s 33ms/step - loss: 2.8776 - accuracy: 0.2411 - val_loss: 2.0848 - val_accuracy: 0.2143\n",
      "Epoch 3/20\n",
      "14/14 [==============================] - 0s 33ms/step - loss: 1.8712 - accuracy: 0.3661 - val_loss: 1.9556 - val_accuracy: 0.2143\n",
      "Epoch 4/20\n",
      "14/14 [==============================] - 0s 32ms/step - loss: 1.5531 - accuracy: 0.4286 - val_loss: 1.7218 - val_accuracy: 0.3929\n",
      "Epoch 5/20\n",
      "14/14 [==============================] - 0s 33ms/step - loss: 1.1873 - accuracy: 0.6518 - val_loss: 1.4494 - val_accuracy: 0.5714\n",
      "Epoch 6/20\n",
      "14/14 [==============================] - 0s 33ms/step - loss: 1.0952 - accuracy: 0.6786 - val_loss: 1.6049 - val_accuracy: 0.5357\n",
      "Epoch 7/20\n",
      "14/14 [==============================] - 0s 33ms/step - loss: 0.8720 - accuracy: 0.7054 - val_loss: 1.5123 - val_accuracy: 0.6071\n",
      "Epoch 8/20\n",
      "14/14 [==============================] - 0s 32ms/step - loss: 0.4888 - accuracy: 0.8661 - val_loss: 1.2450 - val_accuracy: 0.5357\n",
      "Epoch 9/20\n",
      "14/14 [==============================] - 0s 33ms/step - loss: 0.4517 - accuracy: 0.8393 - val_loss: 1.6691 - val_accuracy: 0.5000\n",
      "Epoch 10/20\n",
      "14/14 [==============================] - 0s 32ms/step - loss: 0.3485 - accuracy: 0.9464 - val_loss: 1.4343 - val_accuracy: 0.5000\n",
      "Epoch 11/20\n",
      "14/14 [==============================] - 0s 32ms/step - loss: 0.1431 - accuracy: 0.9643 - val_loss: 1.5883 - val_accuracy: 0.4643\n",
      "Epoch 12/20\n",
      "14/14 [==============================] - 0s 32ms/step - loss: 0.1144 - accuracy: 0.9821 - val_loss: 1.4138 - val_accuracy: 0.6071\n",
      "Epoch 13/20\n",
      "14/14 [==============================] - 0s 32ms/step - loss: 0.0429 - accuracy: 1.0000 - val_loss: 1.2754 - val_accuracy: 0.6071\n",
      "Epoch 14/20\n",
      "14/14 [==============================] - 0s 32ms/step - loss: 0.0134 - accuracy: 1.0000 - val_loss: 1.2000 - val_accuracy: 0.6071\n",
      "Epoch 15/20\n",
      "14/14 [==============================] - 0s 32ms/step - loss: 0.0066 - accuracy: 1.0000 - val_loss: 1.2667 - val_accuracy: 0.6429\n",
      "Epoch 16/20\n",
      "14/14 [==============================] - 0s 32ms/step - loss: 0.0038 - accuracy: 1.0000 - val_loss: 1.2211 - val_accuracy: 0.5714\n",
      "Epoch 17/20\n"
     ]
    },
    {
     "name": "stdout",
     "output_type": "stream",
     "text": [
      "14/14 [==============================] - 0s 32ms/step - loss: 0.0027 - accuracy: 1.0000 - val_loss: 1.2017 - val_accuracy: 0.6071\n",
      "Epoch 18/20\n",
      "14/14 [==============================] - 0s 32ms/step - loss: 0.0020 - accuracy: 1.0000 - val_loss: 1.2172 - val_accuracy: 0.6071\n",
      "Epoch 19/20\n",
      "14/14 [==============================] - 0s 32ms/step - loss: 0.0016 - accuracy: 1.0000 - val_loss: 1.2411 - val_accuracy: 0.6071\n",
      "Epoch 20/20\n",
      "14/14 [==============================] - 0s 32ms/step - loss: 0.0012 - accuracy: 1.0000 - val_loss: 1.1702 - val_accuracy: 0.6071\n",
      "3 Fold: Accuracy of testing data = 58.33%\n",
      "\n",
      "Epoch 1/20\n",
      "14/14 [==============================] - 1s 39ms/step - loss: 36.4680 - accuracy: 0.0893 - val_loss: 4.5088 - val_accuracy: 0.1786\n",
      "Epoch 2/20\n",
      "14/14 [==============================] - 0s 32ms/step - loss: 2.9723 - accuracy: 0.1161 - val_loss: 2.1626 - val_accuracy: 0.2500\n",
      "Epoch 3/20\n",
      "14/14 [==============================] - 0s 32ms/step - loss: 2.0057 - accuracy: 0.3036 - val_loss: 1.8684 - val_accuracy: 0.2857\n",
      "Epoch 4/20\n",
      "14/14 [==============================] - 0s 32ms/step - loss: 1.7403 - accuracy: 0.4286 - val_loss: 1.7773 - val_accuracy: 0.2857\n",
      "Epoch 5/20\n",
      "14/14 [==============================] - 0s 32ms/step - loss: 1.3568 - accuracy: 0.5982 - val_loss: 1.4348 - val_accuracy: 0.3929\n",
      "Epoch 6/20\n",
      "14/14 [==============================] - 0s 32ms/step - loss: 0.9327 - accuracy: 0.7679 - val_loss: 1.0978 - val_accuracy: 0.6071\n",
      "Epoch 7/20\n",
      "14/14 [==============================] - 0s 32ms/step - loss: 0.7368 - accuracy: 0.7679 - val_loss: 1.1784 - val_accuracy: 0.6071\n",
      "Epoch 8/20\n",
      "14/14 [==============================] - 0s 32ms/step - loss: 0.4444 - accuracy: 0.9107 - val_loss: 1.2732 - val_accuracy: 0.5714\n",
      "Epoch 9/20\n",
      "14/14 [==============================] - 0s 32ms/step - loss: 0.4622 - accuracy: 0.8036 - val_loss: 1.0889 - val_accuracy: 0.6071\n",
      "Epoch 10/20\n",
      "14/14 [==============================] - 0s 32ms/step - loss: 0.2117 - accuracy: 0.9643 - val_loss: 1.1062 - val_accuracy: 0.7143\n",
      "Epoch 11/20\n",
      "14/14 [==============================] - 0s 33ms/step - loss: 0.1558 - accuracy: 0.9643 - val_loss: 1.0163 - val_accuracy: 0.6786\n",
      "Epoch 12/20\n",
      "14/14 [==============================] - 0s 33ms/step - loss: 0.0674 - accuracy: 0.9911 - val_loss: 0.8722 - val_accuracy: 0.7500\n",
      "Epoch 13/20\n",
      "14/14 [==============================] - 0s 32ms/step - loss: 0.0252 - accuracy: 1.0000 - val_loss: 1.0178 - val_accuracy: 0.7500\n",
      "Epoch 14/20\n",
      "14/14 [==============================] - 0s 32ms/step - loss: 0.0197 - accuracy: 1.0000 - val_loss: 0.8547 - val_accuracy: 0.7500\n",
      "Epoch 15/20\n",
      "14/14 [==============================] - 0s 32ms/step - loss: 0.0096 - accuracy: 1.0000 - val_loss: 0.9385 - val_accuracy: 0.7143\n",
      "Epoch 16/20\n",
      "14/14 [==============================] - 0s 32ms/step - loss: 0.0056 - accuracy: 1.0000 - val_loss: 0.8576 - val_accuracy: 0.7500\n",
      "Epoch 17/20\n",
      "14/14 [==============================] - 0s 32ms/step - loss: 0.0042 - accuracy: 1.0000 - val_loss: 0.8880 - val_accuracy: 0.7143\n",
      "Epoch 18/20\n",
      "14/14 [==============================] - 0s 32ms/step - loss: 0.0032 - accuracy: 1.0000 - val_loss: 0.8975 - val_accuracy: 0.7143\n",
      "Epoch 19/20\n",
      "14/14 [==============================] - 0s 33ms/step - loss: 0.0025 - accuracy: 1.0000 - val_loss: 0.8961 - val_accuracy: 0.7857\n",
      "Epoch 20/20\n",
      "14/14 [==============================] - 0s 33ms/step - loss: 0.0021 - accuracy: 1.0000 - val_loss: 0.8692 - val_accuracy: 0.7143\n",
      "4 Fold: Accuracy of testing data = 63.33%\n",
      "\n",
      "Epoch 1/20\n",
      "14/14 [==============================] - 1s 40ms/step - loss: 43.9541 - accuracy: 0.0893 - val_loss: 3.2875 - val_accuracy: 0.1429\n",
      "Epoch 2/20\n",
      "14/14 [==============================] - 0s 33ms/step - loss: 2.5448 - accuracy: 0.2232 - val_loss: 2.1060 - val_accuracy: 0.2857\n",
      "Epoch 3/20\n",
      "14/14 [==============================] - 0s 33ms/step - loss: 1.9587 - accuracy: 0.2411 - val_loss: 2.0088 - val_accuracy: 0.2500\n",
      "Epoch 4/20\n",
      "14/14 [==============================] - 0s 32ms/step - loss: 1.6892 - accuracy: 0.4911 - val_loss: 1.8425 - val_accuracy: 0.4286\n",
      "Epoch 5/20\n",
      "14/14 [==============================] - 0s 32ms/step - loss: 1.4484 - accuracy: 0.5714 - val_loss: 1.9364 - val_accuracy: 0.3214\n",
      "Epoch 6/20\n",
      "14/14 [==============================] - 0s 33ms/step - loss: 1.0769 - accuracy: 0.6607 - val_loss: 1.9654 - val_accuracy: 0.3214\n",
      "Epoch 7/20\n",
      "14/14 [==============================] - 0s 33ms/step - loss: 0.9226 - accuracy: 0.7232 - val_loss: 1.7111 - val_accuracy: 0.5000\n",
      "Epoch 8/20\n",
      "14/14 [==============================] - 0s 32ms/step - loss: 0.7130 - accuracy: 0.7857 - val_loss: 2.0274 - val_accuracy: 0.3214\n",
      "Epoch 9/20\n",
      "14/14 [==============================] - 0s 33ms/step - loss: 0.5081 - accuracy: 0.8214 - val_loss: 1.7122 - val_accuracy: 0.5000\n",
      "Epoch 10/20\n",
      "14/14 [==============================] - 0s 32ms/step - loss: 0.3064 - accuracy: 0.9464 - val_loss: 1.8014 - val_accuracy: 0.5000\n",
      "Epoch 11/20\n",
      "14/14 [==============================] - 0s 33ms/step - loss: 0.1661 - accuracy: 0.9732 - val_loss: 2.3409 - val_accuracy: 0.4643\n",
      "Epoch 12/20\n",
      "14/14 [==============================] - 0s 32ms/step - loss: 0.1506 - accuracy: 0.9911 - val_loss: 2.8287 - val_accuracy: 0.2857\n",
      "Epoch 13/20\n",
      "14/14 [==============================] - 0s 33ms/step - loss: 0.1387 - accuracy: 0.9554 - val_loss: 2.8264 - val_accuracy: 0.3214\n",
      "Epoch 14/20\n",
      "14/14 [==============================] - 0s 33ms/step - loss: 0.0587 - accuracy: 0.9911 - val_loss: 1.6025 - val_accuracy: 0.5357\n",
      "Epoch 15/20\n",
      "14/14 [==============================] - 0s 33ms/step - loss: 0.0329 - accuracy: 1.0000 - val_loss: 1.8895 - val_accuracy: 0.5357\n",
      "Epoch 16/20\n",
      "14/14 [==============================] - 0s 33ms/step - loss: 0.0109 - accuracy: 1.0000 - val_loss: 1.9475 - val_accuracy: 0.5357\n",
      "Epoch 17/20\n",
      "14/14 [==============================] - 0s 33ms/step - loss: 0.0074 - accuracy: 1.0000 - val_loss: 1.9900 - val_accuracy: 0.5714\n",
      "Epoch 18/20\n",
      "14/14 [==============================] - 0s 33ms/step - loss: 0.0048 - accuracy: 1.0000 - val_loss: 2.0010 - val_accuracy: 0.5714\n",
      "Epoch 19/20\n",
      "14/14 [==============================] - 0s 32ms/step - loss: 0.0029 - accuracy: 1.0000 - val_loss: 2.0909 - val_accuracy: 0.5357\n",
      "Epoch 20/20\n",
      "14/14 [==============================] - 0s 32ms/step - loss: 0.0023 - accuracy: 1.0000 - val_loss: 2.0569 - val_accuracy: 0.5714\n",
      "5 Fold: Accuracy of testing data = 58.33%\n",
      "\n"
     ]
    }
   ],
   "source": [
    "VALIDATION_ACCURACY = []\n",
    "VALIDATION_LOSS = []\n",
    "TEST_ACCURACY=[]\n",
    "\n",
    "skf = StratifiedKFold(n_splits=fold_num)\n",
    "fold_var = 1\n",
    "\n",
    "for train_index, valid_index in skf.split(X_train, y_train):\n",
    "    X_train_fold = X_train[train_index]\n",
    "    y_train_fold = y_train[train_index]\n",
    "    y_train_fold_onehot = np_utils.to_categorical(y_train_fold)\n",
    "    \n",
    "    X_val_fold = X_train[valid_index]\n",
    "    y_val_fold = y_train[valid_index]\n",
    "    y_val_fold_onehot = np_utils.to_categorical(y_val_fold)\n",
    "    \n",
    "    model = create_new_model(X_train_fold[0], CNN_SELECT)\n",
    "    opt = adam_v2.Adam(learning_rate=0.0001)\n",
    "    model.compile(loss=\"categorical_crossentropy\", optimizer=opt, metrics=['accuracy'])\n",
    "    # CREATE CALLBACKS\n",
    "    checkpoint = tf.keras.callbacks.ModelCheckpoint(model_save_dir+\"/\"+model_name+\"_fold\"+str(fold_var)+\".h5\",\n",
    "                                    monitor='val_accuracy', \n",
    "                                    save_best_only=True)\n",
    "    callbacks_list = [checkpoint]\n",
    "    \n",
    "    history = model.fit(x=X_train_fold, y=y_train_fold_onehot,\n",
    "                    validation_data=(X_val_fold, y_val_fold_onehot),\n",
    "                    epochs=epochs, batch_size=batch_size,\n",
    "                    callbacks=callbacks_list,\n",
    "                    verbose=1) # 訓練紀錄顯示\n",
    "    \n",
    "    model.load_weights(model_save_dir+\"/\"+model_name+\"_fold\"+str(fold_var)+\".h5\")\n",
    "    if HIS_SHOW:\n",
    "        show_train_history(history, 'loss', 'val_loss')\n",
    "    \n",
    "    results = model.evaluate(X_val_fold, y_val_fold_onehot, batch_size=8, verbose=0)\n",
    "    results = dict(zip(model.metrics_names,results))\n",
    "    \n",
    "    VALIDATION_ACCURACY.append(results['accuracy'])\n",
    "    VALIDATION_LOSS.append(results['loss'])\n",
    "    \n",
    "    \n",
    "    scores = model.evaluate(X_test, y_test_onehot, batch_size=8, verbose=0)\n",
    "    print(str(fold_var)+\" Fold: \"+\"Accuracy of testing data = {:2.2f}%\".format(scores[1]*100.0))\n",
    "    print()\n",
    "    TEST_ACCURACY.append(scores[1]*100.0)\n",
    "    \n",
    "    tf.keras.backend.clear_session()\n",
    "    fold_var+=1"
   ]
  },
  {
   "cell_type": "code",
   "execution_count": 14,
   "id": "completed-macintosh",
   "metadata": {},
   "outputs": [
    {
     "name": "stdout",
     "output_type": "stream",
     "text": [
      "validation accuracy:  [0.6428571343421936, 0.6428571343421936, 0.6428571343421936, 0.7857142686843872, 0.5714285969734192]\n",
      "validation loss:  [1.9881782531738281, 2.0245914459228516, 1.266729712486267, 0.8961400985717773, 1.990005612373352]\n",
      "test accuracy:  [60.00000238418579, 60.00000238418579, 58.33333134651184, 63.333332538604736, 58.33333134651184]\n"
     ]
    }
   ],
   "source": [
    "print(\"validation accuracy: \",VALIDATION_ACCURACY)\n",
    "print(\"validation loss: \", VALIDATION_LOSS)\n",
    "print(\"test accuracy: \",TEST_ACCURACY)"
   ]
  },
  {
   "cell_type": "code",
   "execution_count": 15,
   "id": "monetary-measure",
   "metadata": {},
   "outputs": [
    {
     "name": "stdout",
     "output_type": "stream",
     "text": [
      "average validation accuracy:  0.6571428537368774\n",
      "average test accuracy:  60.0\n"
     ]
    }
   ],
   "source": [
    "print(\"average validation accuracy: \",sum(VALIDATION_ACCURACY)/len(VALIDATION_ACCURACY))\n",
    "print(\"average test accuracy: \",sum(TEST_ACCURACY)/len(TEST_ACCURACY))"
   ]
  },
  {
   "cell_type": "code",
   "execution_count": null,
   "id": "indonesian-traffic",
   "metadata": {},
   "outputs": [],
   "source": []
  }
 ],
 "metadata": {
  "kernelspec": {
   "display_name": "Python 3 (ipykernel)",
   "language": "python",
   "name": "python3"
  },
  "language_info": {
   "codemirror_mode": {
    "name": "ipython",
    "version": 3
   },
   "file_extension": ".py",
   "mimetype": "text/x-python",
   "name": "python",
   "nbconvert_exporter": "python",
   "pygments_lexer": "ipython3",
   "version": "3.9.6"
  }
 },
 "nbformat": 4,
 "nbformat_minor": 5
}
