{
 "cells": [
  {
   "cell_type": "code",
   "execution_count": 1,
   "id": "fuzzy-vegetation",
   "metadata": {},
   "outputs": [],
   "source": [
    "import numpy as np\n",
    "import random\n",
    "import cv2\n",
    "import os\n",
    "\n",
    "from tensorflow import keras\n",
    "from keras.layers import *\n",
    "from keras.models import *\n",
    "from keras.optimizers import *\n",
    "\n",
    "from keras.utils import np_utils\n",
    "from sklearn.model_selection import train_test_split, StratifiedKFold\n",
    "from sklearn.metrics import confusion_matrix, roc_auc_score\n",
    "import tensorflow as tf"
   ]
  },
  {
   "cell_type": "markdown",
   "id": "raised-trade",
   "metadata": {},
   "source": [
    "### 讀取頻譜圖路徑"
   ]
  },
  {
   "cell_type": "code",
   "execution_count": 2,
   "id": "operational-jackson",
   "metadata": {},
   "outputs": [],
   "source": [
    "INPUT_SELECT = 0 #決定模型的輸入 0: log mel scale spectrogram, 1: mfcc\n",
    "CNN_SELECT = 1 #決定CNN的類型 0: VGG16, 1: 自訂義CNN\n",
    "IMG_SOURCE=0 #0: original, 2: augementation, 4: frame len 40ms\n",
    "HIS_SHOW = False #是否show出訓練的history loss\n",
    "epochs = 20\n",
    "batch_size = 4\n",
    "fold_num = 5\n",
    "MODEL_DIR = (\"Model/ms_model\", \"Model/mfcc_model\")\n",
    "MODEL_NAME = (\"MS\", \"MFCC\", \"MS_AUG\", \"MFCC_AUG\", \"MS_40\", \"MFCC_40\")\n",
    "IMG_PATH = (\"ImageData/original/spectrogram\", \"ImageData/original/mfcc\",\n",
    "                        \"ImageData/augmentation/spectrogram\", \"ImageData/augmentation/mfcc\",\n",
    "                        \"ImageData/frameLen_40ms/spectrogram\",\"ImageData/frameLen_40ms/mfcc\")"
   ]
  },
  {
   "cell_type": "code",
   "execution_count": 3,
   "id": "pharmaceutical-blade",
   "metadata": {},
   "outputs": [
    {
     "name": "stdout",
     "output_type": "stream",
     "text": [
      "ImageData/original/spectrogram ['Blue', 'Classical', 'Country', 'Disco', 'EDM', 'Hiphop', 'Jazz', 'Metal', 'Pop', 'Reggae']\n"
     ]
    }
   ],
   "source": [
    "root_path = IMG_PATH[INPUT_SELECT+IMG_SOURCE]\n",
    "model_save_dir = MODEL_DIR[INPUT_SELECT]\n",
    "model_name = MODEL_NAME[INPUT_SELECT+IMG_SOURCE]\n",
    "folder_names = os.listdir(root_path)\n",
    "print(root_path, folder_names)"
   ]
  },
  {
   "cell_type": "code",
   "execution_count": 4,
   "id": "covered-slide",
   "metadata": {},
   "outputs": [
    {
     "name": "stdout",
     "output_type": "stream",
     "text": [
      "class count:  10\n",
      "class file count:  [20, 20, 20, 20, 20, 20, 20, 20, 20, 20]\n"
     ]
    }
   ],
   "source": [
    "folders=[] #儲存各類別資料夾中的檔案名稱\n",
    "for folder in folder_names:\n",
    "    file_names=[]\n",
    "    for file_name in os.listdir(root_path+\"/\"+folder):\n",
    "        file_names.append(root_path+\"/\"+folder+\"/\"+file_name)\n",
    "    folders.append(file_names)\n",
    "\n",
    "class_count_list = [len(files) for files in folders] #紀錄每個類別各有多少檔案(後面會用到)\n",
    "print(\"class count: \", len(folders))\n",
    "print(\"class file count: \", class_count_list)"
   ]
  },
  {
   "cell_type": "markdown",
   "id": "innocent-affairs",
   "metadata": {},
   "source": [
    "### 讀取頻譜圖"
   ]
  },
  {
   "cell_type": "code",
   "execution_count": 5,
   "id": "tracked-reducing",
   "metadata": {},
   "outputs": [],
   "source": [
    "Data = []\n",
    "for folder in folders:\n",
    "    for name in folder:\n",
    "        spect = cv2.imread(name) #shape=(220, 449, 3)\n",
    "        spect = cv2.resize(spect, (224, 224))\n",
    "#         spect = cv2.cvtColor(spect, cv2.COLOR_BGR2GRAY) #轉灰階\n",
    "#         spect = spect.T #轉置\n",
    "        Data.append(spect)\n",
    "Data = np.array(Data)"
   ]
  },
  {
   "cell_type": "code",
   "execution_count": 6,
   "id": "antique-index",
   "metadata": {},
   "outputs": [
    {
     "data": {
      "text/plain": [
       "(200, 224, 224, 3)"
      ]
     },
     "execution_count": 6,
     "metadata": {},
     "output_type": "execute_result"
    }
   ],
   "source": [
    "Data.shape"
   ]
  },
  {
   "cell_type": "markdown",
   "id": "adjacent-advocate",
   "metadata": {},
   "source": [
    "### 製作Label"
   ]
  },
  {
   "cell_type": "code",
   "execution_count": 7,
   "id": "comprehensive-picture",
   "metadata": {},
   "outputs": [],
   "source": [
    "Label = []\n",
    "for l, class_count in enumerate(class_count_list):\n",
    "    for _ in range(class_count):\n",
    "        Label.append(np.ones(1)*l)\n",
    "Label = np.array(Label)"
   ]
  },
  {
   "cell_type": "markdown",
   "id": "latter-astrology",
   "metadata": {},
   "source": [
    "### CNN層定義"
   ]
  },
  {
   "cell_type": "code",
   "execution_count": 8,
   "id": "everyday-ethics",
   "metadata": {},
   "outputs": [],
   "source": [
    "def VGG16(inputs):\n",
    "    x = Conv2D(64, (3,3), activation='relu', padding = 'same')(inputs)\n",
    "    x = Dropout(0.03)(x)\n",
    "    x = Conv2D(64, (3,3), activation='relu', padding = 'same')(x)\n",
    "    x = Dropout(0.03)(x)\n",
    "    x = MaxPooling2D(pool_size=(2, 2), strides=(2, 2))(x)\n",
    "    x = Conv2D(128, (3,3), activation='relu', padding = 'same')(x)\n",
    "    x = Dropout(0.03)(x)\n",
    "    x = Conv2D(128, (3,3), activation='relu', padding = 'same')(x)\n",
    "    x = Dropout(0.03)(x)\n",
    "    x = MaxPooling2D(pool_size=(2, 2), strides=(2, 2))(x)\n",
    "    x = Conv2D(256, (3,3), activation='relu', padding = 'same')(x)\n",
    "    x = Dropout(0.03)(x)\n",
    "    x = Conv2D(256, (3,3), activation='relu', padding = 'same')(x)\n",
    "    x = Dropout(0.03)(x)\n",
    "    x = Conv2D(256, (3,3), activation='relu', padding = 'same')(x)\n",
    "    x = Dropout(0.03)(x)\n",
    "    x = MaxPooling2D(pool_size=(2, 2), strides=(2, 2))(x)\n",
    "    x = Conv2D(512, (3,3), activation='relu', padding = 'same')(x)\n",
    "    x = Dropout(0.03)(x)\n",
    "    x = Conv2D(512, (3,3), activation='relu', padding = 'same')(x)\n",
    "    x = Dropout(0.03)(x)\n",
    "    x = Conv2D(512, (3,3), activation='relu', padding = 'same')(x)\n",
    "    x = Dropout(0.03)(x)\n",
    "    x = MaxPooling2D(pool_size=(2, 2), strides=(2, 2))(x)\n",
    "    x = Conv2D(512, (3,3), activation='relu', padding = 'same')(x)\n",
    "    x = Dropout(0.03)(x)\n",
    "    x = Conv2D(512, (3,3), activation='relu', padding = 'same')(x)\n",
    "    x = Dropout(0.03)(x)\n",
    "    x = Conv2D(512, (3,3), activation='relu', padding = 'same')(x)\n",
    "    x = Dropout(0.03)(x)\n",
    "    x = MaxPooling2D(pool_size=(2, 2), strides=(2, 2))(x)\n",
    "    x = Flatten()(x)\n",
    "    x = Dense(512, activation='relu')(x)\n",
    "    x = Dense(512, activation='relu')(x)\n",
    "    return x"
   ]
  },
  {
   "cell_type": "code",
   "execution_count": 9,
   "id": "multiple-highland",
   "metadata": {},
   "outputs": [],
   "source": [
    "def CONV(inputs):\n",
    "    x = Conv2D(64, (7,3), activation='relu', padding = 'same')(inputs)\n",
    "    x = MaxPooling2D(pool_size=(2, 2), strides=(2, 2))(x)\n",
    "    x = Conv2D(128, (3,3), activation='relu', padding = 'same')(x)\n",
    "    x = MaxPooling2D(pool_size=(2, 2), strides=(2, 2))(x)\n",
    "    x = Conv2D(256, (3,3), activation='relu', padding = 'same')(x)\n",
    "    x = MaxPooling2D(pool_size=(2, 2), strides=(2, 2))(x)\n",
    "    x = Conv2D(512, (3,3), activation='relu', padding = 'same')(x)\n",
    "    x = MaxPooling2D(pool_size=(2, 2), strides=(2, 2))(x)\n",
    "    x = Flatten()(x)\n",
    "    x = Dense(512, activation='relu')(x)\n",
    "    x = Dense(256, activation='relu')(x)\n",
    "    return x"
   ]
  },
  {
   "cell_type": "code",
   "execution_count": 10,
   "id": "lucky-object",
   "metadata": {},
   "outputs": [],
   "source": [
    "def create_new_model(data, cnn_selection):\n",
    "    input_shape = data.shape\n",
    "    output_dim = len(folders)\n",
    "\n",
    "    inputs = Input(shape=input_shape)\n",
    "    \n",
    "    if cnn_selection == 0:\n",
    "        x = VGG16(inputs)\n",
    "    else:\n",
    "        x = CONV(inputs)\n",
    "    outputs = Dense(output_dim, activation='softmax')(x)\n",
    "\n",
    "    model=Model(inputs,outputs)\n",
    "    return model"
   ]
  },
  {
   "cell_type": "code",
   "execution_count": 11,
   "id": "embedded-plenty",
   "metadata": {},
   "outputs": [],
   "source": [
    "import matplotlib.pyplot as plt\n",
    "def show_train_history(train_history, train, validation):\n",
    "    plt.plot(train_history.history[train])\n",
    "    plt.plot(train_history.history[validation])\n",
    "    plt.title('Train History')\n",
    "    plt.ylabel(train)\n",
    "    plt.xlabel('Epoch')\n",
    "    plt.legend(['train', 'validation'], loc='upper left')\n",
    "    plt.show()"
   ]
  },
  {
   "cell_type": "markdown",
   "id": "major-illness",
   "metadata": {},
   "source": [
    "### 資料切割(Train and Test)"
   ]
  },
  {
   "cell_type": "code",
   "execution_count": 12,
   "id": "convenient-diabetes",
   "metadata": {},
   "outputs": [],
   "source": [
    "seed =  random.randint(0, 1000**2)\n",
    "X_train, X_test, y_train, y_test = train_test_split(Data, Label, test_size=0.3,\n",
    "                                                    random_state=seed, stratify = Label)\n",
    "y_test_onehot = np_utils.to_categorical(y_test)"
   ]
  },
  {
   "cell_type": "markdown",
   "id": "extra-conflict",
   "metadata": {},
   "source": [
    "### Stratified K-fold"
   ]
  },
  {
   "cell_type": "code",
   "execution_count": 13,
   "id": "scheduled-filing",
   "metadata": {},
   "outputs": [
    {
     "name": "stdout",
     "output_type": "stream",
     "text": [
      "Epoch 1/20\n",
      "28/28 [==============================] - 6s 112ms/step - loss: 48.4825 - accuracy: 0.0485 - val_loss: 2.3025 - val_accuracy: 0.2500\n",
      "Epoch 2/20\n",
      "28/28 [==============================] - 2s 74ms/step - loss: 2.1049 - accuracy: 0.3234 - val_loss: 2.0252 - val_accuracy: 0.2143\n",
      "Epoch 3/20\n",
      "28/28 [==============================] - 2s 72ms/step - loss: 1.8194 - accuracy: 0.3731 - val_loss: 2.0590 - val_accuracy: 0.2857\n",
      "Epoch 4/20\n",
      "28/28 [==============================] - 2s 78ms/step - loss: 1.6224 - accuracy: 0.5010 - val_loss: 1.7362 - val_accuracy: 0.3214\n",
      "Epoch 5/20\n",
      "28/28 [==============================] - 2s 72ms/step - loss: 1.0039 - accuracy: 0.6751 - val_loss: 1.7829 - val_accuracy: 0.4286\n",
      "Epoch 6/20\n",
      "28/28 [==============================] - 2s 74ms/step - loss: 0.6894 - accuracy: 0.8123 - val_loss: 1.9773 - val_accuracy: 0.5000\n",
      "Epoch 7/20\n",
      "28/28 [==============================] - 2s 73ms/step - loss: 0.6354 - accuracy: 0.7830 - val_loss: 2.6709 - val_accuracy: 0.4643\n",
      "Epoch 8/20\n",
      "28/28 [==============================] - 2s 72ms/step - loss: 0.6625 - accuracy: 0.8322 - val_loss: 1.8601 - val_accuracy: 0.5714\n",
      "Epoch 9/20\n",
      "28/28 [==============================] - 2s 72ms/step - loss: 0.2023 - accuracy: 0.9558 - val_loss: 1.6614 - val_accuracy: 0.6429\n",
      "Epoch 10/20\n",
      "28/28 [==============================] - 2s 76ms/step - loss: 0.1346 - accuracy: 0.9627 - val_loss: 1.7495 - val_accuracy: 0.5714\n",
      "Epoch 11/20\n",
      "28/28 [==============================] - 2s 77ms/step - loss: 0.3664 - accuracy: 0.8891 - val_loss: 2.1223 - val_accuracy: 0.4643\n",
      "Epoch 12/20\n",
      "28/28 [==============================] - 2s 72ms/step - loss: 0.1667 - accuracy: 0.9537 - val_loss: 2.1525 - val_accuracy: 0.4286\n",
      "Epoch 13/20\n",
      "28/28 [==============================] - 2s 72ms/step - loss: 0.0599 - accuracy: 1.0000 - val_loss: 2.1945 - val_accuracy: 0.5714\n",
      "Epoch 14/20\n",
      "28/28 [==============================] - 2s 72ms/step - loss: 0.0089 - accuracy: 1.0000 - val_loss: 2.1535 - val_accuracy: 0.5714\n",
      "Epoch 15/20\n",
      "28/28 [==============================] - 2s 72ms/step - loss: 0.0056 - accuracy: 1.0000 - val_loss: 2.2614 - val_accuracy: 0.5714\n",
      "Epoch 16/20\n",
      "28/28 [==============================] - 2s 72ms/step - loss: 0.0029 - accuracy: 1.0000 - val_loss: 2.3189 - val_accuracy: 0.5714\n",
      "Epoch 17/20\n",
      "28/28 [==============================] - 2s 72ms/step - loss: 0.0014 - accuracy: 1.0000 - val_loss: 2.3884 - val_accuracy: 0.5714\n",
      "Epoch 18/20\n",
      "28/28 [==============================] - 2s 72ms/step - loss: 0.0019 - accuracy: 1.0000 - val_loss: 2.4514 - val_accuracy: 0.5714\n",
      "Epoch 19/20\n",
      "28/28 [==============================] - 2s 72ms/step - loss: 9.1052e-04 - accuracy: 1.0000 - val_loss: 2.4644 - val_accuracy: 0.5714\n",
      "Epoch 20/20\n",
      "28/28 [==============================] - 2s 72ms/step - loss: 7.4147e-04 - accuracy: 1.0000 - val_loss: 2.5206 - val_accuracy: 0.5714\n",
      "1 Fold: Accuracy of testing data = 53.33%\n",
      "\n",
      "Epoch 1/20\n",
      "28/28 [==============================] - 3s 79ms/step - loss: 35.2567 - accuracy: 0.1191 - val_loss: 2.3394 - val_accuracy: 0.2143\n",
      "Epoch 2/20\n",
      "28/28 [==============================] - 2s 72ms/step - loss: 2.3087 - accuracy: 0.2405 - val_loss: 2.0317 - val_accuracy: 0.3929\n",
      "Epoch 3/20\n",
      "28/28 [==============================] - 2s 80ms/step - loss: 1.9297 - accuracy: 0.3404 - val_loss: 2.0087 - val_accuracy: 0.3214\n",
      "Epoch 4/20\n",
      "28/28 [==============================] - 2s 75ms/step - loss: 1.6125 - accuracy: 0.4776 - val_loss: 2.0043 - val_accuracy: 0.3214\n",
      "Epoch 5/20\n",
      "28/28 [==============================] - 2s 72ms/step - loss: 1.4525 - accuracy: 0.4848 - val_loss: 2.0027 - val_accuracy: 0.3571\n",
      "Epoch 6/20\n",
      "28/28 [==============================] - 2s 72ms/step - loss: 1.0984 - accuracy: 0.6110 - val_loss: 1.7362 - val_accuracy: 0.3214\n",
      "Epoch 7/20\n",
      "28/28 [==============================] - 2s 72ms/step - loss: 0.8716 - accuracy: 0.7957 - val_loss: 2.0744 - val_accuracy: 0.3214\n",
      "Epoch 8/20\n",
      "28/28 [==============================] - 2s 72ms/step - loss: 0.8652 - accuracy: 0.7025 - val_loss: 1.4050 - val_accuracy: 0.4643\n",
      "Epoch 9/20\n",
      "28/28 [==============================] - 2s 72ms/step - loss: 0.5190 - accuracy: 0.8905 - val_loss: 1.8532 - val_accuracy: 0.4286\n",
      "Epoch 10/20\n",
      "28/28 [==============================] - 2s 71ms/step - loss: 0.5296 - accuracy: 0.7855 - val_loss: 1.9033 - val_accuracy: 0.4286\n",
      "Epoch 11/20\n",
      "28/28 [==============================] - 2s 72ms/step - loss: 0.4483 - accuracy: 0.8644 - val_loss: 2.0706 - val_accuracy: 0.5000\n",
      "Epoch 12/20\n",
      "28/28 [==============================] - 2s 72ms/step - loss: 0.1004 - accuracy: 0.9704 - val_loss: 1.7063 - val_accuracy: 0.4643\n",
      "Epoch 13/20\n",
      "28/28 [==============================] - 2s 72ms/step - loss: 0.0708 - accuracy: 0.9991 - val_loss: 1.8150 - val_accuracy: 0.3929\n",
      "Epoch 14/20\n",
      "28/28 [==============================] - 2s 72ms/step - loss: 0.0910 - accuracy: 0.9444 - val_loss: 3.0170 - val_accuracy: 0.4286\n",
      "Epoch 15/20\n",
      "28/28 [==============================] - 2s 72ms/step - loss: 0.2844 - accuracy: 0.8595 - val_loss: 1.7117 - val_accuracy: 0.5357\n",
      "Epoch 16/20\n",
      "28/28 [==============================] - 2s 72ms/step - loss: 0.1066 - accuracy: 0.9794 - val_loss: 1.3699 - val_accuracy: 0.6071\n",
      "Epoch 17/20\n",
      "28/28 [==============================] - 2s 72ms/step - loss: 0.0766 - accuracy: 0.9824 - val_loss: 2.0450 - val_accuracy: 0.5000\n",
      "Epoch 18/20\n",
      "28/28 [==============================] - 2s 72ms/step - loss: 0.0392 - accuracy: 0.9944 - val_loss: 1.3698 - val_accuracy: 0.5714\n",
      "Epoch 19/20\n",
      "28/28 [==============================] - 2s 72ms/step - loss: 0.0276 - accuracy: 0.9915 - val_loss: 1.6626 - val_accuracy: 0.5357\n",
      "Epoch 20/20\n",
      "28/28 [==============================] - 2s 72ms/step - loss: 0.1603 - accuracy: 0.9720 - val_loss: 1.4506 - val_accuracy: 0.5714\n",
      "2 Fold: Accuracy of testing data = 61.67%\n",
      "\n",
      "Epoch 1/20\n",
      "28/28 [==============================] - 3s 78ms/step - loss: 45.8685 - accuracy: 0.1292 - val_loss: 2.2790 - val_accuracy: 0.2500\n",
      "Epoch 2/20\n",
      "28/28 [==============================] - 2s 72ms/step - loss: 2.1490 - accuracy: 0.2082 - val_loss: 2.1614 - val_accuracy: 0.2857\n",
      "Epoch 3/20\n",
      "28/28 [==============================] - 2s 72ms/step - loss: 1.9028 - accuracy: 0.4048 - val_loss: 2.0925 - val_accuracy: 0.3929\n",
      "Epoch 4/20\n",
      "28/28 [==============================] - 2s 72ms/step - loss: 1.7294 - accuracy: 0.4891 - val_loss: 1.8241 - val_accuracy: 0.2500\n",
      "Epoch 5/20\n",
      "28/28 [==============================] - 2s 72ms/step - loss: 1.4803 - accuracy: 0.4776 - val_loss: 1.7711 - val_accuracy: 0.4286\n",
      "Epoch 6/20\n",
      "28/28 [==============================] - 2s 73ms/step - loss: 1.4081 - accuracy: 0.4413 - val_loss: 1.7922 - val_accuracy: 0.3929\n",
      "Epoch 7/20\n",
      "28/28 [==============================] - 2s 72ms/step - loss: 0.8225 - accuracy: 0.7370 - val_loss: 1.4884 - val_accuracy: 0.5357\n",
      "Epoch 8/20\n",
      "28/28 [==============================] - 2s 79ms/step - loss: 0.5963 - accuracy: 0.8309 - val_loss: 1.2608 - val_accuracy: 0.5714\n",
      "Epoch 9/20\n",
      "28/28 [==============================] - 2s 73ms/step - loss: 0.4666 - accuracy: 0.8394 - val_loss: 1.2569 - val_accuracy: 0.5714\n",
      "Epoch 10/20\n",
      "28/28 [==============================] - 2s 72ms/step - loss: 0.4660 - accuracy: 0.9157 - val_loss: 1.6711 - val_accuracy: 0.4643\n",
      "Epoch 11/20\n",
      "28/28 [==============================] - 2s 72ms/step - loss: 0.3054 - accuracy: 0.9375 - val_loss: 1.8690 - val_accuracy: 0.5357\n",
      "Epoch 12/20\n",
      "28/28 [==============================] - 2s 72ms/step - loss: 0.1350 - accuracy: 0.9755 - val_loss: 2.1409 - val_accuracy: 0.5000\n",
      "Epoch 13/20\n",
      "28/28 [==============================] - 2s 72ms/step - loss: 0.2638 - accuracy: 0.9200 - val_loss: 1.4734 - val_accuracy: 0.5714\n",
      "Epoch 14/20\n",
      "28/28 [==============================] - 2s 72ms/step - loss: 0.1003 - accuracy: 0.9855 - val_loss: 1.5935 - val_accuracy: 0.4643\n",
      "Epoch 15/20\n",
      "28/28 [==============================] - 2s 77ms/step - loss: 0.0299 - accuracy: 1.0000 - val_loss: 1.6651 - val_accuracy: 0.6429\n",
      "Epoch 16/20\n",
      "28/28 [==============================] - 2s 75ms/step - loss: 0.0169 - accuracy: 1.0000 - val_loss: 1.8269 - val_accuracy: 0.5357\n",
      "Epoch 17/20\n",
      "28/28 [==============================] - 2s 75ms/step - loss: 0.0070 - accuracy: 1.0000 - val_loss: 1.8604 - val_accuracy: 0.5714\n",
      "Epoch 18/20\n"
     ]
    },
    {
     "name": "stdout",
     "output_type": "stream",
     "text": [
      "28/28 [==============================] - 2s 73ms/step - loss: 0.0031 - accuracy: 1.0000 - val_loss: 1.8747 - val_accuracy: 0.5357\n",
      "Epoch 19/20\n",
      "28/28 [==============================] - 2s 72ms/step - loss: 0.0018 - accuracy: 1.0000 - val_loss: 1.9307 - val_accuracy: 0.5357\n",
      "Epoch 20/20\n",
      "28/28 [==============================] - 2s 72ms/step - loss: 0.0014 - accuracy: 1.0000 - val_loss: 1.9493 - val_accuracy: 0.5357\n",
      "3 Fold: Accuracy of testing data = 71.67%\n",
      "\n",
      "Epoch 1/20\n",
      "28/28 [==============================] - 3s 78ms/step - loss: 29.4748 - accuracy: 0.1297 - val_loss: 2.4529 - val_accuracy: 0.1071\n",
      "Epoch 2/20\n",
      "28/28 [==============================] - 2s 72ms/step - loss: 2.3286 - accuracy: 0.1542 - val_loss: 2.1124 - val_accuracy: 0.2143\n",
      "Epoch 3/20\n",
      "28/28 [==============================] - 2s 71ms/step - loss: 1.9671 - accuracy: 0.3099 - val_loss: 1.9013 - val_accuracy: 0.3571\n",
      "Epoch 4/20\n",
      "28/28 [==============================] - 2s 71ms/step - loss: 1.5059 - accuracy: 0.4717 - val_loss: 1.6895 - val_accuracy: 0.3214\n",
      "Epoch 5/20\n",
      "28/28 [==============================] - 2s 72ms/step - loss: 0.9835 - accuracy: 0.6743 - val_loss: 1.4551 - val_accuracy: 0.4286\n",
      "Epoch 6/20\n",
      "28/28 [==============================] - 2s 72ms/step - loss: 0.6055 - accuracy: 0.8421 - val_loss: 1.4049 - val_accuracy: 0.5000\n",
      "Epoch 7/20\n",
      "28/28 [==============================] - 2s 73ms/step - loss: 0.5171 - accuracy: 0.8375 - val_loss: 1.3072 - val_accuracy: 0.4643\n",
      "Epoch 8/20\n",
      "28/28 [==============================] - 2s 72ms/step - loss: 0.2528 - accuracy: 0.8979 - val_loss: 1.2260 - val_accuracy: 0.6429\n",
      "Epoch 9/20\n",
      "28/28 [==============================] - 2s 72ms/step - loss: 0.2893 - accuracy: 0.9081 - val_loss: 1.4401 - val_accuracy: 0.6071\n",
      "Epoch 10/20\n",
      "28/28 [==============================] - 2s 71ms/step - loss: 0.2182 - accuracy: 0.9528 - val_loss: 1.4175 - val_accuracy: 0.5357\n",
      "Epoch 11/20\n",
      "28/28 [==============================] - 2s 72ms/step - loss: 0.0607 - accuracy: 0.9903 - val_loss: 1.4175 - val_accuracy: 0.6071\n",
      "Epoch 12/20\n",
      "28/28 [==============================] - 2s 72ms/step - loss: 0.2111 - accuracy: 0.9354 - val_loss: 1.3955 - val_accuracy: 0.5714\n",
      "Epoch 13/20\n",
      "28/28 [==============================] - 2s 72ms/step - loss: 0.1651 - accuracy: 0.9502 - val_loss: 1.3582 - val_accuracy: 0.5714\n",
      "Epoch 14/20\n",
      "28/28 [==============================] - 2s 72ms/step - loss: 0.1272 - accuracy: 0.9754 - val_loss: 1.3537 - val_accuracy: 0.6071\n",
      "Epoch 15/20\n",
      "28/28 [==============================] - 2s 71ms/step - loss: 0.0360 - accuracy: 1.0000 - val_loss: 1.2630 - val_accuracy: 0.6786\n",
      "Epoch 16/20\n",
      "28/28 [==============================] - 2s 73ms/step - loss: 0.0198 - accuracy: 0.9955 - val_loss: 1.1246 - val_accuracy: 0.6429\n",
      "Epoch 17/20\n",
      "28/28 [==============================] - 2s 72ms/step - loss: 0.0080 - accuracy: 0.9984 - val_loss: 1.8801 - val_accuracy: 0.5714\n",
      "Epoch 18/20\n",
      "28/28 [==============================] - 2s 72ms/step - loss: 0.1565 - accuracy: 0.9522 - val_loss: 2.0003 - val_accuracy: 0.5357\n",
      "Epoch 19/20\n",
      "28/28 [==============================] - 2s 72ms/step - loss: 0.1663 - accuracy: 0.9386 - val_loss: 1.7555 - val_accuracy: 0.5357\n",
      "Epoch 20/20\n",
      "28/28 [==============================] - 2s 72ms/step - loss: 0.2277 - accuracy: 0.9658 - val_loss: 0.9843 - val_accuracy: 0.7143\n",
      "4 Fold: Accuracy of testing data = 58.33%\n",
      "\n",
      "Epoch 1/20\n",
      "28/28 [==============================] - 3s 80ms/step - loss: 27.7833 - accuracy: 0.1923 - val_loss: 2.3142 - val_accuracy: 0.2143\n",
      "Epoch 2/20\n",
      "28/28 [==============================] - 2s 78ms/step - loss: 2.1542 - accuracy: 0.2396 - val_loss: 2.0883 - val_accuracy: 0.3571\n",
      "Epoch 3/20\n",
      "28/28 [==============================] - 2s 78ms/step - loss: 1.8212 - accuracy: 0.3525 - val_loss: 1.9453 - val_accuracy: 0.3214\n",
      "Epoch 4/20\n",
      "28/28 [==============================] - 2s 72ms/step - loss: 1.4771 - accuracy: 0.4642 - val_loss: 1.9688 - val_accuracy: 0.3571\n",
      "Epoch 5/20\n",
      "28/28 [==============================] - 2s 72ms/step - loss: 1.2130 - accuracy: 0.6061 - val_loss: 1.7177 - val_accuracy: 0.5000\n",
      "Epoch 6/20\n",
      "28/28 [==============================] - 2s 80ms/step - loss: 1.0197 - accuracy: 0.6479 - val_loss: 1.7581 - val_accuracy: 0.5357\n",
      "Epoch 7/20\n",
      "28/28 [==============================] - 2s 71ms/step - loss: 0.7324 - accuracy: 0.7802 - val_loss: 1.9190 - val_accuracy: 0.4286\n",
      "Epoch 8/20\n",
      "28/28 [==============================] - 2s 71ms/step - loss: 0.7639 - accuracy: 0.7342 - val_loss: 1.5441 - val_accuracy: 0.5714\n",
      "Epoch 9/20\n",
      "28/28 [==============================] - 2s 72ms/step - loss: 0.4705 - accuracy: 0.8667 - val_loss: 1.5917 - val_accuracy: 0.4643\n",
      "Epoch 10/20\n",
      "28/28 [==============================] - 2s 75ms/step - loss: 0.2909 - accuracy: 0.9418 - val_loss: 1.2731 - val_accuracy: 0.6071\n",
      "Epoch 11/20\n",
      "28/28 [==============================] - 2s 71ms/step - loss: 0.2145 - accuracy: 0.9359 - val_loss: 1.7391 - val_accuracy: 0.6071\n",
      "Epoch 12/20\n",
      "28/28 [==============================] - 2s 73ms/step - loss: 0.2510 - accuracy: 0.9354 - val_loss: 1.7929 - val_accuracy: 0.5714\n",
      "Epoch 13/20\n",
      "28/28 [==============================] - 2s 73ms/step - loss: 0.1325 - accuracy: 0.9537 - val_loss: 1.9109 - val_accuracy: 0.5714\n",
      "Epoch 14/20\n",
      "28/28 [==============================] - 2s 72ms/step - loss: 0.1843 - accuracy: 0.9003 - val_loss: 1.5267 - val_accuracy: 0.6429\n",
      "Epoch 15/20\n",
      "28/28 [==============================] - 2s 70ms/step - loss: 0.0351 - accuracy: 0.9991 - val_loss: 1.5493 - val_accuracy: 0.6786\n",
      "Epoch 16/20\n",
      "28/28 [==============================] - 2s 70ms/step - loss: 0.0533 - accuracy: 0.9984 - val_loss: 1.8048 - val_accuracy: 0.5714\n",
      "Epoch 17/20\n",
      "28/28 [==============================] - 2s 72ms/step - loss: 0.0850 - accuracy: 0.9735 - val_loss: 1.8832 - val_accuracy: 0.5357\n",
      "Epoch 18/20\n",
      "28/28 [==============================] - 2s 72ms/step - loss: 0.0232 - accuracy: 0.9987 - val_loss: 1.5076 - val_accuracy: 0.6786\n",
      "Epoch 19/20\n",
      "28/28 [==============================] - 2s 72ms/step - loss: 0.0305 - accuracy: 0.9969 - val_loss: 2.6827 - val_accuracy: 0.4643\n",
      "Epoch 20/20\n",
      "28/28 [==============================] - 2s 71ms/step - loss: 0.1662 - accuracy: 0.9591 - val_loss: 1.9343 - val_accuracy: 0.5357\n",
      "5 Fold: Accuracy of testing data = 56.67%\n",
      "\n"
     ]
    }
   ],
   "source": [
    "VALIDATION_ACCURACY = []\n",
    "VALIDATION_LOSS = []\n",
    "TEST_ACCURACY=[]\n",
    "\n",
    "skf = StratifiedKFold(n_splits=fold_num)\n",
    "fold_var = 1\n",
    "\n",
    "for train_index, valid_index in skf.split(X_train, y_train):\n",
    "    X_train_fold = X_train[train_index]\n",
    "    y_train_fold = y_train[train_index]\n",
    "    y_train_fold_onehot = np_utils.to_categorical(y_train_fold)\n",
    "    \n",
    "    X_val_fold = X_train[valid_index]\n",
    "    y_val_fold = y_train[valid_index]\n",
    "    y_val_fold_onehot = np_utils.to_categorical(y_val_fold)\n",
    "    \n",
    "    model = create_new_model(X_train_fold[0], CNN_SELECT)\n",
    "    opt = Adam(lr=0.0001)\n",
    "    model.compile(loss=\"categorical_crossentropy\", optimizer=opt, metrics=['accuracy'])\n",
    "    # CREATE CALLBACKS\n",
    "    checkpoint = tf.keras.callbacks.ModelCheckpoint(model_save_dir+\"/\"+model_name+\"_fold\"+str(fold_var)+\".h5\",\n",
    "                                    monitor='val_accuracy', \n",
    "                                    save_best_only=True)\n",
    "    callbacks_list = [checkpoint]\n",
    "    \n",
    "    history = model.fit(x=X_train_fold, y=y_train_fold_onehot,\n",
    "                    validation_data=(X_val_fold, y_val_fold_onehot),\n",
    "                    epochs=epochs, batch_size=batch_size,\n",
    "                    callbacks=callbacks_list,\n",
    "                    verbose=1) # 訓練紀錄顯示\n",
    "    \n",
    "    model.load_weights(model_save_dir+\"/\"+model_name+\"_fold\"+str(fold_var)+\".h5\")\n",
    "    if HIS_SHOW:\n",
    "        show_train_history(history, 'loss', 'val_loss')\n",
    "    \n",
    "    results = model.evaluate(X_val_fold, y_val_fold_onehot, batch_size=8, verbose=0)\n",
    "    results = dict(zip(model.metrics_names,results))\n",
    "    \n",
    "    VALIDATION_ACCURACY.append(results['accuracy'])\n",
    "    VALIDATION_LOSS.append(results['loss'])\n",
    "    \n",
    "    \n",
    "    scores = model.evaluate(X_test, y_test_onehot, batch_size=8, verbose=0)\n",
    "    print(str(fold_var)+\" Fold: \"+\"Accuracy of testing data = {:2.2f}%\".format(scores[1]*100.0))\n",
    "    print()\n",
    "    TEST_ACCURACY.append(scores[1]*100.0)\n",
    "    \n",
    "    tf.keras.backend.clear_session()\n",
    "    fold_var+=1"
   ]
  },
  {
   "cell_type": "code",
   "execution_count": 14,
   "id": "completed-macintosh",
   "metadata": {},
   "outputs": [
    {
     "name": "stdout",
     "output_type": "stream",
     "text": [
      "validation accuracy:  [0.6428571343421936, 0.6071428656578064, 0.6428571343421936, 0.7142857313156128, 0.6785714030265808]\n",
      "validation loss:  [1.6613670587539673, 1.3698762655258179, 1.665115475654602, 0.9843302369117737, 1.5493171215057373]\n",
      "test accuracy:  [53.33333611488342, 61.666667461395264, 71.66666388511658, 58.33333134651184, 56.66666626930237]\n"
     ]
    }
   ],
   "source": [
    "print(\"validation accuracy: \",VALIDATION_ACCURACY)\n",
    "print(\"validation loss: \", VALIDATION_LOSS)\n",
    "print(\"test accuracy: \",TEST_ACCURACY)"
   ]
  },
  {
   "cell_type": "code",
   "execution_count": 15,
   "id": "monetary-measure",
   "metadata": {},
   "outputs": [
    {
     "name": "stdout",
     "output_type": "stream",
     "text": [
      "average validation accuracy:  0.6571428537368774\n",
      "average test accuracy:  60.333333015441895\n"
     ]
    }
   ],
   "source": [
    "print(\"average validation accuracy: \",sum(VALIDATION_ACCURACY)/len(VALIDATION_ACCURACY))\n",
    "print(\"average test accuracy: \",sum(TEST_ACCURACY)/len(TEST_ACCURACY))"
   ]
  },
  {
   "cell_type": "code",
   "execution_count": null,
   "id": "indonesian-traffic",
   "metadata": {},
   "outputs": [],
   "source": []
  }
 ],
 "metadata": {
  "kernelspec": {
   "display_name": "Python 3",
   "language": "python",
   "name": "python3"
  },
  "language_info": {
   "codemirror_mode": {
    "name": "ipython",
    "version": 3
   },
   "file_extension": ".py",
   "mimetype": "text/x-python",
   "name": "python",
   "nbconvert_exporter": "python",
   "pygments_lexer": "ipython3",
   "version": "3.8.2"
  }
 },
 "nbformat": 4,
 "nbformat_minor": 5
}
