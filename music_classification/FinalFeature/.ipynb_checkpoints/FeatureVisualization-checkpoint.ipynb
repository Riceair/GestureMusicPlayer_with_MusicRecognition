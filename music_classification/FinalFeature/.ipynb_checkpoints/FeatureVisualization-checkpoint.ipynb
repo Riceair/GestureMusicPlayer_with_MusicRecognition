{
 "cells": [
  {
   "cell_type": "code",
   "execution_count": 1,
   "id": "computational-maple",
   "metadata": {},
   "outputs": [],
   "source": [
    "from tensorflow import keras\n",
    "import matplotlib.pyplot as plt\n",
    "from sklearn import manifold\n",
    "import numpy as np\n",
    "from keras.utils import np_utils\n",
    "import cv2\n",
    "import os"
   ]
  },
  {
   "cell_type": "code",
   "execution_count": 2,
   "id": "41f2b15f",
   "metadata": {},
   "outputs": [
    {
     "name": "stdout",
     "output_type": "stream",
     "text": [
      "['Blue', 'Classical', 'Country', 'Disco', 'EDM', 'Hiphop', 'Jazz', 'Metal', 'Pop', 'Reggae']\n"
     ]
    }
   ],
   "source": [
    "spect_path = \"../ImageData/original/spectrogram\" #original augmentation\n",
    "load_model_path = \"FeatureModel.h5\"\n",
    "spect_folder_names = os.listdir(spect_path)\n",
    "print(spect_folder_names)"
   ]
  },
  {
   "cell_type": "code",
   "execution_count": 3,
   "id": "e350cc12",
   "metadata": {},
   "outputs": [
    {
     "name": "stdout",
     "output_type": "stream",
     "text": [
      "class count:  10\n",
      "class file count:  [20, 20, 20, 20, 20, 20, 20, 20, 20, 20]\n"
     ]
    }
   ],
   "source": [
    "folders=[] #儲存各類別資料夾中的檔案名稱\n",
    "for folder in spect_folder_names:\n",
    "    file_names=[]\n",
    "    for file_name in os.listdir(spect_path+\"/\"+folder):\n",
    "        file_names.append(spect_path+\"/\"+folder+\"/\"+file_name) #加入mel 、mfcc路徑\n",
    "    folders.append(file_names)\n",
    "\n",
    "class_count_list = [len(files) for files in folders] #紀錄每個類別各有多少檔案(後面會用到)\n",
    "print(\"class count: \", len(folders))\n",
    "print(\"class file count: \", class_count_list)"
   ]
  },
  {
   "cell_type": "markdown",
   "id": "b2b259ef",
   "metadata": {},
   "source": [
    "### 讀取頻譜圖"
   ]
  },
  {
   "cell_type": "code",
   "execution_count": 4,
   "id": "7651fc5f",
   "metadata": {},
   "outputs": [],
   "source": [
    "Data = []\n",
    "for folder in folders:\n",
    "    for name in folder:\n",
    "        spect = cv2.imread(name) #shape=(220, 449, 3)\n",
    "        spect = cv2.resize(spect, (224, 224))\n",
    "        #spect = np.moveaxis(spect, 2, 0)\n",
    "        Data.append(spect)\n",
    "Data = np.array(Data)"
   ]
  },
  {
   "cell_type": "code",
   "execution_count": 5,
   "id": "36a3da97",
   "metadata": {},
   "outputs": [
    {
     "data": {
      "text/plain": [
       "(200, 224, 224, 3)"
      ]
     },
     "execution_count": 5,
     "metadata": {},
     "output_type": "execute_result"
    }
   ],
   "source": [
    "Data.shape"
   ]
  },
  {
   "cell_type": "markdown",
   "id": "9baf159f",
   "metadata": {},
   "source": [
    "### 製作Label"
   ]
  },
  {
   "cell_type": "code",
   "execution_count": 6,
   "id": "0219d1ad",
   "metadata": {},
   "outputs": [],
   "source": [
    "y = []\n",
    "for l, class_count in enumerate(class_count_list):\n",
    "    for _ in range(class_count):\n",
    "        y.append(1*l)"
   ]
  },
  {
   "cell_type": "markdown",
   "id": "1f1fb051",
   "metadata": {},
   "source": [
    "### 載入模型"
   ]
  },
  {
   "cell_type": "code",
   "execution_count": 7,
   "id": "weighted-hamburg",
   "metadata": {},
   "outputs": [
    {
     "name": "stdout",
     "output_type": "stream",
     "text": [
      "WARNING:tensorflow:No training configuration found in the save file, so the model was *not* compiled. Compile it manually.\n",
      "Model: \"sequential\"\n",
      "_________________________________________________________________\n",
      "Layer (type)                 Output Shape              Param #   \n",
      "=================================================================\n",
      "conv2d (Conv2D)              (None, 224, 224, 64)      4096      \n",
      "_________________________________________________________________\n",
      "max_pooling2d (MaxPooling2D) (None, 112, 112, 64)      0         \n",
      "_________________________________________________________________\n",
      "conv2d_1 (Conv2D)            (None, 112, 112, 128)     73856     \n",
      "_________________________________________________________________\n",
      "max_pooling2d_1 (MaxPooling2 (None, 56, 56, 128)       0         \n",
      "_________________________________________________________________\n",
      "conv2d_2 (Conv2D)            (None, 56, 56, 256)       295168    \n",
      "_________________________________________________________________\n",
      "max_pooling2d_2 (MaxPooling2 (None, 28, 28, 256)       0         \n",
      "_________________________________________________________________\n",
      "conv2d_3 (Conv2D)            (None, 28, 28, 512)       1180160   \n",
      "_________________________________________________________________\n",
      "max_pooling2d_3 (MaxPooling2 (None, 14, 14, 512)       0         \n",
      "_________________________________________________________________\n",
      "flatten (Flatten)            (None, 100352)            0         \n",
      "_________________________________________________________________\n",
      "dense (Dense)                (None, 512)               51380736  \n",
      "_________________________________________________________________\n",
      "dense_1 (Dense)              (None, 256)               131328    \n",
      "=================================================================\n",
      "Total params: 53,065,344\n",
      "Trainable params: 53,065,344\n",
      "Non-trainable params: 0\n",
      "_________________________________________________________________\n"
     ]
    }
   ],
   "source": [
    "model = keras.models.load_model(load_model_path)\n",
    "model.summary()"
   ]
  },
  {
   "cell_type": "code",
   "execution_count": 8,
   "id": "improved-payday",
   "metadata": {},
   "outputs": [],
   "source": [
    "predict_vec = model.predict(Data)"
   ]
  },
  {
   "cell_type": "markdown",
   "id": "159f57a3",
   "metadata": {},
   "source": [
    "### t-SNE"
   ]
  },
  {
   "cell_type": "code",
   "execution_count": 9,
   "id": "47ccbd0a",
   "metadata": {},
   "outputs": [
    {
     "name": "stdout",
     "output_type": "stream",
     "text": [
      "[t-SNE] Computing 91 nearest neighbors...\n",
      "[t-SNE] Indexed 200 samples in 0.000s...\n",
      "[t-SNE] Computed neighbors for 200 samples in 0.003s...\n",
      "[t-SNE] Computed conditional probabilities for sample 200 / 200\n",
      "[t-SNE] Mean sigma: 7.484195\n",
      "[t-SNE] KL divergence after 250 iterations with early exaggeration: 60.942379\n",
      "[t-SNE] KL divergence after 850 iterations: 0.456506\n"
     ]
    }
   ],
   "source": [
    "X_tsne = manifold.TSNE(n_components=2, init=\"random\", random_state=5, verbose=1).fit_transform(predict_vec)\n",
    "#Data Visualization\n",
    "x_min, x_max = X_tsne.min(0), X_tsne.max(0)\n",
    "X_norm = (X_tsne-x_min) / (x_max-x_min)  #Normalize"
   ]
  },
  {
   "cell_type": "code",
   "execution_count": 10,
   "id": "26c30784",
   "metadata": {},
   "outputs": [
    {
     "data": {
      "text/plain": [
       "<Figure size 1440x1440 with 0 Axes>"
      ]
     },
     "metadata": {},
     "output_type": "display_data"
    },
    {
     "data": {
      "image/png": "[encoded data removed]",
      "text/plain": [
       "<Figure size 432x288 with 1 Axes>"
      ]
     },
     "metadata": {
      "needs_background": "light"
     },
     "output_type": "display_data"
    }
   ],
   "source": [
    "plt.figure(figsize=(20, 20))\n",
    "fig, ax = plt.subplots()\n",
    "\n",
    "is_label_set=[]\n",
    "for i in range(len(spect_folder_names)):\n",
    "    is_label_set.append(False)\n",
    "\n",
    "for i in range(X_norm.shape[0]):\n",
    "    if not is_label_set[y[i]]:\n",
    "        ax.scatter(X_norm[i, 0], X_norm[i, 1], color=plt.cm.Set1(y[i]), label=spect_folder_names[y[i]])\n",
    "        is_label_set[y[i]] = True\n",
    "    else:\n",
    "        ax.scatter(X_norm[i, 0], X_norm[i, 1], color=plt.cm.Set1(y[i]))\n",
    "        #ax.scatter(x, y, c=color, s=scale, label=color,\n",
    "        #       alpha=0.3, edgecolors='none')\n",
    "    \n",
    "ax.legend(loc=\"upper right\", fontsize=7)\n",
    "ax.grid(True)\n",
    "\n",
    "plt.show()"
   ]
  },
  {
   "cell_type": "code",
   "execution_count": null,
   "id": "01ee218b",
   "metadata": {},
   "outputs": [],
   "source": []
  }
 ],
 "metadata": {
  "kernelspec": {
   "display_name": "Python 3 (ipykernel)",
   "language": "python",
   "name": "python3"
  },
  "language_info": {
   "codemirror_mode": {
    "name": "ipython",
    "version": 3
   },
   "file_extension": ".py",
   "mimetype": "text/x-python",
   "name": "python",
   "nbconvert_exporter": "python",
   "pygments_lexer": "ipython3",
   "version": "3.9.6"
  }
 },
 "nbformat": 4,
 "nbformat_minor": 5
}
