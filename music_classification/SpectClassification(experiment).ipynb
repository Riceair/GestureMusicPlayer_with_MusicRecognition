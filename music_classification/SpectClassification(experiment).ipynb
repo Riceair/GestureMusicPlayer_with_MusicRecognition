{
 "cells": [
  {
   "cell_type": "code",
   "execution_count": 1,
   "id": "fuzzy-vegetation",
   "metadata": {},
   "outputs": [],
   "source": [
    "import numpy as np\n",
    "import random\n",
    "import cv2\n",
    "import os\n",
    "\n",
    "from tensorflow import keras\n",
    "from keras.layers import *\n",
    "from keras.models import *\n",
    "from keras.optimizers import *\n",
    "\n",
    "from keras.utils import np_utils\n",
    "from sklearn.model_selection import train_test_split\n",
    "from sklearn.metrics import confusion_matrix, roc_auc_score\n",
    "import tensorflow as tf"
   ]
  },
  {
   "cell_type": "markdown",
   "id": "raised-trade",
   "metadata": {},
   "source": [
    "### 讀取頻譜圖路徑"
   ]
  },
  {
   "cell_type": "code",
   "execution_count": 2,
   "id": "amateur-ranking",
   "metadata": {},
   "outputs": [],
   "source": [
    "INPUT_SELECT = 0 #決定模型的輸入 0: log mel scale spectrogram, 1: mfcc\n",
    "IMG_SOURCE=0 #0: original, 2: augementation, 4: frame len 40ms 6: in class(沒有mfcc)\n",
    "MODEL_DIR = (\"Model/ms_model\", \"Model/mfcc_model\")\n",
    "MODEL_NAME = (\"MS\", \"MFCC\", \"MS_AUG\", \"MFCC_AUG\", \"MS_40\", \"MFCC_40\", \"MS_inclass\")\n",
    "IMG_PATH = (\"ImageData/original/spectrogram\", \"ImageData/original/mfcc\",\n",
    "                        \"ImageData/augmentation/spectrogram\", \"ImageData/augmentation/mfcc\",\n",
    "                        \"ImageData/frameLen_40ms/spectrogram\",\"ImageData/frameLen_40ms/mfcc\",\n",
    "                        \"ImageData/inclass\")"
   ]
  },
  {
   "cell_type": "code",
   "execution_count": 3,
   "id": "pharmaceutical-blade",
   "metadata": {},
   "outputs": [
    {
     "name": "stdout",
     "output_type": "stream",
     "text": [
      "['Blue', 'Classical', 'Country', 'Disco', 'EDM', 'Hiphop', 'Jazz', 'Metal', 'Pop', 'Reggae']\n"
     ]
    }
   ],
   "source": [
    "root_path = IMG_PATH[INPUT_SELECT+IMG_SOURCE]\n",
    "model_save_dir = MODEL_DIR[INPUT_SELECT]\n",
    "model_name = MODEL_NAME[INPUT_SELECT+IMG_SOURCE]\n",
    "folder_names = os.listdir(root_path)\n",
    "print(folder_names)"
   ]
  },
  {
   "cell_type": "code",
   "execution_count": 4,
   "id": "covered-slide",
   "metadata": {},
   "outputs": [
    {
     "name": "stdout",
     "output_type": "stream",
     "text": [
      "class count:  10\n",
      "class file count:  [20, 20, 20, 20, 20, 20, 20, 20, 20, 20]\n"
     ]
    }
   ],
   "source": [
    "folders=[] #儲存各類別資料夾中的檔案名稱\n",
    "for folder in folder_names:\n",
    "    file_names=[]\n",
    "    for file_name in os.listdir(root_path+\"/\"+folder):\n",
    "        file_names.append(root_path+\"/\"+folder+\"/\"+file_name)\n",
    "    folders.append(file_names)\n",
    "\n",
    "class_count_list = [len(files) for files in folders] #紀錄每個類別各有多少檔案(後面會用到)\n",
    "print(\"class count: \", len(folders))\n",
    "print(\"class file count: \", class_count_list)"
   ]
  },
  {
   "cell_type": "markdown",
   "id": "innocent-affairs",
   "metadata": {},
   "source": [
    "### 讀取頻譜圖"
   ]
  },
  {
   "cell_type": "code",
   "execution_count": 5,
   "id": "tracked-reducing",
   "metadata": {},
   "outputs": [],
   "source": [
    "Data = []\n",
    "for folder in folders:\n",
    "    for name in folder:\n",
    "        spect = cv2.imread(name) #shape=(220, 449, 3)\n",
    "        spect = cv2.resize(spect, (224, 224))\n",
    "        #spect = np.moveaxis(spect, 2, 0)\n",
    "        Data.append(spect)\n",
    "Data = np.array(Data)"
   ]
  },
  {
   "cell_type": "code",
   "execution_count": 6,
   "id": "antique-index",
   "metadata": {},
   "outputs": [
    {
     "data": {
      "text/plain": [
       "(200, 224, 224, 3)"
      ]
     },
     "execution_count": 6,
     "metadata": {},
     "output_type": "execute_result"
    }
   ],
   "source": [
    "Data.shape"
   ]
  },
  {
   "cell_type": "markdown",
   "id": "adjacent-advocate",
   "metadata": {},
   "source": [
    "### 製作Label"
   ]
  },
  {
   "cell_type": "code",
   "execution_count": 7,
   "id": "comprehensive-picture",
   "metadata": {},
   "outputs": [],
   "source": [
    "Label = []\n",
    "for l, class_count in enumerate(class_count_list):\n",
    "    for _ in range(class_count):\n",
    "        Label.append(np.ones(1)*l)\n",
    "Label = np.array(Label)"
   ]
  },
  {
   "cell_type": "markdown",
   "id": "major-illness",
   "metadata": {},
   "source": [
    "### 資料切割"
   ]
  },
  {
   "cell_type": "code",
   "execution_count": 8,
   "id": "convenient-diabetes",
   "metadata": {},
   "outputs": [],
   "source": [
    "seed =  random.randint(0, 1000**2)\n",
    "X_train, X_test, y_train, y_test = train_test_split(Data, Label, test_size=0.3,\n",
    "                                                    random_state=seed, stratify = Label)"
   ]
  },
  {
   "cell_type": "code",
   "execution_count": 9,
   "id": "indirect-upper",
   "metadata": {},
   "outputs": [],
   "source": [
    "seed =  random.randint(0, 1000**2)\n",
    "X_train, X_val, y_train, y_val = train_test_split(X_train, y_train, test_size=0.2,\n",
    "                                                    random_state=seed, stratify = y_train)"
   ]
  },
  {
   "cell_type": "code",
   "execution_count": 10,
   "id": "affiliated-extension",
   "metadata": {},
   "outputs": [],
   "source": [
    "y_train_onehot = np_utils.to_categorical(y_train)\n",
    "y_val_onehot = np_utils.to_categorical(y_val)\n",
    "y_test_onehot = np_utils.to_categorical(y_test)"
   ]
  },
  {
   "cell_type": "code",
   "execution_count": 11,
   "id": "overall-captain",
   "metadata": {},
   "outputs": [
    {
     "name": "stdout",
     "output_type": "stream",
     "text": [
      "(112, 224, 224, 3) (28, 224, 224, 3) (60, 224, 224, 3)\n",
      "(112, 1) (28, 1) (60, 1)\n"
     ]
    }
   ],
   "source": [
    "print(X_train.shape, X_val.shape,  X_test.shape)\n",
    "print(y_train.shape, y_val.shape,  y_test.shape)"
   ]
  },
  {
   "cell_type": "markdown",
   "id": "medieval-nancy",
   "metadata": {},
   "source": [
    "### 模型建立"
   ]
  },
  {
   "cell_type": "code",
   "execution_count": 12,
   "id": "martial-rugby",
   "metadata": {},
   "outputs": [],
   "source": [
    "def VGG16(inputs):\n",
    "    x = Conv2D(64, (3,3), activation='relu', padding = 'same')(inputs)\n",
    "    x = Dropout(0.03)(x)\n",
    "    x = Conv2D(64, (3,3), activation='relu', padding = 'same')(x)\n",
    "    x = Dropout(0.03)(x)\n",
    "    x = MaxPooling2D(pool_size=(2, 2), strides=(2, 2))(x)\n",
    "    x = Conv2D(128, (3,3), activation='relu', padding = 'same')(x)\n",
    "    x = Dropout(0.03)(x)\n",
    "    x = Conv2D(128, (3,3), activation='relu', padding = 'same')(x)\n",
    "    x = Dropout(0.03)(x)\n",
    "    x = MaxPooling2D(pool_size=(2, 2), strides=(2, 2))(x)\n",
    "    x = Conv2D(256, (3,3), activation='relu', padding = 'same')(x)\n",
    "    x = Dropout(0.03)(x)\n",
    "    x = Conv2D(256, (3,3), activation='relu', padding = 'same')(x)\n",
    "    x = Dropout(0.03)(x)\n",
    "    x = Conv2D(256, (3,3), activation='relu', padding = 'same')(x)\n",
    "    x = Dropout(0.03)(x)\n",
    "    x = MaxPooling2D(pool_size=(2, 2), strides=(2, 2))(x)\n",
    "    x = Conv2D(512, (3,3), activation='relu', padding = 'same')(x)\n",
    "    x = Dropout(0.03)(x)\n",
    "    x = Conv2D(512, (3,3), activation='relu', padding = 'same')(x)\n",
    "    x = Dropout(0.03)(x)\n",
    "    x = Conv2D(512, (3,3), activation='relu', padding = 'same')(x)\n",
    "    x = Dropout(0.03)(x)\n",
    "    x = MaxPooling2D(pool_size=(2, 2), strides=(2, 2))(x)\n",
    "    x = Conv2D(512, (3,3), activation='relu', padding = 'same')(x)\n",
    "    x = Dropout(0.03)(x)\n",
    "    x = Conv2D(512, (3,3), activation='relu', padding = 'same')(x)\n",
    "    x = Dropout(0.03)(x)\n",
    "    x = Conv2D(512, (3,3), activation='relu', padding = 'same')(x)\n",
    "    x = Dropout(0.03)(x)\n",
    "    x = MaxPooling2D(pool_size=(2, 2), strides=(2, 2))(x)\n",
    "    x = Flatten()(x)\n",
    "    x = Dense(2048, activation='relu')(x)\n",
    "    x = Dense(2048, activation='relu')(x)\n",
    "    return x"
   ]
  },
  {
   "cell_type": "code",
   "execution_count": 13,
   "id": "handmade-investigator",
   "metadata": {},
   "outputs": [],
   "source": [
    "def LeNet(inputs):\n",
    "    x = Conv2D(32, (5,5), activation='relu', padding = 'same')(inputs)\n",
    "    x = MaxPooling2D(pool_size=(2, 2), strides=(2, 2))(x)\n",
    "    x = Conv2D(64, (5,5), activation='relu', padding = 'same')(x)\n",
    "    x = MaxPooling2D(pool_size=(2, 2), strides=(2, 2))(x)\n",
    "    x = Flatten()(x)\n",
    "    x = Dense(100, activation='relu')(x)\n",
    "    return x"
   ]
  },
  {
   "cell_type": "code",
   "execution_count": 14,
   "id": "straight-constitutional",
   "metadata": {},
   "outputs": [],
   "source": [
    "def AlexNet(inputs):\n",
    "    x = Conv2D(96, (11,11), strides=(4,4), activation='relu', padding = 'same')(inputs)\n",
    "    x = MaxPooling2D(pool_size=(3,3), strides=(3,3))(x)\n",
    "    x = Conv2D(256, (5,5), strides=(1,1), activation='relu', padding = 'same')(x)\n",
    "    x = MaxPooling2D(pool_size=(3,3), strides=(2,2))(x)\n",
    "    x = Conv2D(384, (3,3), strides=(1,1), activation='relu', padding = 'same')(x)\n",
    "    x = Conv2D(384, (3,3), strides=(1,1), activation='relu', padding = 'same')(x)\n",
    "    x = Conv2D(256, (3,3), strides=(1,1), activation='relu', padding = 'same')(x)\n",
    "    x = MaxPooling2D(pool_size=(3,3), strides=(2,2))(x)\n",
    "    x = Flatten()(x)\n",
    "    x = Dense(4096, activation='relu')(x)\n",
    "    x = Dropout(0.5)(x)\n",
    "    x = Dense(4096, activation='relu')(x)\n",
    "    x = Dropout(0.5)(x)\n",
    "    x = Dense(1000, activation='relu')(x)\n",
    "    return x"
   ]
  },
  {
   "cell_type": "code",
   "execution_count": 15,
   "id": "thermal-antenna",
   "metadata": {},
   "outputs": [],
   "source": [
    "def Conv2d_BN(x, nb_filter,kernel_size, strides=(1,1), padding='same',name=None):\n",
    "    if name is not None:\n",
    "        bn_name = name + '_bn'\n",
    "        conv_name = name + '_conv'\n",
    "    else:\n",
    "        bn_name = None\n",
    "        conv_name = None\n",
    " \n",
    "    x = Conv2D(nb_filter,kernel_size,padding=padding,strides=strides,activation='relu',name=conv_name)(x)\n",
    "    x = BatchNormalization(axis=3,name=bn_name)(x)\n",
    "    return x\n",
    " \n",
    "def Conv_Block(inpt,nb_filter,kernel_size,strides=(1,1), with_conv_shortcut=False):\n",
    "    x = Conv2d_BN(inpt,nb_filter=nb_filter,kernel_size=kernel_size,strides=strides,padding='same')\n",
    "    x = Conv2d_BN(x, nb_filter=nb_filter, kernel_size=kernel_size,padding='same')\n",
    "    if with_conv_shortcut:\n",
    "        shortcut = Conv2d_BN(inpt,nb_filter=nb_filter,strides=strides,kernel_size=kernel_size)\n",
    "        x = add([x,shortcut])\n",
    "        return x\n",
    "    else:\n",
    "        x = add([x,inpt])\n",
    "        return x\n",
    "\n",
    "def Resnet_34(inpt):\n",
    "    x = ZeroPadding2D((3,3))(inpt)\n",
    "    x = Conv2d_BN(x,nb_filter=64,kernel_size=(7,7),strides=(2,2),padding='valid')\n",
    "    x = MaxPooling2D(pool_size=(3,3),strides=(2,2),padding='same')(x)\n",
    "    #(56,56,64)\n",
    "    x = Conv_Block(x,nb_filter=64,kernel_size=(3,3))\n",
    "    x = Conv_Block(x,nb_filter=64,kernel_size=(3,3))\n",
    "    x = Conv_Block(x,nb_filter=64,kernel_size=(3,3))\n",
    "    #(28,28,128)\n",
    "    x = Conv_Block(x,nb_filter=128,kernel_size=(3,3),strides=(2,2),with_conv_shortcut=True)\n",
    "    x = Conv_Block(x,nb_filter=128,kernel_size=(3,3))\n",
    "    x = Conv_Block(x,nb_filter=128,kernel_size=(3,3))\n",
    "    x = Conv_Block(x,nb_filter=128,kernel_size=(3,3))\n",
    "    #(14,14,256)\n",
    "    x = Conv_Block(x,nb_filter=256,kernel_size=(3,3),strides=(2,2),with_conv_shortcut=True)\n",
    "    x = Conv_Block(x,nb_filter=256,kernel_size=(3,3))\n",
    "    x = Conv_Block(x,nb_filter=256,kernel_size=(3,3))\n",
    "    x = Conv_Block(x,nb_filter=256,kernel_size=(3,3))\n",
    "    x = Conv_Block(x,nb_filter=256,kernel_size=(3,3))\n",
    "    x = Conv_Block(x,nb_filter=256,kernel_size=(3,3))\n",
    "    #(7,7,512)\n",
    "    x = Conv_Block(x,nb_filter=512,kernel_size=(3,3),strides=(2,2),with_conv_shortcut=True)\n",
    "    x = Conv_Block(x,nb_filter=512,kernel_size=(3,3))\n",
    "    x = Conv_Block(x,nb_filter=512,kernel_size=(3,3))\n",
    "    x = AveragePooling2D(pool_size=(7,7))(x)\n",
    "    x = Flatten()(x)\n",
    "    return x"
   ]
  },
  {
   "cell_type": "code",
   "execution_count": 16,
   "id": "amended-texas",
   "metadata": {},
   "outputs": [],
   "source": [
    "def CONV(inputs):\n",
    "    x = Conv2D(64, (7,3), activation='relu', padding = 'same')(inputs)\n",
    "    x = MaxPooling2D(pool_size=(2, 2), strides=(2, 2))(x)\n",
    "    x = Conv2D(128, (3,3), activation='relu', padding = 'same')(x)\n",
    "    x = MaxPooling2D(pool_size=(2, 2), strides=(2, 2))(x)\n",
    "    x = Conv2D(256, (3,3), activation='relu', padding = 'same')(x)\n",
    "    x = MaxPooling2D(pool_size=(2, 2), strides=(2, 2))(x)\n",
    "    x = Conv2D(512, (3,3), activation='relu', padding = 'same')(x)\n",
    "    x = MaxPooling2D(pool_size=(2, 2), strides=(2, 2))(x)\n",
    "    x = Flatten()(x)\n",
    "    x = Dense(512, activation='relu')(x)\n",
    "    x = Dense(256, activation='relu')(x)\n",
    "    return x"
   ]
  },
  {
   "cell_type": "code",
   "execution_count": 17,
   "id": "proud-premium",
   "metadata": {},
   "outputs": [
    {
     "name": "stdout",
     "output_type": "stream",
     "text": [
      "Model: \"model\"\n",
      "_________________________________________________________________\n",
      "Layer (type)                 Output Shape              Param #   \n",
      "=================================================================\n",
      "input_1 (InputLayer)         [(None, 224, 224, 3)]     0         \n",
      "_________________________________________________________________\n",
      "conv2d (Conv2D)              (None, 224, 224, 64)      4096      \n",
      "_________________________________________________________________\n",
      "max_pooling2d (MaxPooling2D) (None, 112, 112, 64)      0         \n",
      "_________________________________________________________________\n",
      "conv2d_1 (Conv2D)            (None, 112, 112, 128)     73856     \n",
      "_________________________________________________________________\n",
      "max_pooling2d_1 (MaxPooling2 (None, 56, 56, 128)       0         \n",
      "_________________________________________________________________\n",
      "conv2d_2 (Conv2D)            (None, 56, 56, 256)       295168    \n",
      "_________________________________________________________________\n",
      "max_pooling2d_2 (MaxPooling2 (None, 28, 28, 256)       0         \n",
      "_________________________________________________________________\n",
      "conv2d_3 (Conv2D)            (None, 28, 28, 512)       1180160   \n",
      "_________________________________________________________________\n",
      "max_pooling2d_3 (MaxPooling2 (None, 14, 14, 512)       0         \n",
      "_________________________________________________________________\n",
      "flatten (Flatten)            (None, 100352)            0         \n",
      "_________________________________________________________________\n",
      "dense (Dense)                (None, 512)               51380736  \n",
      "_________________________________________________________________\n",
      "dense_1 (Dense)              (None, 256)               131328    \n",
      "_________________________________________________________________\n",
      "dense_2 (Dense)              (None, 10)                2570      \n",
      "=================================================================\n",
      "Total params: 53,067,914\n",
      "Trainable params: 53,067,914\n",
      "Non-trainable params: 0\n",
      "_________________________________________________________________\n"
     ]
    }
   ],
   "source": [
    "input_shape = X_train[0].shape\n",
    "output_dim = len(folders)\n",
    "\n",
    "inputs = Input(shape=input_shape)\n",
    "x = CONV(inputs)\n",
    "outputs = Dense(output_dim, activation='softmax')(x)\n",
    "\n",
    "model=Model(inputs,outputs)\n",
    "model.summary()"
   ]
  },
  {
   "cell_type": "code",
   "execution_count": 18,
   "id": "worse-ideal",
   "metadata": {},
   "outputs": [],
   "source": [
    "opt = Adam(lr=0.0001)\n",
    "\n",
    "model.compile(loss=\"categorical_crossentropy\", optimizer=opt, metrics=['accuracy'])\n",
    "\n",
    "# CREATE CALLBACKS\n",
    "#\"{epoch:03d}-val_acc{val_accuracy:.2f}.h5\"\n",
    "checkpoint = tf.keras.callbacks.ModelCheckpoint(model_save_dir+\"/\"+model_name+\".h5\",\n",
    "                                monitor='val_accuracy', \n",
    "                                save_best_only=True)\n",
    "callbacks_list = [checkpoint]"
   ]
  },
  {
   "cell_type": "code",
   "execution_count": 19,
   "id": "extreme-appendix",
   "metadata": {},
   "outputs": [
    {
     "name": "stdout",
     "output_type": "stream",
     "text": [
      "Epoch 1/20\n",
      "14/14 [==============================] - 7s 228ms/step - loss: 43.7627 - accuracy: 0.0825 - val_loss: 5.5670 - val_accuracy: 0.1071\n",
      "Epoch 2/20\n",
      "14/14 [==============================] - 2s 114ms/step - loss: 2.8921 - accuracy: 0.1600 - val_loss: 2.1804 - val_accuracy: 0.2143\n",
      "Epoch 3/20\n",
      "14/14 [==============================] - 2s 110ms/step - loss: 1.9746 - accuracy: 0.3043 - val_loss: 2.2337 - val_accuracy: 0.2143\n",
      "Epoch 4/20\n",
      "14/14 [==============================] - 2s 110ms/step - loss: 1.8165 - accuracy: 0.2905 - val_loss: 2.0597 - val_accuracy: 0.3929\n",
      "Epoch 5/20\n",
      "14/14 [==============================] - 2s 110ms/step - loss: 1.4648 - accuracy: 0.5637 - val_loss: 2.1503 - val_accuracy: 0.3929\n",
      "Epoch 6/20\n",
      "14/14 [==============================] - 2s 110ms/step - loss: 1.3562 - accuracy: 0.5235 - val_loss: 1.9537 - val_accuracy: 0.4643\n",
      "Epoch 7/20\n",
      "14/14 [==============================] - 2s 117ms/step - loss: 0.9330 - accuracy: 0.7291 - val_loss: 1.6591 - val_accuracy: 0.6429\n",
      "Epoch 8/20\n",
      "14/14 [==============================] - 2s 112ms/step - loss: 0.7104 - accuracy: 0.8072 - val_loss: 1.8478 - val_accuracy: 0.5357\n",
      "Epoch 9/20\n",
      "14/14 [==============================] - 2s 110ms/step - loss: 0.5722 - accuracy: 0.8478 - val_loss: 2.2954 - val_accuracy: 0.3571\n",
      "Epoch 10/20\n",
      "14/14 [==============================] - 2s 110ms/step - loss: 0.4140 - accuracy: 0.8900 - val_loss: 1.4297 - val_accuracy: 0.7143\n",
      "Epoch 11/20\n",
      "14/14 [==============================] - 2s 114ms/step - loss: 0.2228 - accuracy: 0.9526 - val_loss: 1.5162 - val_accuracy: 0.5000\n",
      "Epoch 12/20\n",
      "14/14 [==============================] - 2s 115ms/step - loss: 0.1032 - accuracy: 0.9967 - val_loss: 2.2536 - val_accuracy: 0.5357\n",
      "Epoch 13/20\n",
      "14/14 [==============================] - 2s 112ms/step - loss: 0.1836 - accuracy: 0.9476 - val_loss: 1.6825 - val_accuracy: 0.5714\n",
      "Epoch 14/20\n",
      "14/14 [==============================] - 2s 110ms/step - loss: 0.1149 - accuracy: 0.9546 - val_loss: 1.8774 - val_accuracy: 0.5000\n",
      "Epoch 15/20\n",
      "14/14 [==============================] - 2s 110ms/step - loss: 0.0736 - accuracy: 0.9889 - val_loss: 1.8946 - val_accuracy: 0.5357\n",
      "Epoch 16/20\n",
      "14/14 [==============================] - 2s 109ms/step - loss: 0.0435 - accuracy: 0.9982 - val_loss: 1.5058 - val_accuracy: 0.5714\n",
      "Epoch 17/20\n",
      "14/14 [==============================] - 2s 110ms/step - loss: 0.0644 - accuracy: 0.9872 - val_loss: 1.4976 - val_accuracy: 0.7143\n",
      "Epoch 18/20\n",
      "14/14 [==============================] - 2s 110ms/step - loss: 0.0394 - accuracy: 0.9902 - val_loss: 1.4185 - val_accuracy: 0.7500\n",
      "Epoch 19/20\n",
      "14/14 [==============================] - 2s 119ms/step - loss: 0.0223 - accuracy: 0.9982 - val_loss: 1.4329 - val_accuracy: 0.6429\n",
      "Epoch 20/20\n",
      "14/14 [==============================] - 2s 119ms/step - loss: 0.0327 - accuracy: 0.9947 - val_loss: 1.9518 - val_accuracy: 0.5357\n"
     ]
    }
   ],
   "source": [
    "history = model.fit(x=X_train, y=y_train_onehot,\n",
    "                    validation_data=(X_val, y_val_onehot),\n",
    "                    epochs=20, batch_size=8,\n",
    "                    callbacks=callbacks_list,\n",
    "                    verbose=1) # 訓練紀錄顯示"
   ]
  },
  {
   "cell_type": "code",
   "execution_count": 20,
   "id": "accepted-lingerie",
   "metadata": {},
   "outputs": [],
   "source": [
    "import matplotlib.pyplot as plt\n",
    "def show_train_history(train_history, train, validation):\n",
    "    plt.plot(train_history.history[train])\n",
    "    plt.plot(train_history.history[validation])\n",
    "    plt.title('Train History')\n",
    "    plt.ylabel(train)\n",
    "    plt.xlabel('Epoch')\n",
    "    plt.legend(['train', 'validation'], loc='upper left')\n",
    "    plt.show()"
   ]
  },
  {
   "cell_type": "code",
   "execution_count": 21,
   "id": "demanding-stage",
   "metadata": {},
   "outputs": [
    {
     "data": {
      "image/png": "[encoded data removed]",
      "text/plain": [
       "<Figure size 432x288 with 1 Axes>"
      ]
     },
     "metadata": {
      "needs_background": "light"
     },
     "output_type": "display_data"
    }
   ],
   "source": [
    "# 1. 圖表顯示 loss\n",
    "model.load_weights(model_save_dir+\"/\"+model_name+\".h5\")\n",
    "show_train_history(history, 'loss', 'val_loss')"
   ]
  },
  {
   "cell_type": "code",
   "execution_count": 22,
   "id": "behind-tractor",
   "metadata": {},
   "outputs": [
    {
     "name": "stdout",
     "output_type": "stream",
     "text": [
      "Accuracy of testing data = 68.33%\n"
     ]
    }
   ],
   "source": [
    "scores = model.evaluate(X_test, y_test_onehot, batch_size=8, verbose=0)\n",
    "print(\"Accuracy of testing data = {:2.2f}%\".format(scores[1]*100.0))"
   ]
  },
  {
   "cell_type": "code",
   "execution_count": 23,
   "id": "defined-stick",
   "metadata": {},
   "outputs": [],
   "source": [
    "# import pickle\n",
    "# def save_history(history, fn):\n",
    "#     with open(fn, 'wb') as fw:\n",
    "#         pickle.dump(history.history, fw, protocol=2)\n",
    "# save_history(history,model_save_path+\"_history.bin\")"
   ]
  },
  {
   "cell_type": "code",
   "execution_count": null,
   "id": "completed-macintosh",
   "metadata": {},
   "outputs": [],
   "source": []
  }
 ],
 "metadata": {
  "kernelspec": {
   "display_name": "Python 3",
   "language": "python",
   "name": "python3"
  },
  "language_info": {
   "codemirror_mode": {
    "name": "ipython",
    "version": 3
   },
   "file_extension": ".py",
   "mimetype": "text/x-python",
   "name": "python",
   "nbconvert_exporter": "python",
   "pygments_lexer": "ipython3",
   "version": "3.8.2"
  }
 },
 "nbformat": 4,
 "nbformat_minor": 5
}
