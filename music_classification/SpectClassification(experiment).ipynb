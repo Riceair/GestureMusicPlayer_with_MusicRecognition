{
 "cells": [
  {
   "cell_type": "code",
   "execution_count": 1,
   "id": "fuzzy-vegetation",
   "metadata": {},
   "outputs": [],
   "source": [
    "import numpy as np\n",
    "import random\n",
    "import cv2\n",
    "import os\n",
    "\n",
    "from tensorflow import keras\n",
    "from keras.layers import *\n",
    "from keras.models import *\n",
    "from keras.optimizers import *\n",
    "\n",
    "from keras.utils import np_utils\n",
    "from sklearn.model_selection import train_test_split\n",
    "from sklearn.metrics import confusion_matrix, roc_auc_score\n",
    "import tensorflow as tf"
   ]
  },
  {
   "cell_type": "markdown",
   "id": "raised-trade",
   "metadata": {},
   "source": [
    "### 讀取頻譜圖路徑"
   ]
  },
  {
   "cell_type": "code",
   "execution_count": 2,
   "id": "amateur-ranking",
   "metadata": {},
   "outputs": [],
   "source": [
    "INPUT_SELECT = 0 #決定模型的輸入 0: log mel scale spectrogram, 1: mfcc\n",
    "IS_AUG=True\n",
    "MODEL_DIR = (\"Model/ms_model\", \"Model/mfcc_model\")\n",
    "MODEL_NAME = (\"MS\", \"MFCC\", \"MS_AUG\", \"MFCC_AUG\")\n",
    "IMG_PATH = (\"ImageData/original/spectrogram\", \"ImageData/original/mfcc\",\n",
    "                        \"ImageData/augmentation/spectrogram\", \"ImageData/original/mfcc\")"
   ]
  },
  {
   "cell_type": "code",
   "execution_count": 3,
   "id": "pharmaceutical-blade",
   "metadata": {},
   "outputs": [
    {
     "name": "stdout",
     "output_type": "stream",
     "text": [
      "['Blue', 'Classical', 'Country', 'Disco', 'EDM', 'Hiphop', 'Jazz', 'Metal', 'Pop', 'Reggae']\n"
     ]
    }
   ],
   "source": [
    "if IS_AUG:\n",
    "    AUG=2\n",
    "else:\n",
    "    AUG=0\n",
    "root_path = IMG_PATH[INPUT_SELECT+AUG]\n",
    "model_save_dir = MODEL_DIR[INPUT_SELECT]\n",
    "model_name = MODEL_NAME[INPUT_SELECT+AUG]\n",
    "folder_names = os.listdir(root_path)\n",
    "print(folder_names)"
   ]
  },
  {
   "cell_type": "code",
   "execution_count": 4,
   "id": "covered-slide",
   "metadata": {},
   "outputs": [
    {
     "name": "stdout",
     "output_type": "stream",
     "text": [
      "class count:  10\n",
      "class file count:  [20, 20, 20, 20, 20, 20, 20, 20, 20, 20]\n"
     ]
    }
   ],
   "source": [
    "folders=[] #儲存各類別資料夾中的檔案名稱\n",
    "for folder in folder_names:\n",
    "    file_names=[]\n",
    "    for file_name in os.listdir(root_path+\"/\"+folder):\n",
    "        file_names.append(root_path+\"/\"+folder+\"/\"+file_name)\n",
    "    folders.append(file_names)\n",
    "\n",
    "class_count_list = [len(files) for files in folders] #紀錄每個類別各有多少檔案(後面會用到)\n",
    "print(\"class count: \", len(folders))\n",
    "print(\"class file count: \", class_count_list)"
   ]
  },
  {
   "cell_type": "markdown",
   "id": "innocent-affairs",
   "metadata": {},
   "source": [
    "### 讀取頻譜圖"
   ]
  },
  {
   "cell_type": "code",
   "execution_count": 5,
   "id": "tracked-reducing",
   "metadata": {},
   "outputs": [],
   "source": [
    "Data = []\n",
    "for folder in folders:\n",
    "    for name in folder:\n",
    "        spect = cv2.imread(name) #shape=(220, 449, 3)\n",
    "        spect = cv2.resize(spect, (224, 224))\n",
    "#         spect = cv2.cvtColor(spect, cv2.COLOR_BGR2GRAY) #轉灰階\n",
    "#         spect = spect.T #轉置\n",
    "        Data.append(spect)\n",
    "Data = np.array(Data)"
   ]
  },
  {
   "cell_type": "code",
   "execution_count": 6,
   "id": "antique-index",
   "metadata": {},
   "outputs": [
    {
     "data": {
      "text/plain": [
       "(200, 224, 224, 3)"
      ]
     },
     "execution_count": 6,
     "metadata": {},
     "output_type": "execute_result"
    }
   ],
   "source": [
    "Data.shape"
   ]
  },
  {
   "cell_type": "markdown",
   "id": "adjacent-advocate",
   "metadata": {},
   "source": [
    "### 製作Label"
   ]
  },
  {
   "cell_type": "code",
   "execution_count": 7,
   "id": "comprehensive-picture",
   "metadata": {},
   "outputs": [],
   "source": [
    "Label = []\n",
    "for l, class_count in enumerate(class_count_list):\n",
    "    for _ in range(class_count):\n",
    "        Label.append(np.ones(1)*l)\n",
    "Label = np.array(Label)"
   ]
  },
  {
   "cell_type": "markdown",
   "id": "major-illness",
   "metadata": {},
   "source": [
    "### 資料切割"
   ]
  },
  {
   "cell_type": "code",
   "execution_count": 8,
   "id": "convenient-diabetes",
   "metadata": {},
   "outputs": [],
   "source": [
    "seed =  random.randint(0, 1000**2)\n",
    "X_train, X_test, y_train, y_test = train_test_split(Data, Label, test_size=0.3,\n",
    "                                                    random_state=seed, stratify = Label)"
   ]
  },
  {
   "cell_type": "code",
   "execution_count": 9,
   "id": "indirect-upper",
   "metadata": {},
   "outputs": [],
   "source": [
    "seed =  random.randint(0, 1000**2)\n",
    "X_train, X_val, y_train, y_val = train_test_split(X_train, y_train, test_size=0.2,\n",
    "                                                    random_state=seed, stratify = y_train)"
   ]
  },
  {
   "cell_type": "code",
   "execution_count": 10,
   "id": "affiliated-extension",
   "metadata": {},
   "outputs": [],
   "source": [
    "y_train_onehot = np_utils.to_categorical(y_train)\n",
    "y_val_onehot = np_utils.to_categorical(y_val)\n",
    "y_test_onehot = np_utils.to_categorical(y_test)"
   ]
  },
  {
   "cell_type": "code",
   "execution_count": 11,
   "id": "overall-captain",
   "metadata": {},
   "outputs": [
    {
     "name": "stdout",
     "output_type": "stream",
     "text": [
      "(112, 224, 224, 3) (28, 224, 224, 3) (60, 224, 224, 3)\n",
      "(112, 1) (28, 1) (60, 1)\n"
     ]
    }
   ],
   "source": [
    "print(X_train.shape, X_val.shape,  X_test.shape)\n",
    "print(y_train.shape, y_val.shape,  y_test.shape)"
   ]
  },
  {
   "cell_type": "markdown",
   "id": "medieval-nancy",
   "metadata": {},
   "source": [
    "### 模型建立"
   ]
  },
  {
   "cell_type": "code",
   "execution_count": 12,
   "id": "martial-rugby",
   "metadata": {},
   "outputs": [],
   "source": [
    "def VGG16(inputs):\n",
    "    x = Conv2D(64, (3,3), activation='relu', padding = 'same')(inputs)\n",
    "    x = Dropout(0.03)(x)\n",
    "    x = Conv2D(64, (3,3), activation='relu', padding = 'same')(x)\n",
    "    x = Dropout(0.03)(x)\n",
    "    x = MaxPooling2D(pool_size=(2, 2), strides=(2, 2))(x)\n",
    "    x = Conv2D(128, (3,3), activation='relu', padding = 'same')(x)\n",
    "    x = Dropout(0.03)(x)\n",
    "    x = Conv2D(128, (3,3), activation='relu', padding = 'same')(x)\n",
    "    x = Dropout(0.03)(x)\n",
    "    x = MaxPooling2D(pool_size=(2, 2), strides=(2, 2))(x)\n",
    "    x = Conv2D(256, (3,3), activation='relu', padding = 'same')(x)\n",
    "    x = Dropout(0.03)(x)\n",
    "    x = Conv2D(256, (3,3), activation='relu', padding = 'same')(x)\n",
    "    x = Dropout(0.03)(x)\n",
    "    x = Conv2D(256, (3,3), activation='relu', padding = 'same')(x)\n",
    "    x = Dropout(0.03)(x)\n",
    "    x = MaxPooling2D(pool_size=(2, 2), strides=(2, 2))(x)\n",
    "    x = Conv2D(512, (3,3), activation='relu', padding = 'same')(x)\n",
    "    x = Dropout(0.03)(x)\n",
    "    x = Conv2D(512, (3,3), activation='relu', padding = 'same')(x)\n",
    "    x = Dropout(0.03)(x)\n",
    "    x = Conv2D(512, (3,3), activation='relu', padding = 'same')(x)\n",
    "    x = Dropout(0.03)(x)\n",
    "    x = MaxPooling2D(pool_size=(2, 2), strides=(2, 2))(x)\n",
    "    x = Conv2D(512, (3,3), activation='relu', padding = 'same')(x)\n",
    "    x = Dropout(0.03)(x)\n",
    "    x = Conv2D(512, (3,3), activation='relu', padding = 'same')(x)\n",
    "    x = Dropout(0.03)(x)\n",
    "    x = Conv2D(512, (3,3), activation='relu', padding = 'same')(x)\n",
    "    x = Dropout(0.03)(x)\n",
    "    x = MaxPooling2D(pool_size=(2, 2), strides=(2, 2))(x)\n",
    "    x = Flatten()(x)\n",
    "    return x"
   ]
  },
  {
   "cell_type": "code",
   "execution_count": 13,
   "id": "amended-texas",
   "metadata": {},
   "outputs": [],
   "source": [
    "def CONV(inputs):\n",
    "    x = Conv2D(64, (7,3), activation='relu', padding = 'same')(inputs)\n",
    "    x = Dropout(0.03)(x)\n",
    "    x = MaxPooling2D(pool_size=(2, 2), strides=(2, 2))(x)\n",
    "    x = Conv2D(128, (3,1), activation='relu', padding = 'same')(x)\n",
    "    x = Dropout(0.03)(x)\n",
    "    x = MaxPooling2D(pool_size=(2, 2), strides=(2, 2))(x)\n",
    "    x = Conv2D(256, (3,3), activation='relu', padding = 'same')(x)\n",
    "    x = Dropout(0.03)(x)\n",
    "    x = MaxPooling2D(pool_size=(2, 2), strides=(2, 2))(x)\n",
    "    x = Conv2D(512, (3,3), activation='relu', padding = 'same')(x)\n",
    "    x = Dropout(0.03)(x)\n",
    "    x = MaxPooling2D(pool_size=(2, 2), strides=(2, 2))(x)\n",
    "    x = Flatten()(x)\n",
    "    return x"
   ]
  },
  {
   "cell_type": "code",
   "execution_count": 14,
   "id": "proud-premium",
   "metadata": {},
   "outputs": [
    {
     "name": "stdout",
     "output_type": "stream",
     "text": [
      "Model: \"model\"\n",
      "_________________________________________________________________\n",
      "Layer (type)                 Output Shape              Param #   \n",
      "=================================================================\n",
      "input_1 (InputLayer)         [(None, 224, 224, 3)]     0         \n",
      "_________________________________________________________________\n",
      "conv2d (Conv2D)              (None, 224, 224, 64)      4096      \n",
      "_________________________________________________________________\n",
      "dropout (Dropout)            (None, 224, 224, 64)      0         \n",
      "_________________________________________________________________\n",
      "max_pooling2d (MaxPooling2D) (None, 112, 112, 64)      0         \n",
      "_________________________________________________________________\n",
      "conv2d_1 (Conv2D)            (None, 112, 112, 128)     24704     \n",
      "_________________________________________________________________\n",
      "dropout_1 (Dropout)          (None, 112, 112, 128)     0         \n",
      "_________________________________________________________________\n",
      "max_pooling2d_1 (MaxPooling2 (None, 56, 56, 128)       0         \n",
      "_________________________________________________________________\n",
      "conv2d_2 (Conv2D)            (None, 56, 56, 256)       295168    \n",
      "_________________________________________________________________\n",
      "dropout_2 (Dropout)          (None, 56, 56, 256)       0         \n",
      "_________________________________________________________________\n",
      "max_pooling2d_2 (MaxPooling2 (None, 28, 28, 256)       0         \n",
      "_________________________________________________________________\n",
      "conv2d_3 (Conv2D)            (None, 28, 28, 512)       1180160   \n",
      "_________________________________________________________________\n",
      "dropout_3 (Dropout)          (None, 28, 28, 512)       0         \n",
      "_________________________________________________________________\n",
      "max_pooling2d_3 (MaxPooling2 (None, 14, 14, 512)       0         \n",
      "_________________________________________________________________\n",
      "flatten (Flatten)            (None, 100352)            0         \n",
      "_________________________________________________________________\n",
      "dense (Dense)                (None, 512)               51380736  \n",
      "_________________________________________________________________\n",
      "dense_1 (Dense)              (None, 256)               131328    \n",
      "_________________________________________________________________\n",
      "dense_2 (Dense)              (None, 10)                2570      \n",
      "=================================================================\n",
      "Total params: 53,018,762\n",
      "Trainable params: 53,018,762\n",
      "Non-trainable params: 0\n",
      "_________________________________________________________________\n"
     ]
    }
   ],
   "source": [
    "input_shape = X_train[0].shape\n",
    "output_dim = len(folders)\n",
    "\n",
    "inputs = Input(shape=input_shape)\n",
    "x = CONV(inputs)\n",
    "x = Dense(512, activation='relu')(x)\n",
    "x = Dense(256, activation='relu')(x)\n",
    "outputs = Dense(output_dim, activation='softmax')(x)\n",
    "\n",
    "model=Model(inputs,outputs)\n",
    "model.summary()"
   ]
  },
  {
   "cell_type": "code",
   "execution_count": 15,
   "id": "worse-ideal",
   "metadata": {},
   "outputs": [],
   "source": [
    "opt = Adam(lr=0.0001)\n",
    "\n",
    "model.compile(loss=\"categorical_crossentropy\", optimizer=opt, metrics=['accuracy'])\n",
    "\n",
    "# CREATE CALLBACKS\n",
    "#\"{epoch:03d}-val_acc{val_accuracy:.2f}.h5\"\n",
    "checkpoint = tf.keras.callbacks.ModelCheckpoint(model_save_dir+\"/\"+model_name+\".h5\",\n",
    "                                monitor='val_accuracy', \n",
    "                                save_best_only=True)\n",
    "callbacks_list = [checkpoint]"
   ]
  },
  {
   "cell_type": "code",
   "execution_count": 16,
   "id": "extreme-appendix",
   "metadata": {},
   "outputs": [
    {
     "name": "stdout",
     "output_type": "stream",
     "text": [
      "Epoch 1/20\n",
      "14/14 [==============================] - 17s 279ms/step - loss: 37.9368 - accuracy: 0.1361 - val_loss: 3.4485 - val_accuracy: 0.0714\n",
      "Epoch 2/20\n",
      "14/14 [==============================] - 2s 163ms/step - loss: 2.8982 - accuracy: 0.1981 - val_loss: 2.0733 - val_accuracy: 0.2143\n",
      "Epoch 3/20\n",
      "14/14 [==============================] - 2s 148ms/step - loss: 2.0914 - accuracy: 0.2516 - val_loss: 2.0099 - val_accuracy: 0.3571\n",
      "Epoch 4/20\n",
      "14/14 [==============================] - 2s 150ms/step - loss: 1.4667 - accuracy: 0.4932 - val_loss: 1.7036 - val_accuracy: 0.3214\n",
      "Epoch 5/20\n",
      "14/14 [==============================] - 2s 150ms/step - loss: 1.2545 - accuracy: 0.5867 - val_loss: 1.8407 - val_accuracy: 0.2857\n",
      "Epoch 6/20\n",
      "14/14 [==============================] - 2s 146ms/step - loss: 1.1924 - accuracy: 0.6522 - val_loss: 1.6837 - val_accuracy: 0.3929\n",
      "Epoch 7/20\n",
      "14/14 [==============================] - 2s 146ms/step - loss: 1.0524 - accuracy: 0.6474 - val_loss: 1.4695 - val_accuracy: 0.5000\n",
      "Epoch 8/20\n",
      "14/14 [==============================] - 2s 146ms/step - loss: 0.7428 - accuracy: 0.7808 - val_loss: 1.7208 - val_accuracy: 0.5000\n",
      "Epoch 9/20\n",
      "14/14 [==============================] - 2s 146ms/step - loss: 0.6906 - accuracy: 0.7607 - val_loss: 1.5043 - val_accuracy: 0.5357\n",
      "Epoch 10/20\n",
      "14/14 [==============================] - 2s 147ms/step - loss: 0.4114 - accuracy: 0.8858 - val_loss: 1.4450 - val_accuracy: 0.5714\n",
      "Epoch 11/20\n",
      "14/14 [==============================] - 2s 147ms/step - loss: 0.3517 - accuracy: 0.9006 - val_loss: 1.7270 - val_accuracy: 0.5000\n",
      "Epoch 12/20\n",
      "14/14 [==============================] - 2s 146ms/step - loss: 0.2109 - accuracy: 0.9661 - val_loss: 1.5220 - val_accuracy: 0.5000\n",
      "Epoch 13/20\n",
      "14/14 [==============================] - 2s 146ms/step - loss: 0.1532 - accuracy: 0.9414 - val_loss: 1.5374 - val_accuracy: 0.5000\n",
      "Epoch 14/20\n",
      "14/14 [==============================] - 2s 146ms/step - loss: 0.0951 - accuracy: 0.9918 - val_loss: 2.0488 - val_accuracy: 0.4286\n",
      "Epoch 15/20\n",
      "14/14 [==============================] - 2s 146ms/step - loss: 0.1934 - accuracy: 0.9508 - val_loss: 1.6590 - val_accuracy: 0.5357\n",
      "Epoch 16/20\n",
      "14/14 [==============================] - 2s 146ms/step - loss: 0.2595 - accuracy: 0.8941 - val_loss: 1.5434 - val_accuracy: 0.6429\n",
      "Epoch 17/20\n",
      "14/14 [==============================] - 2s 153ms/step - loss: 0.0735 - accuracy: 0.9959 - val_loss: 1.3878 - val_accuracy: 0.6071\n",
      "Epoch 18/20\n",
      "14/14 [==============================] - 2s 152ms/step - loss: 0.0744 - accuracy: 0.9696 - val_loss: 1.6064 - val_accuracy: 0.6071\n",
      "Epoch 19/20\n",
      "14/14 [==============================] - 2s 152ms/step - loss: 0.0219 - accuracy: 1.0000 - val_loss: 1.6418 - val_accuracy: 0.4643\n",
      "Epoch 20/20\n",
      "14/14 [==============================] - 2s 146ms/step - loss: 0.0152 - accuracy: 1.0000 - val_loss: 1.5523 - val_accuracy: 0.6786\n"
     ]
    }
   ],
   "source": [
    "history = model.fit(x=X_train, y=y_train_onehot,\n",
    "                    validation_data=(X_val, y_val_onehot),\n",
    "                    epochs=20, batch_size=8,\n",
    "                    callbacks=callbacks_list,\n",
    "                    verbose=1) # 訓練紀錄顯示"
   ]
  },
  {
   "cell_type": "code",
   "execution_count": 17,
   "id": "accepted-lingerie",
   "metadata": {},
   "outputs": [],
   "source": [
    "import matplotlib.pyplot as plt\n",
    "def show_train_history(train_history, train, validation):\n",
    "    plt.plot(train_history.history[train])\n",
    "    plt.plot(train_history.history[validation])\n",
    "    plt.title('Train History')\n",
    "    plt.ylabel(train)\n",
    "    plt.xlabel('Epoch')\n",
    "    plt.legend(['train', 'validation'], loc='upper left')\n",
    "    plt.show()"
   ]
  },
  {
   "cell_type": "code",
   "execution_count": 18,
   "id": "demanding-stage",
   "metadata": {},
   "outputs": [
    {
     "data": {
      "image/png": "[encoded data removed]",
      "text/plain": [
       "<Figure size 432x288 with 1 Axes>"
      ]
     },
     "metadata": {
      "needs_background": "light"
     },
     "output_type": "display_data"
    }
   ],
   "source": [
    "# 1. 圖表顯示 loss\n",
    "model.load_weights(model_save_dir+\"/\"+model_name+\".h5\")\n",
    "show_train_history(history, 'loss', 'val_loss')"
   ]
  },
  {
   "cell_type": "code",
   "execution_count": 19,
   "id": "behind-tractor",
   "metadata": {},
   "outputs": [
    {
     "name": "stdout",
     "output_type": "stream",
     "text": [
      "Accuracy of testing data = 70.00%\n"
     ]
    }
   ],
   "source": [
    "scores = model.evaluate(X_test, y_test_onehot, batch_size=8, verbose=0)\n",
    "print(\"Accuracy of testing data = {:2.2f}%\".format(scores[1]*100.0))"
   ]
  },
  {
   "cell_type": "code",
   "execution_count": 20,
   "id": "defined-stick",
   "metadata": {},
   "outputs": [],
   "source": [
    "# import pickle\n",
    "# def save_history(history, fn):\n",
    "#     with open(fn, 'wb') as fw:\n",
    "#         pickle.dump(history.history, fw, protocol=2)\n",
    "# save_history(history,model_save_path+\"_history.bin\")"
   ]
  },
  {
   "cell_type": "code",
   "execution_count": null,
   "id": "completed-macintosh",
   "metadata": {},
   "outputs": [],
   "source": []
  }
 ],
 "metadata": {
  "kernelspec": {
   "display_name": "Python 3",
   "language": "python",
   "name": "python3"
  },
  "language_info": {
   "codemirror_mode": {
    "name": "ipython",
    "version": 3
   },
   "file_extension": ".py",
   "mimetype": "text/x-python",
   "name": "python",
   "nbconvert_exporter": "python",
   "pygments_lexer": "ipython3",
   "version": "3.8.2"
  }
 },
 "nbformat": 4,
 "nbformat_minor": 5
}
